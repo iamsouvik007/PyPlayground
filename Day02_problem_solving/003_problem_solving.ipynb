{
  "nbformat": 4,
  "nbformat_minor": 0,
  "metadata": {
    "colab": {
      "provenance": []
    },
    "kernelspec": {
      "name": "python3",
      "display_name": "Python 3"
    },
    "language_info": {
      "name": "python"
    }
  },
  "cells": [
    {
      "cell_type": "markdown",
      "source": [
        "### `Problem 1`: Write a program that will give you in hand monthly salary after deduction on CTC - HRA(10%), DA(5%), PF(3%) and taxes deduction as below:\n",
        "\n",
        "> Salary(Lakhs) : Tax(%)\n",
        "\n",
        "*   Below 5 : 0%\n",
        "*   5-10 : 10%\n",
        "*   10-20 : 20%\n",
        "*   aboove 20 : 30%"
      ],
      "metadata": {
        "id": "w6RlOAXV2PWh"
      }
    },
    {
      "cell_type": "code",
      "source": [
        "# Write code here\n",
        "#write your code\n",
        "ctc = int(input('Enter your anual CTC:'))\n",
        "\n",
        "if ctc < 5000000:\n",
        "    salary=ctc*.82\n",
        "elif ctc<1000000:\n",
        "    salary=ctc*.72\n",
        "elif ctc<2000000:\n",
        "    salary=ctc*.62\n",
        "else:\n",
        "    salary=ctc*.52\n",
        "\n",
        "print(\"You in hand monthly salary will be-\", round(salary/12,2))"
      ],
      "metadata": {
        "id": "7tMHvKYO2etI",
        "colab": {
          "base_uri": "https://localhost:8080/"
        },
        "outputId": "b0e75887-08f4-43c5-d389-3daafda73358"
      },
      "execution_count": null,
      "outputs": [
        {
          "output_type": "stream",
          "name": "stdout",
          "text": [
            "Enter your anual CTC:1200000\n",
            "You in hand monthly salary will be- 82000.0\n"
          ]
        }
      ]
    },
    {
      "cell_type": "markdown",
      "source": [
        "### `Problem 2`: Write a program that take a user input of three angles and will find out whether it can form a triangle or not.\n",
        "\n",
        "Hint - Sum of all angles is 180 and all angles are positive"
      ],
      "metadata": {
        "id": "tYzCGqwl2hfN"
      }
    },
    {
      "cell_type": "code",
      "source": [
        "# Write code here\n",
        "first = int(input('enter the 1st angle'))\n",
        "second = int(input('enter the 2nd angle'))\n",
        "third = int(input('enter the 3rd angle'))\n",
        "\n",
        "if (first+second+third) == 180 and first>0 and second>0 and third>0:\n",
        "  print('forms a triangle')\n",
        "else:\n",
        "  print('does not form a triangle')"
      ],
      "metadata": {
        "id": "FYEqln-I2kxV",
        "colab": {
          "base_uri": "https://localhost:8080/"
        },
        "outputId": "f1fb9538-188b-45ed-851a-e26091841cff"
      },
      "execution_count": null,
      "outputs": [
        {
          "output_type": "stream",
          "name": "stdout",
          "text": [
            "enter the 1st angle30\n",
            "enter the 2nd angle180\n",
            "enter the 3rd angle-30\n",
            "does not form a triangle\n"
          ]
        }
      ]
    },
    {
      "cell_type": "markdown",
      "source": [
        "### `Problem 3`: Write a program that will take user input of cost price and selling price and determines whether its a loss or a profit."
      ],
      "metadata": {
        "id": "5vEpPh8C2pE4"
      }
    },
    {
      "cell_type": "code",
      "source": [
        "# Write code here\n",
        "# write your code here\n",
        "cost_price = int(input('Enter cost price-'))\n",
        "selling_price = int(input('Enter selling price-'))\n",
        "\n",
        "if cost_price < selling_price:\n",
        "    print('Profit')\n",
        "elif cost_price > selling_price:\n",
        "    print('Loss')\n",
        "else:\n",
        "    print('No Loss No Gain')"
      ],
      "metadata": {
        "id": "jDwBXlkO2sfl",
        "colab": {
          "base_uri": "https://localhost:8080/"
        },
        "outputId": "9ca8214f-a0e2-48ac-8ada-2a61ddf4023d"
      },
      "execution_count": null,
      "outputs": [
        {
          "output_type": "stream",
          "name": "stdout",
          "text": [
            "Enter cost price-6000\n",
            "Enter selling price-12000\n",
            "Profit\n"
          ]
        }
      ]
    },
    {
      "cell_type": "markdown",
      "source": [
        "### `Problem 4`: Write a menu-driven program -\n",
        "1. cm to ft\n",
        "2. km to miles\n",
        "3. USD to INR\n",
        "4. exit\n",
        "\n",
        "Hint\n",
        "- 1 cm = 0.032ft\n",
        "- 1km = 0.62\n",
        "- 1 USD = 80 INR"
      ],
      "metadata": {
        "id": "J_FG_cJW2ugT"
      }
    },
    {
      "cell_type": "code",
      "source": [
        "# Write code here\n",
        "menu = input(\"\"\"\n",
        "Hi select an option\n",
        "1. cms to ft\n",
        "2. km to miles\n",
        "3. USD to INR\n",
        "4. Exit\n",
        "\"\"\")\n",
        "\n",
        "if menu == '1':\n",
        "  cm = float(input('enter the cm value'))\n",
        "  print('ft value is',0.032*cm)\n",
        "elif menu == '2':\n",
        "  km = float(input('enter the km value'))\n",
        "  print('miles value is',km*0.62)\n",
        "elif menu == '3':\n",
        "  usd = float(input('enter usd'))\n",
        "  print('inr',usd*80)\n",
        "else:\n",
        "  exit()"
      ],
      "metadata": {
        "id": "yBHhaCGQ2zpD",
        "colab": {
          "base_uri": "https://localhost:8080/"
        },
        "outputId": "719614a7-77af-48f3-a234-9d4ed9ee355c"
      },
      "execution_count": null,
      "outputs": [
        {
          "name": "stdout",
          "output_type": "stream",
          "text": [
            "\n",
            "Hi select an option\n",
            "1. cms to ft\n",
            "2. km to miles\n",
            "3. USD to INR\n",
            "4. Exit\n",
            "4\n"
          ]
        }
      ]
    },
    {
      "cell_type": "markdown",
      "source": [
        "### `Problem 5` - Exercise 12: Display Fibonacci series up to 10 terms.\n",
        "\n",
        "*Note: The Fibonacci Sequence is a series of numbers. The next number is found by adding up the two numbers before it. The first two numbers are 0 and 1. For example, 0, 1, 1, 2, 3, 5, 8, 13, 21. The next number in this series above is 13+21 = 34*"
      ],
      "metadata": {
        "id": "LJJ30_Yw27ZU"
      }
    },
    {
      "cell_type": "code",
      "source": [
        "# Write code here\n",
        "\n",
        "num1,num2 = 0,1\n",
        "\n",
        "for i in range(10):\n",
        "  print(num1)\n",
        "\n",
        "  next = num1 + num2\n",
        "\n",
        "  num1 = num2\n",
        "  num2 = next"
      ],
      "metadata": {
        "id": "ae_1rpe52-5R",
        "colab": {
          "base_uri": "https://localhost:8080/"
        },
        "outputId": "20970f5d-b08a-4030-96dd-9b7767d92f77"
      },
      "execution_count": null,
      "outputs": [
        {
          "output_type": "stream",
          "name": "stdout",
          "text": [
            "0\n",
            "1\n",
            "1\n",
            "2\n",
            "3\n",
            "5\n",
            "8\n",
            "13\n",
            "21\n",
            "34\n"
          ]
        }
      ]
    },
    {
      "cell_type": "markdown",
      "source": [
        "### `Problem 6` - Find the factorial of a given number.\n",
        "\n",
        "Write a program to use the loop to find the factorial of a given number.\n",
        "\n",
        "The factorial (symbol: `!`) means to multiply all whole numbers from the chosen number down to 1.\n",
        "\n",
        "For example: calculate the factorial of 5\n",
        "\n",
        "```bash\n",
        "5! = 5 × 4 × 3 × 2 × 1 = 120\n",
        "```\n",
        "\n",
        "Output:\n",
        "\n",
        "```bash\n",
        "120\n",
        "```"
      ],
      "metadata": {
        "id": "pk_I_S4m3PT5"
      }
    },
    {
      "cell_type": "code",
      "source": [
        "# Write code here\n",
        "num = int(input('enter the number'))\n",
        "\n",
        "fact = 1\n",
        "for i in range(1,num+1):\n",
        "  fact = fact*i\n",
        "\n",
        "print(fact)\n"
      ],
      "metadata": {
        "id": "lzXxHegx3Rkc",
        "colab": {
          "base_uri": "https://localhost:8080/"
        },
        "outputId": "e931d5b4-6cdf-4448-eca4-f9595dfb24ab"
      },
      "execution_count": null,
      "outputs": [
        {
          "output_type": "stream",
          "name": "stdout",
          "text": [
            "enter the number5\n",
            "120\n"
          ]
        }
      ]
    },
    {
      "cell_type": "markdown",
      "source": [
        "### `Problem 7` - Reverse a given integer number.\n",
        "\n",
        "Example:\n",
        "\n",
        "`Input:`\n",
        "\n",
        "```bash\n",
        "76542\n",
        "```\n",
        "\n",
        "`Output:`\n",
        "\n",
        "```bash\n",
        "24567\n",
        "```"
      ],
      "metadata": {
        "id": "-17IOi-g3UpU"
      }
    },
    {
      "cell_type": "code",
      "source": [
        "# Write code here\n",
        "number = int(input('enter the number'))\n",
        "\n",
        "rev = 0\n",
        "\n",
        "while number>0:\n",
        "  last = number%10\n",
        "  rev = rev*10 + last\n",
        "  number = number//10\n",
        "\n",
        "print(rev)"
      ],
      "metadata": {
        "id": "wJwLpKCr3aVA",
        "colab": {
          "base_uri": "https://localhost:8080/"
        },
        "outputId": "d99c907f-021a-4c25-f0e4-92930828e5ae"
      },
      "execution_count": null,
      "outputs": [
        {
          "output_type": "stream",
          "name": "stdout",
          "text": [
            "enter the number123456\n",
            "654321\n"
          ]
        }
      ]
    },
    {
      "cell_type": "markdown",
      "source": [
        "### `Problem 8`: Take a user input as integer N. Find out the sum from 1 to N. If any number if divisible by 5, then skip that number. And if the sum is greater than 300, don't need to calculate the sum further more. Print the final result. And don't use for loop to solve this problem.\n",
        "\n",
        "**Example 1:**\n",
        "\n",
        "`Input:`\n",
        "\n",
        "```bash\n",
        "30\n",
        "```\n",
        "\n",
        "`Output:`\n",
        "\n",
        "```bash\n",
        "276\n",
        "```"
      ],
      "metadata": {
        "id": "-t8PJQaY3sHf"
      }
    },
    {
      "cell_type": "code",
      "source": [
        "# Write code here\n",
        "N = int(input('enter the number'))\n",
        "sum = 0\n",
        "i = 1\n",
        "\n",
        "while i < N+1:\n",
        "  if i % 5 == 0:\n",
        "    i+=1\n",
        "    continue\n",
        "\n",
        "  sum += i\n",
        "\n",
        "  if sum > 300:\n",
        "    sum = sum - i\n",
        "    break\n",
        "\n",
        "  i+=1\n",
        "\n",
        "print(sum)\n"
      ],
      "metadata": {
        "id": "GZB6mGMP3ujT",
        "colab": {
          "base_uri": "https://localhost:8080/"
        },
        "outputId": "9ea462ad-b81a-41d8-a9ee-b2362b15b2fb"
      },
      "execution_count": null,
      "outputs": [
        {
          "output_type": "stream",
          "name": "stdout",
          "text": [
            "enter the number50\n",
            "276\n"
          ]
        }
      ]
    },
    {
      "cell_type": "markdown",
      "source": [
        "### `Problem 9`: Write a program that keeps on accepting a number from the user until the user enters Zero. Display the sum and average of all the numbers."
      ],
      "metadata": {
        "id": "Q7ggImeA3xm4"
      }
    },
    {
      "cell_type": "code",
      "source": [
        "# Write code here\n",
        "sum = 0\n",
        "count = 0\n",
        "\n",
        "while True:\n",
        "  num = int(input('enter number'))\n",
        "  if num == 0:\n",
        "    break\n",
        "  sum = sum + num\n",
        "  count = count + 1\n",
        "\n",
        "print('sum',sum)\n",
        "print('avg',sum/count)"
      ],
      "metadata": {
        "id": "t_YDSZDe4Kdo",
        "colab": {
          "base_uri": "https://localhost:8080/"
        },
        "outputId": "5fd8c6df-5c25-4248-9af1-38c8c372c446"
      },
      "execution_count": null,
      "outputs": [
        {
          "output_type": "stream",
          "name": "stdout",
          "text": [
            "enter number1\n",
            "enter number2\n",
            "enter number3\n",
            "enter number4\n",
            "enter number5\n",
            "enter number0\n",
            "sum 15\n",
            "avg 3.0\n"
          ]
        }
      ]
    },
    {
      "cell_type": "markdown",
      "source": [
        "###`Problem 9`: Write a program which will find all such numbers which are divisible by 7 but are not a multiple of 5, between 2000 and 3200 (both included). The numbers obtained should be printed in a comma-separated sequence on a single line."
      ],
      "metadata": {
        "id": "6EhvEMvm4R7s"
      }
    },
    {
      "cell_type": "code",
      "source": [
        "# Write code here\n",
        "L = []\n",
        "for i in range(2000,3201):\n",
        "  if i % 7 == 0 and i % 5 != 0:\n",
        "    L.append(str(i))\n",
        "\n",
        "print(\",\".join(L))\n"
      ],
      "metadata": {
        "id": "d6RgP1B34T6c",
        "colab": {
          "base_uri": "https://localhost:8080/"
        },
        "outputId": "62fc7ad1-30c0-4829-cc1c-89b19562c56c"
      },
      "execution_count": null,
      "outputs": [
        {
          "output_type": "stream",
          "name": "stdout",
          "text": [
            "2002,2009,2016,2023,2037,2044,2051,2058,2072,2079,2086,2093,2107,2114,2121,2128,2142,2149,2156,2163,2177,2184,2191,2198,2212,2219,2226,2233,2247,2254,2261,2268,2282,2289,2296,2303,2317,2324,2331,2338,2352,2359,2366,2373,2387,2394,2401,2408,2422,2429,2436,2443,2457,2464,2471,2478,2492,2499,2506,2513,2527,2534,2541,2548,2562,2569,2576,2583,2597,2604,2611,2618,2632,2639,2646,2653,2667,2674,2681,2688,2702,2709,2716,2723,2737,2744,2751,2758,2772,2779,2786,2793,2807,2814,2821,2828,2842,2849,2856,2863,2877,2884,2891,2898,2912,2919,2926,2933,2947,2954,2961,2968,2982,2989,2996,3003,3017,3024,3031,3038,3052,3059,3066,3073,3087,3094,3101,3108,3122,3129,3136,3143,3157,3164,3171,3178,3192,3199\n"
          ]
        }
      ]
    },
    {
      "cell_type": "markdown",
      "source": [
        "###`Problem 10`: Write a program, which will find all such numbers between 1000 and 3000 (both included) such that each digit of the number is an even number. The numbers obtained should be printed in a space-separated sequence on a single line.\n",
        "\n"
      ],
      "metadata": {
        "id": "tYvmRR-G4Vp4"
      }
    },
    {
      "cell_type": "code",
      "source": [
        "# Write code here\n",
        "L = []\n",
        "for i in range(1000,3001):\n",
        "  flag = True\n",
        "\n",
        "  curr = i\n",
        "\n",
        "  while curr > 0:\n",
        "    last = curr%10\n",
        "    if last % 2 != 0:\n",
        "      flag = False\n",
        "      break\n",
        "    curr = curr//10\n",
        "\n",
        "  if flag == True:\n",
        "    L.append(str(i))\n",
        "\n",
        "print(\",\".join(L))"
      ],
      "metadata": {
        "id": "k6Gs1kIf4k19",
        "colab": {
          "base_uri": "https://localhost:8080/"
        },
        "outputId": "cdcbd47d-3d61-4592-e018-3a6e117162f1"
      },
      "execution_count": null,
      "outputs": [
        {
          "output_type": "stream",
          "name": "stdout",
          "text": [
            "2000,2002,2004,2006,2008,2020,2022,2024,2026,2028,2040,2042,2044,2046,2048,2060,2062,2064,2066,2068,2080,2082,2084,2086,2088,2200,2202,2204,2206,2208,2220,2222,2224,2226,2228,2240,2242,2244,2246,2248,2260,2262,2264,2266,2268,2280,2282,2284,2286,2288,2400,2402,2404,2406,2408,2420,2422,2424,2426,2428,2440,2442,2444,2446,2448,2460,2462,2464,2466,2468,2480,2482,2484,2486,2488,2600,2602,2604,2606,2608,2620,2622,2624,2626,2628,2640,2642,2644,2646,2648,2660,2662,2664,2666,2668,2680,2682,2684,2686,2688,2800,2802,2804,2806,2808,2820,2822,2824,2826,2828,2840,2842,2844,2846,2848,2860,2862,2864,2866,2868,2880,2882,2884,2886,2888\n"
          ]
        }
      ]
    },
    {
      "cell_type": "markdown",
      "source": [
        "###`Problem 11`: A robot moves in a plane starting from the original point (0,0). The robot can move toward UP, DOWN, LEFT and RIGHT with a given steps.\n",
        "The trace of robot movement is shown as the following:\n",
        "```\n",
        "UP 5\n",
        "DOWN 3\n",
        "LEFT 3\n",
        "RIGHT 2\n",
        "!\n",
        "```\n",
        "> The numbers after the direction are steps.\n",
        "\n",
        "> `!` means robot stop there.\n",
        "\n",
        "**Please write a program to compute the distance from current position after a sequence of movement and original point.**\n",
        "\n",
        "*If the distance is a float, then just print the nearest integer.*\n",
        "\n",
        "Example:\n",
        "\n",
        "`Input`:\n",
        "```\n",
        "UP 5\n",
        "DOWN 3\n",
        "LEFT 3\n",
        "RIGHT 2\n",
        "!\n",
        "```\n",
        "`Output`:\n",
        "```\n",
        "2\n",
        "```"
      ],
      "metadata": {
        "id": "GV18IINT4mf5"
      }
    },
    {
      "cell_type": "code",
      "source": [
        "# Write code here\n",
        "pos = [0,0]\n",
        "while True:\n",
        "  s = input('Enter the robot path')\n",
        "  if s == '!':\n",
        "    break\n",
        "  direction = s.split()[0]\n",
        "  steps = int(s.split()[1])\n",
        "\n",
        "  if direction == 'UP':\n",
        "    pos[1] = pos[1] + steps\n",
        "  elif direction == 'DOWN':\n",
        "    pos[1] = pos[1] - steps\n",
        "  elif direction == 'LEFT':\n",
        "    pos[0] = pos[0] - steps\n",
        "  elif direction == 'RIGHT':\n",
        "    pos[0] = pos[0] + steps\n",
        "  else:\n",
        "    pass\n",
        "\n",
        "print('new pos',pos)\n",
        "print((pos[0]**2 + pos[1]**2)**0.5)\n",
        "\n",
        "\n",
        "\n",
        "\n"
      ],
      "metadata": {
        "id": "6UNMC2aR4w5x",
        "colab": {
          "base_uri": "https://localhost:8080/"
        },
        "outputId": "1508a042-5a7c-4699-ed52-b23f0782d125"
      },
      "execution_count": null,
      "outputs": [
        {
          "output_type": "stream",
          "name": "stdout",
          "text": [
            "Enter the robot pathUP 10\n",
            "Enter the robot pathDOWN 5\n",
            "Enter the robot pathLEFT 13\n",
            "Enter the robot path!\n",
            "new pos [-13, 5]\n",
            "13.92838827718412\n"
          ]
        }
      ]
    },
    {
      "cell_type": "markdown",
      "source": [
        "###`Problem 12`:Write a program to print whether a given number is a prime number or not"
      ],
      "metadata": {
        "id": "3fsAIAhK5GYY"
      }
    },
    {
      "cell_type": "code",
      "source": [
        "# Write code here\n",
        "num = int(input('enter the num'))\n",
        "\n",
        "flag = True\n",
        "for i in range(2,num):\n",
        "  if num%i == 0:\n",
        "    flag = False\n",
        "    break\n",
        "\n",
        "if flag == True:\n",
        "  print('Prime')\n",
        "else:\n",
        "  print('Not Prime')\n",
        "\n",
        "\n"
      ],
      "metadata": {
        "id": "j6y91lxy5LZs",
        "colab": {
          "base_uri": "https://localhost:8080/"
        },
        "outputId": "30254bcb-0e39-4f28-fb79-35b065459779"
      },
      "execution_count": null,
      "outputs": [
        {
          "output_type": "stream",
          "name": "stdout",
          "text": [
            "enter the num21\n",
            "Not Prime\n"
          ]
        }
      ]
    },
    {
      "cell_type": "markdown",
      "source": [
        "###`Problem 13`:Print all the Armstrong numbers in a given range.\n",
        "- Range will be provided by the user<br>\n",
        "\n",
        "An **Armstrong number** of *n* digits is a number such that the **sum of its digits each raised to the power of n** equals the number itself.\n",
        "For example 0, 1, 153, 370, 371 and 407 are the Armstrong numbers."
      ],
      "metadata": {
        "id": "asAbmbK-5NHv"
      }
    },
    {
      "cell_type": "code",
      "source": [
        "# Write code here\n",
        "start = int(input(\"Enter the start of the range: \"))\n",
        "end = int(input(\"Enter the end of the range: \"))\n",
        "\n",
        "for num in range(start, end+1):\n",
        "    temp = num\n",
        "    sum = 0\n",
        "    order = len(str(num))\n",
        "    while temp > 0:\n",
        "        digit = temp % 10\n",
        "        sum += digit ** order\n",
        "        temp //= 10\n",
        "    if num == sum:\n",
        "        print(num)\n",
        "\n"
      ],
      "metadata": {
        "id": "PZuI67pm5jCT",
        "colab": {
          "base_uri": "https://localhost:8080/"
        },
        "outputId": "d10d58d3-2bbc-4130-f53e-8f5803ad587d"
      },
      "execution_count": null,
      "outputs": [
        {
          "output_type": "stream",
          "name": "stdout",
          "text": [
            "Enter the start of the range: 0\n",
            "Enter the end of the range: 200\n",
            "0\n",
            "1\n",
            "2\n",
            "3\n",
            "4\n",
            "5\n",
            "6\n",
            "7\n",
            "8\n",
            "9\n",
            "153\n"
          ]
        }
      ]
    },
    {
      "cell_type": "code",
      "source": [],
      "metadata": {
        "id": "XyB44oi0sQCg"
      },
      "execution_count": null,
      "outputs": []
    },
    {
      "cell_type": "markdown",
      "source": [
        "`Explanation`\n",
        "\n",
        "\n",
        "## ✅ What is an Armstrong Number?\n",
        "\n",
        "An **Armstrong number** of *n* digits is a number such that the **sum of its digits each raised to the power of n** equals the number itself.\n",
        "\n",
        "* For **3-digit** numbers (our case here):\n",
        "  A number is Armstrong if:\n",
        "\n",
        "  $$\n",
        "  abc = a^3 + b^3 + c^3\n",
        "  $$\n",
        "\n",
        "  Examples:\n",
        "\n",
        "  * 153 → $1^3 + 5^3 + 3^3 = 153$ ✅\n",
        "  * 370 → $3^3 + 7^3 + 0^3 = 370$ ✅\n",
        "\n",
        "---\n",
        "\n",
        "## 💡 Concepts Used:\n",
        "\n",
        "| Concept       | What it means                                    |\n",
        "| ------------- | ------------------------------------------------ |\n",
        "| `for` loop    | To check every number in a range                 |\n",
        "| Type casting  | `int(input(...))` converts user input to integer |\n",
        "| `while` loop  | Used to break down a number into digits          |\n",
        "| `**` operator | This means \"raise to power\"                      |\n",
        "| `%` operator  | Gives the last digit of a number                 |\n",
        "| `//` operator | Removes the last digit (integer division)        |\n",
        "\n",
        "---\n",
        "\n",
        "## 🧠 Code Breakdown\n",
        "\n",
        "```python\n",
        "start = int(input(\"Enter the start of the range: \"))\n",
        "end = int(input(\"Enter the end of the range: \"))\n",
        "```\n",
        "\n",
        "* 🔹 Asks the user to input a **start** and **end** for the range of numbers to check.\n",
        "* 🔹 `int()` converts input from text to a number.\n",
        "\n",
        "---\n",
        "\n",
        "```python\n",
        "for num in range(start, end + 1):\n",
        "```\n",
        "\n",
        "* Loops through each number in the user-given range (inclusive).\n",
        "\n",
        "---\n",
        "\n",
        "```python\n",
        "    temp = num\n",
        "    sum = 0\n",
        "    order = len(str(num))\n",
        "```\n",
        "\n",
        "* `temp` stores the number temporarily (we'll use this to extract digits).\n",
        "* `sum` will keep track of the sum of the cubes of the digits.\n",
        "* `order` is the number of digits in the number.\n",
        "  For example, `153` → `order = 3`.\n",
        "\n",
        "---\n",
        "\n",
        "```python\n",
        "    while temp > 0:\n",
        "        digit = temp % 10\n",
        "        sum += digit ** order\n",
        "        temp //= 10\n",
        "```\n",
        "\n",
        "### 🔄 What happens here:\n",
        "\n",
        "* Repeatedly extracts digits using `% 10` (gets last digit).\n",
        "* Raises that digit to the `order` (cube for 3-digit, etc.).\n",
        "* Adds that value to `sum`.\n",
        "* Removes the last digit using `// 10`.\n",
        "\n",
        "---\n",
        "\n",
        "```python\n",
        "    if num == sum:\n",
        "        print(num)\n",
        "```\n",
        "\n",
        "* ✅ Finally, if the original number equals the calculated sum of its digits raised to the power → it's an **Armstrong number**, so we print it!\n",
        "\n"
      ],
      "metadata": {
        "id": "kf7qSvvErXC4"
      }
    },
    {
      "cell_type": "markdown",
      "source": [
        "###`Problem 14`:Calculate the angle between the hour hand and minute hand.\n",
        "\n",
        "Note: There can be two angles between hands; we need to print a minimum of two. Also, we need to print the floor of the final result angle. For example, if the final angle is 10.61, we need to print 10.\n",
        "\n",
        "Input:<br>\n",
        "H = 9 , M = 0<br>\n",
        "Output:<br>\n",
        "90<br>\n",
        "Explanation:<br>\n",
        "The minimum angle between hour and minute\n",
        "hand when the time is 9 is 90 degress."
      ],
      "metadata": {
        "id": "ClCQZMqT7gK0"
      }
    },
    {
      "cell_type": "code",
      "source": [
        "# Write code here\n",
        "\n",
        "# Write code here\n",
        "h = int(input('Enter hours hand-'))\n",
        "m = int(input('Enter minute hand-'))\n",
        "\n",
        "# validate the input\n",
        "if (h < 0 or m < 0 or h > 12 or m > 60):\n",
        "    print('Wrong input')\n",
        "\n",
        "# Idea is to minute angle - hour agnle from clockwise from 12 hour point\n",
        "\n",
        "# 1 minute in minute angle manke 6 degree. (60 minute -> 360 degree)\n",
        "m_angle = m*6\n",
        "\n",
        "# every hour point yeilds to 30degree-- 12 hours-360degree plus if minute hand moves hour hands move too\n",
        "# Every minute after hour hand take 0.5 degree movement. clockwise\n",
        "h_angle = h*30 + m*0.5\n",
        "\n",
        "# Take abs difference b/w them\n",
        "angle = abs(h_angle - m_angle)\n",
        "\n",
        "\n",
        "if angle>180:\n",
        "    print(360-angle)\n",
        "else:\n",
        "    print(angle)"
      ],
      "metadata": {
        "id": "tNBTCZML7jy_",
        "colab": {
          "base_uri": "https://localhost:8080/"
        },
        "outputId": "8058b93a-3d93-4ace-d9e7-4ba496ae08aa"
      },
      "execution_count": null,
      "outputs": [
        {
          "output_type": "stream",
          "name": "stdout",
          "text": [
            "Enter hours hand-12\n",
            "Enter minute hand-00\n",
            "0.0\n"
          ]
        }
      ]
    },
    {
      "cell_type": "markdown",
      "source": [
        "`Explaination:` This code calculates the angle between the hour and minute hand on a clock. It takes user input for the hour and minute hand positions, validates the input to make sure it is within the range of a clock (0-12 for hours and 0-60 for minutes), then calculates the angles of the hour and minute hand based on their position on the clock. It then finds the difference between the two angles and takes the absolute value of that difference. It then checks if the angle is greater than 180, if it is, it prints the difference of 360 and the angle, else it prints the angle. The final output is the angle between the hands on the clock."
      ],
      "metadata": {
        "id": "tHpKy4FDqS5c"
      }
    },
    {
      "cell_type": "code",
      "source": [],
      "metadata": {
        "id": "NEq7iaUBsHUQ"
      },
      "execution_count": null,
      "outputs": []
    },
    {
      "cell_type": "markdown",
      "source": [
        "Given time:\n",
        "\n",
        "* `H` = hour hand position (0–12)\n",
        "* `M` = minute hand position (0–59)\n",
        "\n",
        "We want to:\n",
        "\n",
        "* ✅ Find the **smaller** angle between the hour and minute hands\n",
        "* ✅ **Floor** the result (i.e., ignore decimal part using `int()`)\n",
        "\n",
        "---\n",
        "\n",
        "## 🔑 Key Concepts:\n",
        "\n",
        "| Concept                         | Value                                 |\n",
        "| ------------------------------- | ------------------------------------- |\n",
        "| Clock is a circle               | 360°                                  |\n",
        "| 1 hour = 30°                    | $360° / 12 = 30°$  (For hour hand, as for hour hand full circle is 12 Hrs)                   |\n",
        "| 1 minute = 6°                   | $360° / 60 = 6°$  (For minute hand, as for minute hand full circle is 60 minute)                     |\n",
        "| Hour hand moves 0.5° per minute | Because it moves gradually, not jumps |\n",
        "\n",
        "---\n",
        "\n",
        "## 🔍 Step-by-step Code Explanation\n",
        "\n",
        "```python\n",
        "h = int(input('Enter hours hand-'))\n",
        "m = int(input('Enter minute hand-'))\n",
        "```\n",
        "\n",
        "* 📥 Input time from user: `h` for hours, `m` for minutes\n",
        "\n",
        "---\n",
        "\n",
        "### ✅ Step 1: Validate Input\n",
        "\n",
        "```python\n",
        "if (h < 0 or m < 0 or h > 12 or m > 60):\n",
        "    print('Wrong input')\n",
        "```\n",
        "\n",
        "* Makes sure input is within correct range.\n",
        "  (Optional: you might also convert `h == 12` to `0` and `m == 60` to `0` internally)\n",
        "\n",
        "---\n",
        "\n",
        "### ✅ Step 2: Calculate minute hand angle\n",
        "\n",
        "```python\n",
        "m_angle = m * 6\n",
        "```\n",
        "\n",
        "* 🔄 1 minute = 6°\n",
        "* So, minute hand at `m` minutes = `m × 6` degrees from 12 o’clock\n",
        "\n",
        "---\n",
        "\n",
        "### ✅ Step 3: Calculate hour hand angle\n",
        "\n",
        "```python\n",
        "h_angle = h * 30 + m * 0.5\n",
        "```\n",
        "\n",
        "* 1 hour = 30°\n",
        "* BUT hour hand also **moves a little with minutes** → 0.5° per minute\n",
        "  So we add $m × 0.5$\n",
        "\n",
        "> Example: 9:30\n",
        "> → `h_angle = 9×30 + 30×0.5 = 270 + 15 = 285°`\n",
        "![image.png](data:image/png;base64,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)\n",
        "---\n",
        "\n",
        "### ✅ Step 4: Find angle difference\n",
        "\n",
        "```python\n",
        "angle = abs(h_angle - m_angle)\n",
        "```\n",
        "\n",
        "* 🔄 Use `abs()` to get the **positive** difference\n",
        "\n",
        "---\n",
        "\n",
        "### ✅ Step 5: Find smaller of the two angles\n",
        "\n",
        "```python\n",
        "if angle > 180:\n",
        "    print(int(360 - angle))  # Floor using int()\n",
        "else:\n",
        "    print(int(angle))\n",
        "```\n",
        "\n",
        "* Since the clock is circular, the angle between the hands can go **clockwise or counterclockwise**.\n",
        "* We always want the **smaller** angle, so we take `min(angle, 360 - angle)`\n",
        "* Finally, **floor** the value using `int()` to remove decimals\n",
        "\n",
        "At 9:30,\n",
        "\n",
        "the angle between the hour and minute hands is:\n",
        "`\n",
        "285 - 180 = 105\n",
        "`\n",
        "this is already smaller than 180 so  this is our final answer.\n",
        "\n",
        "\n",
        "![image.png](data:image/png;base64,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)\n",
        "\n",
        "\n",
        "---\n",
        "\n",
        "## 🧪 Example\n",
        "\n",
        "### Input:\n",
        "\n",
        "```\n",
        "Enter hours hand- 9\n",
        "Enter minute hand- 0\n",
        "```\n",
        "\n",
        "### Output:\n",
        "\n",
        "```\n",
        "90\n",
        "```\n",
        "\n",
        "### Why?\n",
        "\n",
        "* Hour hand at 9 → $9×30 = 270°$\n",
        "* Minute hand at 0 → $0×6 = 0°$\n",
        "* Absolute difference = 270°\n",
        "* $360 - 270 = 90°$ ✅\n",
        "\n"
      ],
      "metadata": {
        "id": "F_rdnNnfp0Bq"
      }
    },
    {
      "cell_type": "markdown",
      "source": [
        "###`Problem 15`:Given two rectangles, find if the given two rectangles overlap or not. A rectangle is denoted by providing the x and y coordinates of two points: the left top corner and the right bottom corner of the rectangle. Two rectangles sharing a side are considered overlapping. (L1 and R1 are the extreme points of the first rectangle and L2 and R2 are the extreme points of the second rectangle).\n",
        "\n",
        "Note: It may be assumed that the rectangles are parallel to the coordinate axis.\n",
        "\n",
        "<img src='https://www.geeksforgeeks.org/wp-content/uploads/rectanglesOverlap.png' width='300' height='200'>"
      ],
      "metadata": {
        "id": "GwacF9Co72Qc"
      }
    },
    {
      "cell_type": "code",
      "source": [
        "# Write code here\n",
        "print(\"Enter both Rectangel points coordinates <x y>\")\n",
        "\n",
        "l1_x, l1_y = list(map(int, input('Enter L1 coordinate value  (Two value space seperated):').split()))\n",
        "r1_x, r1_y = list(map(int, input('Enter r1 coordinate value,(Two value space seperated):').split()))\n",
        "\n",
        "l2_x, l2_y = list(map(int, input('Enter L2 coordinate value,(Two value space seperated):').split()))\n",
        "r2_x, r2_y = list(map(int, input('Enter r2 coordinate value,(Two value space seperated):').split()))\n",
        "\n",
        "# if rectangle has area 0, no overlap\n",
        "if l1_x == r1_x or l1_y == r1_y or r2_x == l2_x or l2_y == r2_y:\n",
        "  print(\"Don't Overlap\")\n",
        "\n",
        "# If one rectangle is on left side of other\n",
        "elif l1_x > r2_x or l2_x > r1_x:\n",
        "  print(\"Don't Overlap\")\n",
        "\n",
        "# If one rectangle is above other\n",
        "elif r1_y > l2_y or r2_y > l1_y:\n",
        "  print(\"Don't Overlap\")\n",
        "else:\n",
        "  print(\"Overlap\")"
      ],
      "metadata": {
        "id": "6rrw_lpH78Rs"
      },
      "execution_count": null,
      "outputs": []
    },
    {
      "cell_type": "markdown",
      "source": [
        "`Explaination:` The given code takes the coordinates of two rectangles from the user and checks if they overlap.\n",
        "* It does this by first checking if either rectangle has an area of 0 (i.e. one of the sides has length 0), in which case it prints \"Don't Overlap\".\n",
        "* It then checks if one rectangle is entirely to the left or above the other, in which case it also prints \"Don't Overlap\". If none of these conditions are true, it prints \"Overlap\"."
      ],
      "metadata": {
        "id": "LZRwjbUep7o3"
      }
    },
    {
      "cell_type": "markdown",
      "source": [
        "Let's walk through code:\n",
        "\n",
        "---\n",
        "\n",
        "### 🧠 **Concept:**\n",
        "\n",
        "Each rectangle is defined by:\n",
        "\n",
        "* **Top-left corner:** $L(x, y)$\n",
        "* **Bottom-right corner:** $R(x, y)$\n",
        "\n",
        "Rectangles are axis-aligned (i.e., not rotated). You’re asked to check if these two rectangles **overlap**.\n",
        "\n",
        "Two rectangles **do not** overlap if:\n",
        "\n",
        "1. One is completely **to the left** of the other.\n",
        "2. One is completely **above** the other.\n",
        "\n",
        "Otherwise, they **overlap** — even if it’s just at the edge.\n",
        "\n",
        "---\n",
        "\n",
        "### ✅ **Code Summary and Logic Explained**\n",
        "\n",
        "```python\n",
        "# User enters coordinates of 2 rectangles\n",
        "l1_x, l1_y = ...  # Top-left of rect1\n",
        "r1_x, r1_y = ...  # Bottom-right of rect1\n",
        "\n",
        "l2_x, l2_y = ...  # Top-left of rect2\n",
        "r2_x, r2_y = ...  # Bottom-right of rect2\n",
        "```\n",
        "\n",
        "#### Step-by-step Logic\n",
        "\n",
        "1. ✅ **Zero area check:**\n",
        "\n",
        "   ```python\n",
        "   if l1_x == r1_x or l1_y == r1_y or r2_x == l2_x or l2_y == r2_y\n",
        "   ```\n",
        "\n",
        "   If any rectangle has width or height = 0, it’s not valid → no overlap.\n",
        "\n",
        "2. ✅ **Check if one rectangle is entirely to the left of the other:**\n",
        "\n",
        "   ```python\n",
        "   elif l1_x > r2_x or l2_x > r1_x\n",
        "   ```\n",
        "\n",
        "3. ✅ **Check if one rectangle is entirely above the other:**\n",
        "\n",
        "   ```python\n",
        "   elif r1_y > l2_y or r2_y > l1_y\n",
        "   ```\n",
        "\n",
        "   * Remember: In most coordinate systems (like computer graphics), the **y-coordinate increases going down**.\n",
        "   * So \"r1\\_y > l2\\_y\" means r1 is **above** l2.\n",
        "\n",
        "4. ✅ **If none of the above conditions are true:**\n",
        "\n",
        "   ```python\n",
        "   else:\n",
        "       print(\"Overlap\")\n",
        "   ```\n",
        "\n",
        "---\n",
        "\n",
        "### 🔍 **Example**\n",
        "\n",
        "Let’s say:\n",
        "\n",
        "```\n",
        "Rectangle 1: L1 = (0, 10), R1 = (10, 0)\n",
        "Rectangle 2: L2 = (5, 5), R2 = (15, 0)\n",
        "```\n",
        "\n",
        "```\n",
        "l1_x = 0, l1_y = 10, r1_x = 10, r1_y = 0\n",
        "l2_x = 5, l2_y = 5, r2_x = 15, r2_y = 0\n",
        "```\n",
        "They overlap because:\n",
        "\n",
        "* R1 is not to the left of L2\n",
        "\n",
        "    `l1_x > r2_x or l2_x > r1_x` evaluates to False\n",
        "\n",
        "* R1 is not above L2\n",
        "\n",
        "    `r1_y > l2_y or r2_y > l1_y`  evaluates to False\n",
        "\n",
        "* Their x and y intervals intersect\n",
        "\n",
        "They share common area → so they **overlap**.\n",
        "\n",
        "\n",
        "![image.png](data:image/png;base64,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)---\n",
        "\n",
        "### ✅ Output:\n",
        "\n",
        "* If rectangles **do overlap** → `\"Overlap\"`\n",
        "* If they **do not overlap** → `\"Don't Overlap\"`\n",
        "\n",
        "\n"
      ],
      "metadata": {
        "id": "6LFSFzeJnw38"
      }
    },
    {
      "cell_type": "code",
      "source": [],
      "metadata": {
        "id": "JyO8l0U-tSCQ"
      },
      "execution_count": null,
      "outputs": []
    }
  ]
}