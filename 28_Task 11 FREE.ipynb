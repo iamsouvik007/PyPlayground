{
  "cells": [
    {
      "cell_type": "markdown",
      "metadata": {
        "id": "ajVfqio_GinI"
      },
      "source": [
        "## Exception Handling\n"
      ]
    },
    {
      "cell_type": "markdown",
      "metadata": {
        "id": "0qnQkJtnGozz"
      },
      "source": [
        "###`Q-1`: You are given a function definition. There might be several issues on execution of this function. You are asked to do exception handling for diffrent errors that this function goes in to `without altering this function`. And print error text.\n",
        "\n"
      ]
    },
    {
      "cell_type": "markdown",
      "metadata": {
        "id": "2no_EB2fGyGq"
      },
      "source": [
        "Function parameters `l -> list, s -> could be anything`\n",
        "\n",
        "```\n",
        "def function(l: list, s, **args):\n",
        "    last_element = l[-1]\n",
        "    \n",
        "    l[int(s)]=10\n",
        "    any_element = l[int(s)+10]\n",
        "    l[s]=10\n",
        "    \n",
        "    res = sum(l)\n",
        "    \n",
        "    p = args['p']\n",
        "    # print(p)\n",
        "    return res/last_element * p + any_element\n",
        "\n",
        "```\n",
        "Check for different function calls:-\n",
        "\n",
        "```\n",
        "function([1,2,1], 12)\n",
        "function([1,2,1]*9, '1-2')\n",
        "function([1,'2',1]*9, 12)\n",
        "function([1,'2',1]*9, 12)\n",
        "function([1,2,0]*9, 12  )\n",
        "function([1,2,1]*9, 12, p=None)\n",
        "function([1,2,0]*9, 12, p=10)\n",
        "```"
      ]
    },
    {
      "cell_type": "code",
      "execution_count": 2,
      "metadata": {
        "id": "VoaL4_9eGjFU"
      },
      "outputs": [
        {
          "name": "stdout",
          "output_type": "stream",
          "text": [
            "452.0\n",
            "Execution completed.\n"
          ]
        }
      ],
      "source": [
        "# Write code here\n",
        "def function(l: list, s, **args):\n",
        "    last_element = l[-1]\n",
        "    \n",
        "    l[int(s)]=10\n",
        "    any_element = l[int(s)+10]\n",
        "    l[s]=10\n",
        "    \n",
        "    res = sum(l)\n",
        "    \n",
        "    p = args['p']\n",
        "    # print(p)\n",
        "    return res/last_element * p + any_element\n",
        "\n",
        "try:\n",
        "    res = function([1,2,1]*9, 12, p=10)\n",
        "except IndexError as e:\n",
        "    print(type(e),e)\n",
        "except ValueError as v:\n",
        "    print(type(v),v)\n",
        "except TypeError as t:\n",
        "    print(type(t),t)\n",
        "except KeyError as k:\n",
        "    print(type(k),k)\n",
        "except ZeroDivisionError as z:\n",
        "    print(type(z),z)\n",
        "else:\n",
        "    print(res)\n",
        "finally:\n",
        "    print(\"Execution completed.\")"
      ]
    },
    {
      "cell_type": "markdown",
      "metadata": {
        "id": "HuLMy2fVG9sL"
      },
      "source": [
        "###`Q-2:` You are given a code snippet. There might be several issues on execution of this code. You are asked to do exception handling for diffrent errors, condition is what ever happens we need to execute last line printing correct result of `sum of elements`.\n",
        "\n",
        "List have elemnts as any no of  `key-pair dict with key as list index and value as any integer`, `integers` and `numeric-strings`. There is always only one element in the dict.\n",
        "\n",
        "\n",
        "```\n",
        "l = [{0:2},2,3,4,'5', {5:10}]\n",
        "# For calculating sum of above list\n",
        "s=0\n",
        "for i in range(len(l)):\n",
        "    #You can Edit code from here\n",
        "    s += l[i].get(i)\n",
        "    s += l[i]\n",
        "    s += int(l[i])\n",
        "\n",
        "\n",
        "print(s)\n",
        "```"
      ]
    },
    {
      "cell_type": "code",
      "execution_count": 3,
      "metadata": {
        "id": "pEP8JU0qHAf8"
      },
      "outputs": [
        {
          "name": "stdout",
          "output_type": "stream",
          "text": [
            "26\n"
          ]
        }
      ],
      "source": [
        "# Write code here\n",
        "l = [{0:2},2,3,4,'5', {5:10}]\n",
        "# For calculating sum of above list\n",
        "s=0\n",
        "for i in range(len(l)):\n",
        "    try:\n",
        "        s+=l[i]\n",
        "    except TypeError as e:\n",
        "        try:\n",
        "            s+= l[i].get(i)\n",
        "        except AttributeError:\n",
        "            s += int(l[i])\n",
        "\n",
        "\n",
        "print(s)"
      ]
    },
    {
      "cell_type": "markdown",
      "metadata": {
        "id": "ohE2fDTXHIan"
      },
      "source": [
        "### `Q-3:`: File Handling with Exception handling\n",
        "\n",
        "Write a program that opens a text file and write data to it as \"Hello, Good Morning!!!\". Handle exceptions that can be generated during the I/O operations. Do not show the success message on the main exception handling block (write inside the else block)."
      ]
    },
    {
      "cell_type": "code",
      "execution_count": 5,
      "metadata": {
        "id": "iOeiWrcIHPlY"
      },
      "outputs": [
        {
          "name": "stdout",
          "output_type": "stream",
          "text": [
            "File written successfully.\n"
          ]
        }
      ],
      "source": [
        "# write code here\n",
        "try:\n",
        "    with open('text.txt','w') as f:\n",
        "        f.write('Hello, Good Morning!!!')\n",
        "except IOError:\n",
        "    print(\"An IOError has occurred.\")\n",
        "else:\n",
        "    print(\"File written successfully.\")\n",
        "\n"
      ]
    },
    {
      "cell_type": "markdown",
      "metadata": {
        "id": "ru8g8-_bHTUf"
      },
      "source": [
        "### `Q-4`: Number game program.\n",
        "\n",
        "Write a number game program. Ask the user to enter a number. If the number is greater than number to be guessed, raise a **ValueTooLarge** exception. If the value is smaller the number to be guessed the, raise a **ValueTooSmall** exception and prompt the user to enter again. Quit the program only when the user enters the correct number. Also raise **GuessError** if user guess a number less than 1."
      ]
    },
    {
      "cell_type": "code",
      "execution_count": 6,
      "metadata": {
        "id": "QftlN5LJHZSX"
      },
      "outputs": [
        {
          "name": "stdout",
          "output_type": "stream",
          "text": [
            "Value is too small!\n",
            "Value is too small!\n",
            "Congratulations! You've guessed the number.\n"
          ]
        }
      ],
      "source": [
        "# Write code here\n",
        "import random\n",
        "\n",
        "class ValueTooLarge(Exception):\n",
        "    def display(self):\n",
        "        print(\"Value is too large!\")\n",
        "class ValueTooSmall(Exception):\n",
        "    def display(self):\n",
        "        print(\"Value is too small!\")\n",
        "class GuessError(Exception):\n",
        "    def display(self):\n",
        "        print(\"Guess the number between 1 and 100!\")\n",
        "\n",
        "def guess_number():\n",
        "    number = random.randint(1,100)\n",
        "    while True:\n",
        "        try:\n",
        "            guess = int(input(\"Guess the number between 1 and 100: \"))\n",
        "            if guess < 1 or guess > 100:\n",
        "                raise GuessError\n",
        "            if guess < number:\n",
        "                raise ValueTooSmall\n",
        "            elif guess > number:\n",
        "                raise ValueTooLarge\n",
        "            elif guess == number:\n",
        "                print(\"Congratulations! You've guessed the number.\")\n",
        "                break\n",
        "        except ValueTooLarge as e:\n",
        "            e.display()\n",
        "        except ValueTooSmall as e:\n",
        "            e.display()\n",
        "        except GuessError as e:\n",
        "            e.display()\n",
        "\n",
        "guess_number()\n",
        "\n",
        "\n",
        "\n"
      ]
    },
    {
      "cell_type": "markdown",
      "metadata": {
        "id": "ZsGI_40fHcsd"
      },
      "source": [
        "### `Q-5:` Cast vote\n",
        "\n",
        "Write a program that validate name and age as entered by the user to determine whether the person can cast vote or not. To handle the age, create **InvalidAge** exception and for name, create **InvalidName** exception. The name will be invalid when the string will be empty or name has only one word.\n",
        "\n",
        "Example 1:\n",
        "\n",
        "Input:\n",
        "\n",
        "```bash\n",
        "Enter the name:               goransh singh\n",
        "Enter the age: 25\n",
        "```\n",
        "\n",
        "Output:\n",
        "\n",
        "```bash\n",
        "Goransh Singh  Congratulation !!! You can vote.\n",
        "```"
      ]
    },
    {
      "cell_type": "code",
      "execution_count": 12,
      "metadata": {
        "id": "OHL3UiS4Hi3U"
      },
      "outputs": [
        {
          "name": "stdout",
          "output_type": "stream",
          "text": [
            "Souvik Congratulations !!! You can vote\n"
          ]
        }
      ],
      "source": [
        "# Write code here\n",
        "class InvalidAgeError(Exception):\n",
        "    def display(self):\n",
        "        print(\"Age must be greater than 18\")\n",
        "class InvalidNameError(Exception):\n",
        "    def display(self):\n",
        "        print(\"Name must be at least 3 characters long\")\n",
        "\n",
        "def validate_user(name, age):\n",
        "    try:       \n",
        "\n",
        "        if len(name)<2:\n",
        "            raise InvalidNameError\n",
        "        if age < 18:\n",
        "            raise InvalidAgeError\n",
        "    except InvalidAgeError as e:\n",
        "        e.display()\n",
        "    except InvalidNameError as e:\n",
        "        e.display()\n",
        "    else:\n",
        "        print(f'{name} Congratulations !!! You can vote')\n",
        "\n",
        "name = input(\"Enter your name: \")\n",
        "age = int(input(\"Enter your age: \"))\n",
        "validate_user(name,age)\n",
        "        "
      ]
    },
    {
      "cell_type": "markdown",
      "metadata": {
        "id": "SCvs0QjgHlOG"
      },
      "source": [
        "### `Q-6`: Write a python function which infinitely prints natural numbers in a single line. Raise the **StopIteration** exception after displaying first 20 numnbers to exit from the program."
      ]
    },
    {
      "cell_type": "code",
      "execution_count": 13,
      "metadata": {
        "id": "Lc5ilNgNHoSx"
      },
      "outputs": [
        {
          "name": "stdout",
          "output_type": "stream",
          "text": [
            "11 12 13 14 15 16 17 18 19 20 21 22 23 24 25 26 27 28 29 Iteration stopped after 20 iterations.\n"
          ]
        }
      ],
      "source": [
        "# Write code here\n",
        "def display(n):\n",
        "    i=0\n",
        "    while True:\n",
        "        try:\n",
        "            n+=1\n",
        "            i+=1\n",
        "            if i==20:\n",
        "                raise StopIteration\n",
        "        except StopIteration:\n",
        "            print(\"Iteration stopped after 20 iterations.\")\n",
        "            break\n",
        "        else:\n",
        "            print(n, end=' ')\n",
        "display(10)\n",
        "\n",
        "\n",
        "\n"
      ]
    },
    {
      "cell_type": "code",
      "execution_count": null,
      "metadata": {},
      "outputs": [],
      "source": []
    }
  ],
  "metadata": {
    "colab": {
      "provenance": []
    },
    "kernelspec": {
      "display_name": "Python 3",
      "name": "python3"
    },
    "language_info": {
      "codemirror_mode": {
        "name": "ipython",
        "version": 3
      },
      "file_extension": ".py",
      "mimetype": "text/x-python",
      "name": "python",
      "nbconvert_exporter": "python",
      "pygments_lexer": "ipython3",
      "version": "3.13.2"
    }
  },
  "nbformat": 4,
  "nbformat_minor": 0
}
