{
 "cells": [
  {
   "cell_type": "markdown",
   "metadata": {},
   "source": [
    "There are 2 stages where error may happen in a program\n",
    "\n",
    "- During compilation -> Syntax Error\n",
    "- During execution -> Exceptions"
   ]
  },
  {
   "cell_type": "markdown",
   "metadata": {},
   "source": [
    "### Syntax Error\n",
    "\n",
    "- Something in the program is not written according to the program grammar.\n",
    "- Error is raised by the interpreter/compiler\n",
    "- You can solve it by rectifying the program\n"
   ]
  },
  {
   "cell_type": "code",
   "execution_count": 1,
   "metadata": {},
   "outputs": [
    {
     "ename": "SyntaxError",
     "evalue": "Missing parentheses in call to 'print'. Did you mean print(...)? (528539990.py, line 2)",
     "output_type": "error",
     "traceback": [
      "\u001b[1;36m  Cell \u001b[1;32mIn[1], line 2\u001b[1;36m\u001b[0m\n\u001b[1;33m    print 'hello world'\u001b[0m\n\u001b[1;37m    ^\u001b[0m\n\u001b[1;31mSyntaxError\u001b[0m\u001b[1;31m:\u001b[0m Missing parentheses in call to 'print'. Did you mean print(...)?\n"
     ]
    }
   ],
   "source": [
    "# Examples of syntax error\n",
    "print 'hello world'"
   ]
  },
  {
   "cell_type": "markdown",
   "metadata": {},
   "source": [
    "### Other examples of syntax error\n",
    "\n",
    "- Leaving symbols like colon,brackets\n",
    "- Misspelling a keyword\n",
    "- Incorrect indentation\n",
    "- empty if/else/loops/class/functions"
   ]
  },
  {
   "cell_type": "code",
   "execution_count": 2,
   "metadata": {},
   "outputs": [
    {
     "ename": "SyntaxError",
     "evalue": "expected ':' (3315782095.py, line 2)",
     "output_type": "error",
     "traceback": [
      "\u001b[1;36m  Cell \u001b[1;32mIn[2], line 2\u001b[1;36m\u001b[0m\n\u001b[1;33m    if a==3\u001b[0m\n\u001b[1;37m           ^\u001b[0m\n\u001b[1;31mSyntaxError\u001b[0m\u001b[1;31m:\u001b[0m expected ':'\n"
     ]
    }
   ],
   "source": [
    "a = 5\n",
    "if a==3\n",
    "  print('hello')"
   ]
  },
  {
   "cell_type": "code",
   "execution_count": 3,
   "metadata": {},
   "outputs": [
    {
     "ename": "SyntaxError",
     "evalue": "invalid syntax (225460214.py, line 2)",
     "output_type": "error",
     "traceback": [
      "\u001b[1;36m  Cell \u001b[1;32mIn[3], line 2\u001b[1;36m\u001b[0m\n\u001b[1;33m    iff a==3:\u001b[0m\n\u001b[1;37m        ^\u001b[0m\n\u001b[1;31mSyntaxError\u001b[0m\u001b[1;31m:\u001b[0m invalid syntax\n"
     ]
    }
   ],
   "source": [
    "a = 5\n",
    "iff a==3:\n",
    "print(\"Hello\")\n"
   ]
  },
  {
   "cell_type": "code",
   "execution_count": 4,
   "metadata": {},
   "outputs": [
    {
     "ename": "IndentationError",
     "evalue": "expected an indented block after 'if' statement on line 2 (3436209887.py, line 3)",
     "output_type": "error",
     "traceback": [
      "\u001b[1;36m  Cell \u001b[1;32mIn[4], line 3\u001b[1;36m\u001b[0m\n\u001b[1;33m    print(a)\u001b[0m\n\u001b[1;37m    ^\u001b[0m\n\u001b[1;31mIndentationError\u001b[0m\u001b[1;31m:\u001b[0m expected an indented block after 'if' statement on line 2\n"
     ]
    }
   ],
   "source": [
    "a = 5\n",
    "if a==5:\n",
    "print(a)"
   ]
  },
  {
   "cell_type": "code",
   "execution_count": 5,
   "metadata": {},
   "outputs": [
    {
     "ename": "IndexError",
     "evalue": "list index out of range",
     "output_type": "error",
     "traceback": [
      "\u001b[1;31m---------------------------------------------------------------------------\u001b[0m",
      "\u001b[1;31mIndexError\u001b[0m                                Traceback (most recent call last)",
      "Cell \u001b[1;32mIn[5], line 4\u001b[0m\n\u001b[0;32m      1\u001b[0m \u001b[38;5;66;03m# Index error\u001b[39;00m\n\u001b[0;32m      2\u001b[0m \u001b[38;5;66;03m# The IndexError is thrown when trying to access an item at an invalid index.\u001b[39;00m\n\u001b[0;32m      3\u001b[0m L\u001b[38;5;241m=\u001b[39m[\u001b[38;5;241m1\u001b[39m,\u001b[38;5;241m2\u001b[39m,\u001b[38;5;241m3\u001b[39m,\u001b[38;5;241m4\u001b[39m,\u001b[38;5;241m5\u001b[39m]\n\u001b[1;32m----> 4\u001b[0m \u001b[43mL\u001b[49m\u001b[43m[\u001b[49m\u001b[38;5;241;43m100\u001b[39;49m\u001b[43m]\u001b[49m\n",
      "\u001b[1;31mIndexError\u001b[0m: list index out of range"
     ]
    }
   ],
   "source": [
    "# Index error\n",
    "# The IndexError is thrown when trying to access an item at an invalid index.\n",
    "L=[1,2,3,4,5]\n",
    "L[100]"
   ]
  },
  {
   "cell_type": "code",
   "execution_count": 6,
   "metadata": {},
   "outputs": [
    {
     "ename": "ModuleNotFoundError",
     "evalue": "No module named 'mathiii'",
     "output_type": "error",
     "traceback": [
      "\u001b[1;31m---------------------------------------------------------------------------\u001b[0m",
      "\u001b[1;31mModuleNotFoundError\u001b[0m                       Traceback (most recent call last)",
      "Cell \u001b[1;32mIn[6], line 3\u001b[0m\n\u001b[0;32m      1\u001b[0m \u001b[38;5;66;03m# ModuleNotFoundError\u001b[39;00m\n\u001b[0;32m      2\u001b[0m \u001b[38;5;66;03m# The ModuleNotFoundError is thrown when a module could not be found.\u001b[39;00m\n\u001b[1;32m----> 3\u001b[0m \u001b[38;5;28;01mimport\u001b[39;00m\u001b[38;5;250m \u001b[39m\u001b[38;5;21;01mmathiii\u001b[39;00m\n\u001b[0;32m      4\u001b[0m math\u001b[38;5;241m.\u001b[39mfloor(\u001b[38;5;241m5.3\u001b[39m)\n",
      "\u001b[1;31mModuleNotFoundError\u001b[0m: No module named 'mathiii'"
     ]
    }
   ],
   "source": [
    "# ModuleNotFoundError\n",
    "# The ModuleNotFoundError is thrown when a module could not be found.\n",
    "import mathiii\n",
    "math.floor(5.3)\n"
   ]
  },
  {
   "cell_type": "code",
   "execution_count": 7,
   "metadata": {},
   "outputs": [
    {
     "ename": "KeyError",
     "evalue": "'age'",
     "output_type": "error",
     "traceback": [
      "\u001b[1;31m---------------------------------------------------------------------------\u001b[0m",
      "\u001b[1;31mKeyError\u001b[0m                                  Traceback (most recent call last)",
      "Cell \u001b[1;32mIn[7], line 4\u001b[0m\n\u001b[0;32m      1\u001b[0m \u001b[38;5;66;03m# KeyError\u001b[39;00m\n\u001b[0;32m      2\u001b[0m \u001b[38;5;66;03m#The KeyError is thrown when a key is not found\u001b[39;00m\n\u001b[0;32m      3\u001b[0m d \u001b[38;5;241m=\u001b[39m {\u001b[38;5;124m'\u001b[39m\u001b[38;5;124mname\u001b[39m\u001b[38;5;124m'\u001b[39m:\u001b[38;5;124m\"\u001b[39m\u001b[38;5;124mSouvik\u001b[39m\u001b[38;5;124m\"\u001b[39m}\n\u001b[1;32m----> 4\u001b[0m \u001b[43md\u001b[49m\u001b[43m[\u001b[49m\u001b[38;5;124;43m'\u001b[39;49m\u001b[38;5;124;43mage\u001b[39;49m\u001b[38;5;124;43m'\u001b[39;49m\u001b[43m]\u001b[49m\n",
      "\u001b[1;31mKeyError\u001b[0m: 'age'"
     ]
    }
   ],
   "source": [
    "# KeyError\n",
    "#The KeyError is thrown when a key is not found\n",
    "d = {'name':\"Souvik\"}\n",
    "d['age']"
   ]
  },
  {
   "cell_type": "code",
   "execution_count": 8,
   "metadata": {},
   "outputs": [
    {
     "ename": "TypeError",
     "evalue": "unsupported operand type(s) for +: 'int' and 'str'",
     "output_type": "error",
     "traceback": [
      "\u001b[1;31m---------------------------------------------------------------------------\u001b[0m",
      "\u001b[1;31mTypeError\u001b[0m                                 Traceback (most recent call last)",
      "Cell \u001b[1;32mIn[8], line 4\u001b[0m\n\u001b[0;32m      1\u001b[0m \u001b[38;5;66;03m#TypeError\u001b[39;00m\n\u001b[0;32m      2\u001b[0m \u001b[38;5;66;03m# TypeError is thrown when an operation or function is applied to an object of an inappropiate type.\u001b[39;00m\n\u001b[1;32m----> 4\u001b[0m \u001b[38;5;241;43m1\u001b[39;49m\u001b[38;5;241;43m+\u001b[39;49m\u001b[38;5;124;43m'\u001b[39;49m\u001b[38;5;124;43ma\u001b[39;49m\u001b[38;5;124;43m'\u001b[39;49m\n",
      "\u001b[1;31mTypeError\u001b[0m: unsupported operand type(s) for +: 'int' and 'str'"
     ]
    }
   ],
   "source": [
    "#TypeError\n",
    "# TypeError is thrown when an operation or function is applied to an object of an inappropiate type.\n",
    "\n",
    "1+'a'"
   ]
  },
  {
   "cell_type": "code",
   "execution_count": 9,
   "metadata": {},
   "outputs": [
    {
     "ename": "ValueError",
     "evalue": "invalid literal for int() with base 10: 'a'",
     "output_type": "error",
     "traceback": [
      "\u001b[1;31m---------------------------------------------------------------------------\u001b[0m",
      "\u001b[1;31mValueError\u001b[0m                                Traceback (most recent call last)",
      "Cell \u001b[1;32mIn[9], line 3\u001b[0m\n\u001b[0;32m      1\u001b[0m \u001b[38;5;66;03m# ValueError\u001b[39;00m\n\u001b[0;32m      2\u001b[0m \u001b[38;5;66;03m# The ValueError is thrown when a function's argument is of an inappropriate type.\u001b[39;00m\n\u001b[1;32m----> 3\u001b[0m \u001b[38;5;28;43mint\u001b[39;49m\u001b[43m(\u001b[49m\u001b[38;5;124;43m'\u001b[39;49m\u001b[38;5;124;43ma\u001b[39;49m\u001b[38;5;124;43m'\u001b[39;49m\u001b[43m)\u001b[49m\n",
      "\u001b[1;31mValueError\u001b[0m: invalid literal for int() with base 10: 'a'"
     ]
    }
   ],
   "source": [
    "# ValueError\n",
    "# The ValueError is thrown when a function's argument is of an inappropriate type.\n",
    "int('a')"
   ]
  },
  {
   "cell_type": "code",
   "execution_count": 10,
   "metadata": {},
   "outputs": [
    {
     "ename": "NameError",
     "evalue": "name 'k' is not defined",
     "output_type": "error",
     "traceback": [
      "\u001b[1;31m---------------------------------------------------------------------------\u001b[0m",
      "\u001b[1;31mNameError\u001b[0m                                 Traceback (most recent call last)",
      "Cell \u001b[1;32mIn[10], line 3\u001b[0m\n\u001b[0;32m      1\u001b[0m \u001b[38;5;66;03m# NameError\u001b[39;00m\n\u001b[0;32m      2\u001b[0m \u001b[38;5;66;03m# The NameError is thrown when an object could not be found.\u001b[39;00m\n\u001b[1;32m----> 3\u001b[0m \u001b[38;5;28mprint\u001b[39m(\u001b[43mk\u001b[49m)\n",
      "\u001b[1;31mNameError\u001b[0m: name 'k' is not defined"
     ]
    }
   ],
   "source": [
    "# NameError\n",
    "# The NameError is thrown when an object could not be found.\n",
    "print(k)"
   ]
  },
  {
   "cell_type": "code",
   "execution_count": null,
   "metadata": {},
   "outputs": [
    {
     "ename": "AttributeError",
     "evalue": "'list' object has no attribute 'upper'",
     "output_type": "error",
     "traceback": [
      "\u001b[1;31m---------------------------------------------------------------------------\u001b[0m",
      "\u001b[1;31mAttributeError\u001b[0m                            Traceback (most recent call last)",
      "Cell \u001b[1;32mIn[11], line 3\u001b[0m\n\u001b[0;32m      1\u001b[0m \u001b[38;5;66;03m# AttributeError\u001b[39;00m\n\u001b[0;32m      2\u001b[0m L \u001b[38;5;241m=\u001b[39m [\u001b[38;5;241m1\u001b[39m,\u001b[38;5;241m2\u001b[39m,\u001b[38;5;241m3\u001b[39m]\n\u001b[1;32m----> 3\u001b[0m \u001b[43mL\u001b[49m\u001b[38;5;241;43m.\u001b[39;49m\u001b[43mupper\u001b[49m()\n\u001b[0;32m      5\u001b[0m \u001b[38;5;66;03m# Stacktrace\u001b[39;00m\n",
      "\u001b[1;31mAttributeError\u001b[0m: 'list' object has no attribute 'upper'"
     ]
    }
   ],
   "source": [
    "# AttributeError\n",
    "L = [1,2,3]\n",
    "L.upper()\n",
    "\n",
    "# Stacktrace "
   ]
  },
  {
   "cell_type": "markdown",
   "metadata": {},
   "source": [
    "### Exceptions\n",
    "\n",
    "If things go wrong during the execution of the program(runtime). It generally happens when something unforeseen has happened.\n",
    "\n",
    "- Exceptions are raised by python runtime\n",
    "- You have to takle is on the fly\n",
    "\n",
    "#### **Examples**\n",
    "\n",
    "- Memory overflow\n",
    "- Divide by 0 -> logical error\n",
    "- Database error"
   ]
  },
  {
   "cell_type": "code",
   "execution_count": 12,
   "metadata": {},
   "outputs": [],
   "source": [
    "# Why is it important to handle exceptions\n",
    "# how to handle exceptions\n",
    "# -> Try except block"
   ]
  },
  {
   "cell_type": "code",
   "execution_count": 13,
   "metadata": {},
   "outputs": [],
   "source": [
    "# let's create a file\n",
    "with open('sample.txt', 'w') as f:\n",
    "    f.write('Hello, world!')"
   ]
  },
  {
   "cell_type": "code",
   "execution_count": 14,
   "metadata": {},
   "outputs": [
    {
     "name": "stdout",
     "output_type": "stream",
     "text": [
      "Hello, world!\n"
     ]
    }
   ],
   "source": [
    "# try catch demo\n",
    "try:\n",
    "    with open('sample.txt','r') as f:\n",
    "        print(f.read())\n",
    "except:\n",
    "    print(\"File not found\")"
   ]
  },
  {
   "cell_type": "code",
   "execution_count": 15,
   "metadata": {},
   "outputs": [
    {
     "name": "stdout",
     "output_type": "stream",
     "text": [
      "File not found\n"
     ]
    }
   ],
   "source": [
    "# try catch demo\n",
    "try:\n",
    "    with open('sample1.txt','r') as f:\n",
    "        print(f.read())\n",
    "except:\n",
    "    print(\"File not found\")"
   ]
  },
  {
   "cell_type": "code",
   "execution_count": 16,
   "metadata": {},
   "outputs": [
    {
     "name": "stdout",
     "output_type": "stream",
     "text": [
      "File not found\n"
     ]
    }
   ],
   "source": [
    "# catching specific exception\n",
    "\n",
    "try:\n",
    "    m=10\n",
    "    f=open('sample1.txt','r')\n",
    "    print(f.read())\n",
    "    print(m)\n",
    "    print(5/2)\n",
    "    L=[1,2,3]\n",
    "    L[100]\n",
    "except FileNotFoundError:\n",
    "    print(\"File not found\")\n",
    "except ZeroDivisionError:\n",
    "    print(\"Division by zero\")\n",
    "except NameError:\n",
    "    print('variable is not defined')\n",
    "except Exception as e:\n",
    "    print(\"An error occurred:\", e)"
   ]
  },
  {
   "cell_type": "code",
   "execution_count": 17,
   "metadata": {},
   "outputs": [
    {
     "name": "stdout",
     "output_type": "stream",
     "text": [
      "File opened successfully\n",
      "Hello, world!\n"
     ]
    }
   ],
   "source": [
    "# else\n",
    "\n",
    "try:\n",
    "    f = open('sample.txt', 'r')\n",
    "except FileNotFoundError:\n",
    "    print(\"File is not found\")\n",
    "except Exception:\n",
    "    print(\"An error occurred\")\n",
    "else:\n",
    "    print(\"File opened successfully\")\n",
    "    print(f.read())"
   ]
  },
  {
   "cell_type": "code",
   "execution_count": 18,
   "metadata": {},
   "outputs": [
    {
     "name": "stdout",
     "output_type": "stream",
     "text": [
      "File is not found\n"
     ]
    }
   ],
   "source": [
    "# else\n",
    "\n",
    "try:\n",
    "    f = open('sample1.txt', 'r')\n",
    "except FileNotFoundError:\n",
    "    print(\"File is not found\")\n",
    "except Exception:\n",
    "    print(\"An error occurred\")\n",
    "else:\n",
    "    print(\"File opened successfully\")\n",
    "    print(f.read())"
   ]
  },
  {
   "cell_type": "code",
   "execution_count": 19,
   "metadata": {},
   "outputs": [
    {
     "name": "stdout",
     "output_type": "stream",
     "text": [
      "file nai mili\n",
      "ye to print hoga hi\n"
     ]
    }
   ],
   "source": [
    "#finally\n",
    "# finally is always executed\n",
    "try:\n",
    "  f = open('sample1.txt','r')\n",
    "except FileNotFoundError:\n",
    "  print('file nai mili')\n",
    "except Exception:\n",
    "  print('kuch to lafda hai')\n",
    "else:\n",
    "  print(f.read())\n",
    "finally:\n",
    "  print('ye to print hoga hi')\n"
   ]
  },
  {
   "cell_type": "code",
   "execution_count": 20,
   "metadata": {},
   "outputs": [],
   "source": [
    "# raise Exception\n",
    "# In Python programming, exceptions are raised when errors occur at runtime.\n",
    "# We can also manually raise exceptions using the raise keyword.\n",
    "\n",
    "# We can optionally pass values to the exception to clarify why that exception was raised"
   ]
  },
  {
   "cell_type": "code",
   "execution_count": 21,
   "metadata": {},
   "outputs": [
    {
     "ename": "ZeroDivisionError",
     "evalue": "Demo of raising an exception",
     "output_type": "error",
     "traceback": [
      "\u001b[1;31m---------------------------------------------------------------------------\u001b[0m",
      "\u001b[1;31mZeroDivisionError\u001b[0m                         Traceback (most recent call last)",
      "Cell \u001b[1;32mIn[21], line 1\u001b[0m\n\u001b[1;32m----> 1\u001b[0m \u001b[38;5;28;01mraise\u001b[39;00m \u001b[38;5;167;01mZeroDivisionError\u001b[39;00m(\u001b[38;5;124m\"\u001b[39m\u001b[38;5;124mDemo of raising an exception\u001b[39m\u001b[38;5;124m\"\u001b[39m)\n",
      "\u001b[1;31mZeroDivisionError\u001b[0m: Demo of raising an exception"
     ]
    }
   ],
   "source": [
    "raise ZeroDivisionError(\"Demo of raising an exception\")"
   ]
  },
  {
   "cell_type": "code",
   "execution_count": 25,
   "metadata": {},
   "outputs": [
    {
     "name": "stdout",
     "output_type": "stream",
     "text": [
      "Error: Insufficient balance\n"
     ]
    }
   ],
   "source": [
    "class Bank:\n",
    "    def __init__(self,balance):\n",
    "        self.balance = balance\n",
    "    def withdraw(self,amount):\n",
    "        if amount <0:\n",
    "            raise ValueError(\"Amount cannot be negative\")\n",
    "        if self.balance < amount:\n",
    "            raise ValueError(\"Insufficient balance\")\n",
    "        self.balance -= amount\n",
    "        return self.balance\n",
    "    \n",
    "b = Bank(1000)\n",
    "try:\n",
    "    b.withdraw(2000)\n",
    "except ValueError as e:\n",
    "    print(f\"Error: {e}\")\n",
    "else:\n",
    "    print(f'{b.balance} is withdrawn')"
   ]
  },
  {
   "cell_type": "code",
   "execution_count": 26,
   "metadata": {},
   "outputs": [
    {
     "name": "stdout",
     "output_type": "stream",
     "text": [
      "500 is withdrawn\n"
     ]
    }
   ],
   "source": [
    "class Bank:\n",
    "    def __init__(self,balance):\n",
    "        self.balance = balance\n",
    "    def withdraw(self,amount):\n",
    "        if amount <0:\n",
    "            raise ValueError(\"Amount cannot be negative\")\n",
    "        if self.balance < amount:\n",
    "            raise ValueError(\"Insufficient balance\")\n",
    "        self.balance -= amount\n",
    "        return self.balance\n",
    "    \n",
    "b = Bank(1000)\n",
    "try:\n",
    "    b.withdraw(500)\n",
    "except ValueError as e:\n",
    "    print(f\"Error: {e}\")\n",
    "else:\n",
    "     print(f'{b.balance} is withdrawn')"
   ]
  },
  {
   "cell_type": "code",
   "execution_count": 28,
   "metadata": {},
   "outputs": [
    {
     "name": "stdout",
     "output_type": "stream",
     "text": [
      "8000\n"
     ]
    }
   ],
   "source": [
    "class MyException(Exception):\n",
    "    def __init__(self,message):\n",
    "        print(message)\n",
    "\n",
    "class Bank:\n",
    "    def __init__(self,balance):\n",
    "        self.balance=balance\n",
    "\n",
    "    def withdraw(self,amount):\n",
    "        if amount < 0:\n",
    "            raise MyException(\"Amount cannot be negative\")\n",
    "        if self.balance < amount:\n",
    "            raise MyException(\"Insufficient balance\")\n",
    "        self.balance = self.balance - amount\n",
    "\n",
    "obj = Bank(10000)\n",
    "try:\n",
    "    obj.withdraw(2000)\n",
    "except MyException as e:\n",
    "    pass\n",
    "else:\n",
    "    print(obj.balance)"
   ]
  },
  {
   "cell_type": "code",
   "execution_count": 33,
   "metadata": {},
   "outputs": [
    {
     "name": "stdout",
     "output_type": "stream",
     "text": [
      "Login from unrecongnized device\n",
      "logout\n",
      "database connection closed\n"
     ]
    }
   ],
   "source": [
    "class SecurityError(Exception):\n",
    "    def __init__(self,message):\n",
    "        print(message)\n",
    "\n",
    "    def logout(self):\n",
    "        print('logout')\n",
    "\n",
    "class Google:\n",
    "    def __init__(self,name,email,password,device):\n",
    "        self.name = name\n",
    "        self.email = email\n",
    "        self.password = password\n",
    "        self.device = device\n",
    "\n",
    "    def login(self,name,email,password,device):\n",
    "        if device != self.device:\n",
    "            raise SecurityError(\"Login from unrecongnized device\")\n",
    "        if email == self.email and password == self.password:\n",
    "            print('Login successful')\n",
    "        else:\n",
    "            raise SecurityError('Invalid credentrials')\n",
    "        \n",
    "obj = Google('Souvik','souvik123@gmail.com','1234','android')\n",
    "\n",
    "try:\n",
    "    obj.login('Souvik','souvik123@gmail.com','1234','ios')\n",
    "except SecurityError as e:\n",
    "    e.logout()\n",
    "else:\n",
    "    print(obj.name, 'is logges in')\n",
    "finally:\n",
    "    print('database connection closed')\n",
    "\n",
    "\n",
    "\n"
   ]
  },
  {
   "cell_type": "code",
   "execution_count": 32,
   "metadata": {},
   "outputs": [
    {
     "name": "stdout",
     "output_type": "stream",
     "text": [
      "Login successful\n",
      "Souvik is logges in\n",
      "database connection closed\n"
     ]
    }
   ],
   "source": [
    "class SecurityError(Exception):\n",
    "    def __init__(self,message):\n",
    "        print(message)\n",
    "\n",
    "    def logout(self):\n",
    "        print('logout')\n",
    "\n",
    "class Google:\n",
    "    def __init__(self,name,email,password,device):\n",
    "        self.name = name\n",
    "        self.email = email\n",
    "        self.password = password\n",
    "        self.device = device\n",
    "\n",
    "    def login(self,name,email,password,device):\n",
    "        if device != self.device:\n",
    "            raise SecurityError(\"Login from unrecongnized device\")\n",
    "        if email == self.email and password == self.password:\n",
    "            print('Login successful')\n",
    "        else:\n",
    "            raise SecurityError('Invalid credentrials')\n",
    "        \n",
    "obj = Google('Souvik','souvik123@gmail.com','1234','android')\n",
    "\n",
    "try:\n",
    "    obj.login('Souvik','souvik123@gmail.com','1234','android')\n",
    "except SecurityError as e:\n",
    "    e.logout()\n",
    "else:\n",
    "    print(obj.name, 'is logges in')\n",
    "finally:\n",
    "    print('database connection closed')\n",
    "\n",
    "\n",
    "\n"
   ]
  },
  {
   "cell_type": "code",
   "execution_count": null,
   "metadata": {},
   "outputs": [],
   "source": []
  }
 ],
 "metadata": {
  "kernelspec": {
   "display_name": "Python 3",
   "language": "python",
   "name": "python3"
  },
  "language_info": {
   "codemirror_mode": {
    "name": "ipython",
    "version": 3
   },
   "file_extension": ".py",
   "mimetype": "text/x-python",
   "name": "python",
   "nbconvert_exporter": "python",
   "pygments_lexer": "ipython3",
   "version": "3.13.2"
  }
 },
 "nbformat": 4,
 "nbformat_minor": 0
}
