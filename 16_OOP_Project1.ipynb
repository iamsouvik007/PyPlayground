{
 "cells": [
  {
   "cell_type": "code",
   "execution_count": 11,
   "id": "8a7781bb",
   "metadata": {},
   "outputs": [
    {
     "data": {
      "text/plain": [
       "{'entities': [{'start': 26,\n",
       "   'end': 36,\n",
       "   'type': 'programming languages',\n",
       "   'text': 'Javascript'},\n",
       "  {'start': 102,\n",
       "   'end': 108,\n",
       "   'type': 'programming languages',\n",
       "   'text': 'Python'},\n",
       "  {'start': 165, 'end': 167, 'type': 'programming languages', 'text': 'Go'}]}"
      ]
     },
     "execution_count": 11,
     "metadata": {},
     "output_type": "execute_result"
    }
   ],
   "source": [
    "import nlpcloud\n",
    "\n",
    "client = nlpcloud.Client(\"finetuned-llama-3-70b\", \"afab73437e367133c600d21fca6acdf3d08bd5b3\", gpu=True)\n",
    "client.entities(\n",
    "    \"\"\"John Doe started learning Javascript when he was 15 years old. After a couple of years he switched to Python and starter learning low level programming. He is now a Go expert at Google.\"\"\",\n",
    "    searched_entity=\"programming languages\"\n",
    ")"
   ]
  },
  {
   "cell_type": "code",
   "execution_count": 1,
   "id": "e79daae9",
   "metadata": {},
   "outputs": [
    {
     "name": "stdout",
     "output_type": "stream",
     "text": [
      "Registration successful!\n",
      "Login successful\n",
      "Login successful\n",
      "{'entities': [{'start': 153, 'end': 159, 'type': 'search_term', 'text': 'Python'}, {'start': 241, 'end': 251, 'type': 'search_term', 'text': 'JavaScript'}, {'start': 295, 'end': 305, 'type': 'search_term', 'text': 'TypeScript'}, {'start': 241, 'end': 245, 'type': 'search_term', 'text': 'Java'}, {'start': 409, 'end': 411, 'type': 'search_term', 'text': 'C#'}, {'start': 417, 'end': 419, 'type': 'search_term', 'text': 'Go'}, {'start': 487, 'end': 490, 'type': 'search_term', 'text': 'C++'}, {'start': 32, 'end': 33, 'type': 'search_term', 'text': 'C'}, {'start': 571, 'end': 575, 'type': 'search_term', 'text': 'Rust'}, {'start': 677, 'end': 684, 'type': 'search_term', 'text': 'Haskell'}, {'start': 452, 'end': 457, 'type': 'search_term', 'text': 'Scala'}, {'start': 693, 'end': 699, 'type': 'search_term', 'text': 'Elixir'}, {'start': 705, 'end': 707, 'type': 'search_term', 'text': 'F#'}, {'start': 759, 'end': 762, 'type': 'search_term', 'text': 'PHP'}, {'start': 767, 'end': 771, 'type': 'search_term', 'text': 'Ruby'}, {'start': 780, 'end': 793, 'type': 'search_term', 'text': 'Ruby on Rails'}, {'start': 877, 'end': 883, 'type': 'search_term', 'text': 'MATLAB'}, {'start': 885, 'end': 890, 'type': 'search_term', 'text': 'Julia'}, {'start': 900, 'end': 907, 'type': 'search_term', 'text': 'Fortran'}, {'start': 965, 'end': 973, 'type': 'search_term', 'text': 'Assembly'}, {'start': 975, 'end': 979, 'type': 'search_term', 'text': 'VHDL'}, {'start': 985, 'end': 992, 'type': 'search_term', 'text': 'Verilog'}, {'start': 1050, 'end': 1056, 'type': 'search_term', 'text': 'Kotlin'}, {'start': 241, 'end': 245, 'type': 'search_term', 'text': 'Java'}, {'start': 1083, 'end': 1088, 'type': 'search_term', 'text': 'Swift'}, {'start': 1092, 'end': 1103, 'type': 'search_term', 'text': 'Objective-C'}, {'start': 1131, 'end': 1134, 'type': 'search_term', 'text': 'SQL'}, {'start': 1136, 'end': 1141, 'type': 'search_term', 'text': 'NoSQL'}, {'start': 13, 'end': 14, 'type': 'search_term', 'text': 'R'}, {'start': 1220, 'end': 1225, 'type': 'search_term', 'text': 'Shell'}, {'start': 1237, 'end': 1241, 'type': 'search_term', 'text': 'Bash'}, {'start': 1247, 'end': 1257, 'type': 'search_term', 'text': 'PowerShell'}, {'start': 1365, 'end': 1368, 'type': 'search_term', 'text': 'Lua'}, {'start': 1370, 'end': 1374, 'type': 'search_term', 'text': 'Dart'}, {'start': 1376, 'end': 1380, 'type': 'search_term', 'text': 'Perl'}, {'start': 1382, 'end': 1388, 'type': 'search_term', 'text': 'Groovy'}, {'start': 1394, 'end': 1399, 'type': 'search_term', 'text': 'OCaml'}]}\n",
      "{'entities': [{'start': 153, 'end': 159, 'type': 'search_term', 'text': 'Python'}, {'start': 241, 'end': 251, 'type': 'search_term', 'text': 'JavaScript'}, {'start': 295, 'end': 305, 'type': 'search_term', 'text': 'TypeScript'}, {'start': 241, 'end': 245, 'type': 'search_term', 'text': 'Java'}, {'start': 409, 'end': 411, 'type': 'search_term', 'text': 'C#'}, {'start': 417, 'end': 419, 'type': 'search_term', 'text': 'Go'}, {'start': 487, 'end': 490, 'type': 'search_term', 'text': 'C++'}, {'start': 32, 'end': 33, 'type': 'search_term', 'text': 'C'}, {'start': 571, 'end': 575, 'type': 'search_term', 'text': 'Rust'}, {'start': 677, 'end': 684, 'type': 'search_term', 'text': 'Haskell'}, {'start': 452, 'end': 457, 'type': 'search_term', 'text': 'Scala'}, {'start': 693, 'end': 699, 'type': 'search_term', 'text': 'Elixir'}, {'start': 705, 'end': 707, 'type': 'search_term', 'text': 'F#'}, {'start': 759, 'end': 762, 'type': 'search_term', 'text': 'PHP'}, {'start': 767, 'end': 771, 'type': 'search_term', 'text': 'Ruby'}, {'start': 780, 'end': 793, 'type': 'search_term', 'text': 'Ruby on Rails'}, {'start': 877, 'end': 883, 'type': 'search_term', 'text': 'MATLAB'}, {'start': 885, 'end': 890, 'type': 'search_term', 'text': 'Julia'}, {'start': 900, 'end': 907, 'type': 'search_term', 'text': 'Fortran'}, {'start': 965, 'end': 973, 'type': 'search_term', 'text': 'Assembly'}, {'start': 975, 'end': 979, 'type': 'search_term', 'text': 'VHDL'}, {'start': 985, 'end': 992, 'type': 'search_term', 'text': 'Verilog'}, {'start': 1050, 'end': 1056, 'type': 'search_term', 'text': 'Kotlin'}, {'start': 241, 'end': 245, 'type': 'search_term', 'text': 'Java'}, {'start': 1083, 'end': 1088, 'type': 'search_term', 'text': 'Swift'}, {'start': 1092, 'end': 1103, 'type': 'search_term', 'text': 'Objective-C'}, {'start': 1131, 'end': 1134, 'type': 'search_term', 'text': 'SQL'}, {'start': 1136, 'end': 1141, 'type': 'search_term', 'text': 'NoSQL'}, {'start': 13, 'end': 14, 'type': 'search_term', 'text': 'R'}, {'start': 1220, 'end': 1225, 'type': 'search_term', 'text': 'Shell'}, {'start': 1237, 'end': 1241, 'type': 'search_term', 'text': 'Bash'}, {'start': 1247, 'end': 1257, 'type': 'search_term', 'text': 'PowerShell'}, {'start': 1365, 'end': 1368, 'type': 'search_term', 'text': 'Lua'}, {'start': 1370, 'end': 1374, 'type': 'search_term', 'text': 'Dart'}, {'start': 1376, 'end': 1380, 'type': 'search_term', 'text': 'Perl'}, {'start': 1382, 'end': 1388, 'type': 'search_term', 'text': 'Groovy'}, {'start': 1394, 'end': 1399, 'type': 'search_term', 'text': 'OCaml'}]}\n"
     ]
    }
   ],
   "source": [
    "import nlpcloud\n",
    "\n",
    "class NLPApp:\n",
    "    def __init__(self):\n",
    "\n",
    "        self.__database = {}\n",
    "        self.__first_menu()\n",
    "    \n",
    "    def __first_menu(self):\n",
    "        first_input = input(''' \n",
    "            Welcome to the NLP App!\n",
    "              1. Not a member? Register\n",
    "              2. Already a member? Login\n",
    "              3. Exit\n",
    "        ''')\n",
    "        if first_input == '1':\n",
    "            self.__register()\n",
    "        elif first_input == '2':\n",
    "            self.__login()\n",
    "        else:\n",
    "            exit()\n",
    "\n",
    "    def __second_menu(self):\n",
    "        second_input = input(''' \n",
    "            Welcome to the NLP App!\n",
    "              1. NER\n",
    "              2. Language detection\n",
    "              3. Sentiment analysis\n",
    "              4. Log out\n",
    "        ''')\n",
    "\n",
    "        if second_input=='1':\n",
    "            self.__ner()\n",
    "        elif second_input=='2':\n",
    "            self.__language_detection()\n",
    "        elif second_input=='3':\n",
    "            self.__sentiment()\n",
    "        else:\n",
    "            exit()\n",
    "\n",
    "\n",
    "\n",
    "\n",
    "\n",
    "\n",
    "    def __register(self):\n",
    "        # Here we don't use self as we don't use these variables outside this method\n",
    "        username = input(\"Enter your name: \")\n",
    "        email = input(\"Enter your email: \")\n",
    "        password = input(\"Enter your password: \")\n",
    "\n",
    "        if email in self.__database:\n",
    "            print(\"Email already exists.\")\n",
    "        else:\n",
    "            self.__database[email]=[username,password]\n",
    "            print(\"Registration successful!\")\n",
    "            self.__first_menu()\n",
    "\n",
    "\n",
    "    def __login(self):\n",
    "        email=input(\"Enter your email: \")\n",
    "        password = input(\"Enter password\")\n",
    "\n",
    "        if email in self.__database:\n",
    "            if self.__database[email][1]==password:\n",
    "                print(\"Login successful\")\n",
    "                self.__second_menu()\n",
    "            else:\n",
    "                print(\"Wrong password\")\n",
    "                self.__login()\n",
    "        else:\n",
    "            print(\"This email is not registered\")\n",
    "            self.__first_menu()\n",
    "\n",
    "\n",
    "    def __ner(self):\n",
    "\n",
    "        para = input(\"Enter the paragraph: \")\n",
    "        search_term=input(\"Enter what you want to search: \")\n",
    "\n",
    "        client = nlpcloud.Client(\"finetuned-llama-3-70b\", \"afab73437e367133c600d21fca6acdf3d08bd5b3\", gpu=True)\n",
    "        response=client.entities(para,searched_entity=\"search_term\")\n",
    "\n",
    "        print(response)\n",
    "\n",
    "\n",
    "obj = NLPApp()\n",
    "\n",
    "\n",
    "\n",
    "\n",
    "\n",
    "\n",
    "\n",
    "\n",
    "\n",
    "\n",
    "\n"
   ]
  },
  {
   "cell_type": "code",
   "execution_count": null,
   "id": "039b8441",
   "metadata": {},
   "outputs": [],
   "source": []
  }
 ],
 "metadata": {
  "kernelspec": {
   "display_name": "Python 3",
   "language": "python",
   "name": "python3"
  },
  "language_info": {
   "codemirror_mode": {
    "name": "ipython",
    "version": 3
   },
   "file_extension": ".py",
   "mimetype": "text/x-python",
   "name": "python",
   "nbconvert_exporter": "python",
   "pygments_lexer": "ipython3",
   "version": "3.13.2"
  }
 },
 "nbformat": 4,
 "nbformat_minor": 5
}
