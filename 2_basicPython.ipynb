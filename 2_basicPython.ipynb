{
  "cells": [
    {
      "cell_type": "markdown",
      "metadata": {
        "id": "w6RlOAXV2PWh"
      },
      "source": [
        "### `Problem 1`: Write a program that will give you in hand monthly salary after deduction on CTC - HRA(10%), DA(5%), PF(3%) and taxes deduction as below:\n",
        "\n",
        "> Salary(Lakhs) : Tax(%)\n",
        "\n",
        "*   Below 5 : 0%\n",
        "*   5-10 : 10%\n",
        "*   10-20 : 20%\n",
        "*   aboove 20 : 30%"
      ]
    },
    {
      "cell_type": "code",
      "execution_count": null,
      "metadata": {
        "id": "7tMHvKYO2etI"
      },
      "outputs": [],
      "source": [
        "# Write code here\n",
        "# Function to calculate in-hand monthly salary\n",
        "def calculate_in_hand_salary(ctc):\n",
        "    # Deduction percentages\n",
        "    HRA = 0.10 * ctc\n",
        "    DA = 0.05 * ctc\n",
        "    PF = 0.03 * ctc\n",
        "\n",
        "    # Tax calculation based on salary slabs\n",
        "    if ctc < 5_00_000:\n",
        "        tax_rate = 0\n",
        "    elif ctc <= 10_00_000:\n",
        "        tax_rate = 0.10\n",
        "    elif ctc <= 20_00_000:\n",
        "        tax_rate = 0.20\n",
        "    else:\n",
        "        tax_rate = 0.30\n",
        "\n",
        "    tax = tax_rate * ctc\n",
        "\n",
        "    # In-hand annual salary after deductions\n",
        "    in_hand_annual = ctc - (HRA + DA + PF + tax)\n",
        "\n",
        "    # Monthly in-hand salary\n",
        "    in_hand_monthly = in_hand_annual / 12\n",
        "\n",
        "    return in_hand_monthly\n",
        "\n",
        "# Taking user input\n",
        "ctc_input = float(input(\"Enter your CTC (in Lakhs): \")) * 1_00_000  # Convert Lakhs to actual amount\n",
        "\n",
        "# Calculate and display the in-hand monthly salary\n",
        "in_hand_salary = calculate_in_hand_salary(ctc_input)\n",
        "print(f\"Your in-hand monthly salary is: ₹{in_hand_salary:.2f}\")\n"
      ]
    },
    {
      "cell_type": "markdown",
      "metadata": {
        "id": "tYzCGqwl2hfN"
      },
      "source": [
        "### `Problem 2`: Write a program that take a user input of three angles and will find out whether it can form a triangle or not."
      ]
    },
    {
      "cell_type": "code",
      "execution_count": 1,
      "metadata": {
        "id": "FYEqln-I2kxV"
      },
      "outputs": [
        {
          "name": "stdout",
          "output_type": "stream",
          "text": [
            "Triangle is possible\n"
          ]
        }
      ],
      "source": [
        "# Write code here\n",
        "a=int(input(\"Enter first angle: \"))\n",
        "b=int(input(\"Enter second angle: \"))\n",
        "c=int(input(\"Enter third angle: \"))\n",
        "if a+b+c==180:\n",
        "    print(\"Triangle is possible\")\n",
        "else:\n",
        "    print(\"Tringle is not possible\")"
      ]
    },
    {
      "cell_type": "markdown",
      "metadata": {
        "id": "5vEpPh8C2pE4"
      },
      "source": [
        "### `Problem 3`: Write a program that will take user input of cost price and selling price and determines whether its a loss or a profit."
      ]
    },
    {
      "cell_type": "code",
      "execution_count": 2,
      "metadata": {
        "id": "jDwBXlkO2sfl"
      },
      "outputs": [
        {
          "name": "stdout",
          "output_type": "stream",
          "text": [
            "Profit\n"
          ]
        }
      ],
      "source": [
        "# Write code here\n",
        "a=int(input(\"Enter cost price: \"))\n",
        "b=int(input(\"Enter selling price: \"))\n",
        "if a<b:\n",
        "    print(\"Profit\")\n",
        "else:\n",
        "    print(\"Loss\")"
      ]
    },
    {
      "cell_type": "markdown",
      "metadata": {
        "id": "J_FG_cJW2ugT"
      },
      "source": [
        "### `Problem 4`: Write a menu-driven program -\n",
        "1. cm to ft\n",
        "2. km to miles\n",
        "3. USD to INR\n",
        "4. exit"
      ]
    },
    {
      "cell_type": "code",
      "execution_count": 4,
      "metadata": {
        "id": "yBHhaCGQ2zpD"
      },
      "outputs": [
        {
          "name": "stdout",
          "output_type": "stream",
          "text": [
            "\n",
            "Menu:\n",
            "1. Convert cm to ft\n",
            "2. Convert km to miles\n",
            "3. Convert USD to INR\n",
            "4. Exit\n",
            "5.0 cm is 0.16 ft\n",
            "\n",
            "Menu:\n",
            "1. Convert cm to ft\n",
            "2. Convert km to miles\n",
            "3. Convert USD to INR\n",
            "4. Exit\n",
            "6.0 km is 3.73 miles\n",
            "\n",
            "Menu:\n",
            "1. Convert cm to ft\n",
            "2. Convert km to miles\n",
            "3. Convert USD to INR\n",
            "4. Exit\n",
            "Invalid choice. Please select a valid option.\n",
            "\n",
            "Menu:\n",
            "1. Convert cm to ft\n",
            "2. Convert km to miles\n",
            "3. Convert USD to INR\n",
            "4. Exit\n",
            "Invalid choice. Please select a valid option.\n",
            "\n",
            "Menu:\n",
            "1. Convert cm to ft\n",
            "2. Convert km to miles\n",
            "3. Convert USD to INR\n",
            "4. Exit\n",
            "Exiting the program. Goodbye!\n"
          ]
        }
      ],
      "source": [
        "# Write code here\n",
        "def cm_to_ft(cm):\n",
        "    return cm / 30.48\n",
        "\n",
        "def km_to_miles(km):\n",
        "    return km * 0.621371\n",
        "\n",
        "def usd_to_inr(usd, conversion_rate=83.0):  # Assuming 1 USD = 83 INR\n",
        "    return usd * conversion_rate\n",
        "\n",
        "# Menu-driven program\n",
        "while True:\n",
        "    print(\"\\nMenu:\")\n",
        "    print(\"1. Convert cm to ft\")\n",
        "    print(\"2. Convert km to miles\")\n",
        "    print(\"3. Convert USD to INR\")\n",
        "    print(\"4. Exit\")\n",
        "\n",
        "    choice = input(\"Enter your choice (1-4): \")\n",
        "\n",
        "    if choice == '1':\n",
        "        cm = float(input(\"Enter length in cm: \"))\n",
        "        print(f\"{cm} cm is {cm_to_ft(cm):.2f} ft\")\n",
        "\n",
        "    elif choice == '2':\n",
        "        km = float(input(\"Enter distance in km: \"))\n",
        "        print(f\"{km} km is {km_to_miles(km):.2f} miles\")\n",
        "\n",
        "    elif choice == '3':\n",
        "        usd = float(input(\"Enter amount in USD: \"))\n",
        "        print(f\"{usd} USD is ₹{usd_to_inr(usd):.2f}\")\n",
        "\n",
        "    elif choice == '4':\n",
        "        print(\"Exiting the program. Goodbye!\")\n",
        "        break\n",
        "\n",
        "    else:\n",
        "        print(\"Invalid choice. Please select a valid option.\")\n"
      ]
    },
    {
      "cell_type": "markdown",
      "metadata": {
        "id": "LJJ30_Yw27ZU"
      },
      "source": [
        "### `Problem 5` - Exercise 12: Display Fibonacci series up to 10 terms.\n",
        "\n",
        "*Note: The Fibonacci Sequence is a series of numbers. The next number is found by adding up the two numbers before it. The first two numbers are 0 and 1. For example, 0, 1, 1, 2, 3, 5, 8, 13, 21. The next number in this series above is 13+21 = 34*"
      ]
    },
    {
      "cell_type": "code",
      "execution_count": 10,
      "metadata": {
        "id": "ae_1rpe52-5R"
      },
      "outputs": [
        {
          "name": "stdout",
          "output_type": "stream",
          "text": [
            "0 1 1 2 3 5 8 13 21 34 "
          ]
        }
      ],
      "source": [
        "# Write code here\n",
        "def fibonacci(n):\n",
        "    a,b=0,1\n",
        "    for i in range(n):\n",
        "        print(a,end=\" \")\n",
        "        a,b=b,a+b\n",
        "\n",
        "n = int(input(\"Enter a number: \"))\n",
        "fibonacci(n)\n"
      ]
    },
    {
      "cell_type": "markdown",
      "metadata": {
        "id": "pk_I_S4m3PT5"
      },
      "source": [
        "### `Problem 6` - Find the factorial of a given number.\n",
        "\n",
        "Write a program to use the loop to find the factorial of a given number.\n",
        "\n",
        "The factorial (symbol: `!`) means to multiply all whole numbers from the chosen number down to 1.\n",
        "\n",
        "For example: calculate the factorial of 5\n",
        "\n",
        "```bash\n",
        "5! = 5 × 4 × 3 × 2 × 1 = 120\n",
        "```\n",
        "\n",
        "Output:\n",
        "\n",
        "```bash\n",
        "120\n",
        "```"
      ]
    },
    {
      "cell_type": "code",
      "execution_count": 13,
      "metadata": {
        "id": "lzXxHegx3Rkc"
      },
      "outputs": [
        {
          "name": "stdout",
          "output_type": "stream",
          "text": [
            "120\n"
          ]
        }
      ],
      "source": [
        "# Write code here\n",
        "def fact(n):\n",
        "    s=1\n",
        "    for i in range(1,n+1):\n",
        "        s=s*i\n",
        "    return s\n",
        "n = int(input('Enter a number: '))\n",
        "print(fact(n))"
      ]
    },
    {
      "cell_type": "markdown",
      "metadata": {
        "id": "-17IOi-g3UpU"
      },
      "source": [
        "### `Problem 7` - Reverse a given integer number.\n",
        "\n",
        "Example:\n",
        "\n",
        "`Input:`\n",
        "\n",
        "```bash\n",
        "76542\n",
        "```\n",
        "\n",
        "`Output:`\n",
        "\n",
        "```bash\n",
        "24567\n",
        "```"
      ]
    },
    {
      "cell_type": "code",
      "execution_count": 3,
      "metadata": {
        "id": "wJwLpKCr3aVA"
      },
      "outputs": [
        {
          "name": "stdout",
          "output_type": "stream",
          "text": [
            "321\n"
          ]
        }
      ],
      "source": [
        "# Write code here\n",
        "a=int(input(\"Enter number: \"))\n",
        "reverse = str(a)[::-1]\n",
        "print(reverse)"
      ]
    },
    {
      "cell_type": "markdown",
      "metadata": {
        "id": "-t8PJQaY3sHf"
      },
      "source": [
        "### `Problem 8`: Take a user input as integer N. Find out the sum from 1 to N. If any number if divisible by 5, then skip that number. And if the sum is greater than 300, don't need to calculate the sum further more. Print the final result. And don't use for loop to solve this problem.\n",
        "\n",
        "**Example 1:**\n",
        "\n",
        "`Input:`\n",
        "\n",
        "```bash\n",
        "30\n",
        "```\n",
        "\n",
        "`Output:`\n",
        "\n",
        "```bash\n",
        "276\n",
        "```"
      ]
    },
    {
      "cell_type": "code",
      "execution_count": 15,
      "metadata": {
        "id": "GZB6mGMP3ujT"
      },
      "outputs": [
        {
          "name": "stdout",
          "output_type": "stream",
          "text": [
            "40\n"
          ]
        }
      ],
      "source": [
        "# Write code here\n",
        "a=int(input(\"Enter number: \"))\n",
        "result = 0\n",
        "i=1\n",
        "while i<a and result <300:\n",
        "    if i%5!=0:\n",
        "        result+=i\n",
        "    i+=1\n",
        "print(result)"
      ]
    },
    {
      "cell_type": "markdown",
      "metadata": {
        "id": "Q7ggImeA3xm4"
      },
      "source": [
        "### `Problem 9`: Write a program that keeps on accepting a number from the user until the user enters Zero. Display the sum and average of all the numbers."
      ]
    },
    {
      "cell_type": "code",
      "execution_count": 18,
      "metadata": {
        "id": "t_YDSZDe4Kdo"
      },
      "outputs": [
        {
          "name": "stdout",
          "output_type": "stream",
          "text": [
            "Sum: 15\n",
            "Average: 5.0\n"
          ]
        }
      ],
      "source": [
        "# Write code here\n",
        "sum = 0\n",
        "count=0\n",
        "while True:\n",
        "    n = int(input(\"Enter a number: \"))\n",
        "    if n==0:\n",
        "        break\n",
        "    else:        \n",
        "        sum = sum + n\n",
        "        count+=1\n",
        "        avg = sum/count\n",
        "print(f\"Sum: {sum}\")\n",
        "print(f\"Average: {avg}\")"
      ]
    },
    {
      "cell_type": "markdown",
      "metadata": {
        "id": "6EhvEMvm4R7s"
      },
      "source": [
        "###`Problem 9`: Write a program which will find all such numbers which are divisible by 7 but are not a multiple of 5, between 2000 and 3200 (both included). The numbers obtained should be printed in a comma-separated sequence on a single line."
      ]
    },
    {
      "cell_type": "code",
      "execution_count": 19,
      "metadata": {
        "id": "d6RgP1B34T6c"
      },
      "outputs": [
        {
          "name": "stdout",
          "output_type": "stream",
          "text": [
            "2002,2009,2016,2023,2037,2044,2051,2058,2072,2079,2086,2093,2107,2114,2121,2128,2142,2149,2156,2163,2177,2184,2191,2198,2212,2219,2226,2233,2247,2254,2261,2268,2282,2289,2296,2303,2317,2324,2331,2338,2352,2359,2366,2373,2387,2394,2401,2408,2422,2429,2436,2443,2457,2464,2471,2478,2492,2499,2506,2513,2527,2534,2541,2548,2562,2569,2576,2583,2597,2604,2611,2618,2632,2639,2646,2653,2667,2674,2681,2688,2702,2709,2716,2723,2737,2744,2751,2758,2772,2779,2786,2793,2807,2814,2821,2828,2842,2849,2856,2863,2877,2884,2891,2898,2912,2919,2926,2933,2947,2954,2961,2968,2982,2989,2996,3003,3017,3024,3031,3038,3052,3059,3066,3073,3087,3094,3101,3108,3122,3129,3136,3143,3157,3164,3171,3178,3192,3199,"
          ]
        }
      ],
      "source": [
        "# Write code here\n",
        "for i in range(2000,3201):\n",
        "    if i%7==0 and i%5!=0:\n",
        "        print(i,end=\",\")"
      ]
    },
    {
      "cell_type": "markdown",
      "metadata": {
        "id": "tYvmRR-G4Vp4"
      },
      "source": [
        "###`Problem 10`: Write a program, which will find all such numbers between 1000 and 3000 (both included) such that each digit of the number is an even number. The numbers obtained should be printed in a space-separated sequence on a single line.\n",
        "\n"
      ]
    },
    {
      "cell_type": "code",
      "execution_count": 25,
      "metadata": {
        "id": "k6Gs1kIf4k19"
      },
      "outputs": [
        {
          "name": "stdout",
          "output_type": "stream",
          "text": [
            "2000,2002,2004,2006,2008,2020,2022,2024,2026,2028,2040,2042,2044,2046,2048,2060,2062,2064,2066,2068,2080,2082,2084,2086,2088,2200,2202,2204,2206,2208,2220,2222,2224,2226,2228,2240,2242,2244,2246,2248,2260,2262,2264,2266,2268,2280,2282,2284,2286,2288,2400,2402,2404,2406,2408,2420,2422,2424,2426,2428,2440,2442,2444,2446,2448,2460,2462,2464,2466,2468,2480,2482,2484,2486,2488,2600,2602,2604,2606,2608,2620,2622,2624,2626,2628,2640,2642,2644,2646,2648,2660,2662,2664,2666,2668,2680,2682,2684,2686,2688,2800,2802,2804,2806,2808,2820,2822,2824,2826,2828,2840,2842,2844,2846,2848,2860,2862,2864,2866,2868,2880,2882,2884,2886,2888\n"
          ]
        }
      ],
      "source": [
        "# Write code here\n",
        "l = []\n",
        "for i in range(1000,3001):\n",
        "    flag = True\n",
        "    curr = i\n",
        "    while curr>0:\n",
        "        last = curr%10\n",
        "        if last%2!=0:\n",
        "            flag = False\n",
        "            break\n",
        "        curr = curr//10\n",
        "    if flag:\n",
        "        l.append(str(i))\n",
        "\n",
        "print(\",\".join(l))\n",
        "  "
      ]
    },
    {
      "cell_type": "code",
      "execution_count": null,
      "metadata": {},
      "outputs": [],
      "source": []
    },
    {
      "cell_type": "markdown",
      "metadata": {
        "id": "GV18IINT4mf5"
      },
      "source": [
        "###`Problem 11`: A robot moves in a plane starting from the original point (0,0). The robot can move toward UP, DOWN, LEFT and RIGHT with a given steps.\n",
        "The trace of robot movement is shown as the following:\n",
        "```\n",
        "UP 5\n",
        "DOWN 3\n",
        "LEFT 3\n",
        "RIGHT 2\n",
        "!\n",
        "```\n",
        "> The numbers after the direction are steps.\n",
        "\n",
        "> `!` means robot stop there.\n",
        "\n",
        "**Please write a program to compute the distance from current position after a sequence of movement and original point.**\n",
        "\n",
        "*If the distance is a float, then just print the nearest integer.*\n",
        "\n",
        "Example:\n",
        "\n",
        "`Input`:\n",
        "```\n",
        "UP 5\n",
        "DOWN 3\n",
        "LEFT 3\n",
        "RIGHT 2\n",
        "!\n",
        "```\n",
        "`Output`:\n",
        "```\n",
        "2\n",
        "```"
      ]
    },
    {
      "cell_type": "code",
      "execution_count": 26,
      "metadata": {
        "id": "6UNMC2aR4w5x"
      },
      "outputs": [
        {
          "name": "stdout",
          "output_type": "stream",
          "text": [
            "0.0\n"
          ]
        }
      ],
      "source": [
        "# Write code here\n",
        "pos = [0,0]\n",
        "while True:\n",
        "    s = input(\"enter the robot path: \")\n",
        "    if s==\"!\":\n",
        "        break\n",
        "    direction = s.split()[0]\n",
        "    steps = int(s.split()[1])\n",
        "\n",
        "    if direction == \"UP\":\n",
        "        pos[1]=pos[1]+steps\n",
        "    elif direction == \"DOWN\":\n",
        "        pos[1]=pos[1]-steps\n",
        "    elif direction == \"LEFT\":\n",
        "        pos[0]=pos[0]-steps\n",
        "    elif direction == \"RIGHT\":\n",
        "        pos[0]=pos[0]+steps\n",
        "    else:\n",
        "        print(\"Invalid direction\")\n",
        "        continue\n",
        "print((pos[0]**2 + pos[1]**2)**0.5)\n",
        "\n"
      ]
    },
    {
      "cell_type": "markdown",
      "metadata": {
        "id": "3fsAIAhK5GYY"
      },
      "source": [
        "###`Problem 12`:Write a program to print whether a given number is a prime number or not"
      ]
    },
    {
      "cell_type": "code",
      "execution_count": 1,
      "metadata": {
        "id": "j6y91lxy5LZs"
      },
      "outputs": [
        {
          "name": "stdout",
          "output_type": "stream",
          "text": [
            "Not Prime\n"
          ]
        }
      ],
      "source": [
        "# Write code here\n",
        "# prime number\n",
        "def prime(n):\n",
        "    if n>1:\n",
        "        for i in range(2,n):\n",
        "            if n%i==0:\n",
        "                return False\n",
        "        return True\n",
        "    return False    \n",
        "n = int(input(\"Enter a number: \"))\n",
        "if prime(n):\n",
        "    print(\"Prime\")\n",
        "else:\n",
        "    print(\"Not Prime\")\n",
        "\n",
        "    "
      ]
    },
    {
      "cell_type": "markdown",
      "metadata": {
        "id": "asAbmbK-5NHv"
      },
      "source": [
        "###`Problem 13`:Print all the Armstrong numbers in a given range.\n",
        "Range will be provided by the user<br>\n",
        "Armstrong number is a number that is equal to the sum of cubes of its digits. For example 0, 1, 153, 370, 371 and 407 are the Armstrong numbers."
      ]
    },
    {
      "cell_type": "code",
      "execution_count": 3,
      "metadata": {
        "id": "PZuI67pm5jCT"
      },
      "outputs": [
        {
          "name": "stdout",
          "output_type": "stream",
          "text": [
            "Armstrong\n"
          ]
        }
      ],
      "source": [
        "# Write code here\n",
        "# Armstrong number\n",
        "def armstrong(n):\n",
        "    s=0\n",
        "    temp = n\n",
        "    while temp>0:\n",
        "        digit = temp%10\n",
        "        s+=digit**3\n",
        "        temp//=10\n",
        "    return s==n\n",
        "n = int(input(\"Enter a number: \"))\n",
        "if armstrong(n):\n",
        "    print(\"Armstrong\")\n",
        "else:\n",
        "    print(\"Not Armstrong\")\n",
        "    "
      ]
    },
    {
      "cell_type": "markdown",
      "metadata": {
        "id": "ClCQZMqT7gK0"
      },
      "source": [
        "###`Problem 14`:Calculate the angle between the hour hand and minute hand.\n",
        "\n",
        "Note: There can be two angles between hands; we need to print a minimum of two. Also, we need to print the floor of the final result angle. For example, if the final angle is 10.61, we need to print 10.\n",
        "\n",
        "Input:<br>\n",
        "H = 9 , M = 0<br>\n",
        "Output:<br>\n",
        "90<br>\n",
        "Explanation:<br>\n",
        "The minimum angle between hour and minute\n",
        "hand when the time is 9 is 90 degress."
      ]
    },
    {
      "cell_type": "code",
      "execution_count": 4,
      "metadata": {
        "id": "tNBTCZML7jy_"
      },
      "outputs": [
        {
          "name": "stdout",
          "output_type": "stream",
          "text": [
            "90\n"
          ]
        }
      ],
      "source": [
        "import math\n",
        "\n",
        "def clock_angle(H, M):\n",
        "    if H < 0 or M < 0 or H > 12 or M > 60:\n",
        "        return \"Invalid Input\"\n",
        "    \n",
        "    if H == 12:\n",
        "        H = 0\n",
        "    if M == 60:\n",
        "        M = 0\n",
        "        H += 1\n",
        "        if H > 12:\n",
        "            H = H - 12\n",
        "    \n",
        "    hour_angle = 0.5 * (H * 60 + M)\n",
        "    minute_angle = 6 * M\n",
        "    \n",
        "    angle = abs(hour_angle - minute_angle)\n",
        "    \n",
        "    return math.floor(min(360 - angle, angle))\n",
        "\n",
        "# Example Usage\n",
        "H, M = 9, 0\n",
        "print(clock_angle(H, M))\n"
      ]
    },
    {
      "cell_type": "markdown",
      "metadata": {
        "id": "GwacF9Co72Qc"
      },
      "source": [
        "###`Problem 15`:Given two rectangles, find if the given two rectangles overlap or not. A rectangle is denoted by providing the x and y coordinates of two points: the left top corner and the right bottom corner of the rectangle. Two rectangles sharing a side are considered overlapping. (L1 and R1 are the extreme points of the first rectangle and L2 and R2 are the extreme points of the second rectangle).\n",
        "\n",
        "Note: It may be assumed that the rectangles are parallel to the coordinate axis.\n",
        "\n",
        "<img src='https://www.geeksforgeeks.org/wp-content/uploads/rectanglesOverlap.png' width='300' height='200'>"
      ]
    },
    {
      "cell_type": "code",
      "execution_count": 5,
      "metadata": {
        "id": "6rrw_lpH78Rs"
      },
      "outputs": [
        {
          "name": "stdout",
          "output_type": "stream",
          "text": [
            "True\n"
          ]
        }
      ],
      "source": [
        "# Write code here\n",
        "def do_rectangles_overlap(l1, r1, l2, r2):\n",
        "    # If one rectangle is to the left of the other\n",
        "    if l1[0] > r2[0] or l2[0] > r1[0]:\n",
        "        return False\n",
        "    \n",
        "    # If one rectangle is above the other\n",
        "    if l1[1] < r2[1] or l2[1] < r1[1]:\n",
        "        return False\n",
        "    \n",
        "    return True\n",
        "\n",
        "# Example usage\n",
        "l1, r1 = (0, 10), (10, 0)\n",
        "l2, r2 = (5, 15), (15, 5)\n",
        "print(do_rectangles_overlap(l1, r1, l2, r2))"
      ]
    },
    {
      "cell_type": "code",
      "execution_count": null,
      "metadata": {},
      "outputs": [],
      "source": []
    }
  ],
  "metadata": {
    "colab": {
      "provenance": []
    },
    "kernelspec": {
      "display_name": "Python 3",
      "name": "python3"
    },
    "language_info": {
      "codemirror_mode": {
        "name": "ipython",
        "version": 3
      },
      "file_extension": ".py",
      "mimetype": "text/x-python",
      "name": "python",
      "nbconvert_exporter": "python",
      "pygments_lexer": "ipython3",
      "version": "3.13.2"
    }
  },
  "nbformat": 4,
  "nbformat_minor": 0
}
