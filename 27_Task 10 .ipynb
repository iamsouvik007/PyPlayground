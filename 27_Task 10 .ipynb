{
 "cells": [
  {
   "cell_type": "markdown",
   "metadata": {
    "id": "MbeMdx5d5qRj"
   },
   "source": [
    "### `Q-1:` Write a function `get_final_line(filename)`, which takes filename as input and return final line of the file.\n",
    "\n",
    "Note: You can choose any file of your choice."
   ]
  },
  {
   "cell_type": "code",
   "execution_count": 2,
   "metadata": {
    "id": "rjx9XRTq5uzD"
   },
   "outputs": [
    {
     "data": {
      "text/plain": [
       "'How are you?'"
      ]
     },
     "execution_count": 2,
     "metadata": {},
     "output_type": "execute_result"
    }
   ],
   "source": [
    "# Write code here\n",
    "\n",
    "def get_final_line(file_name):\n",
    "    # Initialize an empty string to store the final line\n",
    "    final_line = ''\n",
    "    \n",
    "    # CONCEPT: When you use 'for loop' with open(file,'r'), \n",
    "    # it automatically iterates through the file LINE BY LINE\n",
    "    # Each iteration gives you ONE line from the file\n",
    "    for current_line in open(file_name, 'r'):\n",
    "        final_line = current_line\n",
    "    return final_line\n",
    "        # In each iteration, current_line contains one line from the file\n",
    "        # We keep overwriting final_line with each new line\n",
    "        # So when the loop ends, final_line will contain the LAST line\n",
    "        \n",
    "        # Example: If file has 3 lines:\n",
    "        # Iteration 1: current_line = \"Line 1\\n\", final_line = \"Line 1\\n\"\n",
    "        # Iteration 2: current_line = \"Line 2\\n\", final_line = \"Line 2\\n\" \n",
    "        # Iteration 3: current_line = \"Line 3\\n\", final_line = \"Line 3\\n\"\n",
    "        # Loop ends, final_line contains the last line!\n",
    "\n",
    "\n",
    "get_final_line('sample.txt')"
   ]
  },
  {
   "cell_type": "markdown",
   "metadata": {
    "id": "B87Z6-yQ5wVO"
   },
   "source": [
    "###`Q-2:` Read through a text file, line by line. Use a dict to keep track of how many times each vowel (a, e, i, o, and u) appears in the file. Print the resulting tabulation -- dictionary."
   ]
  },
  {
   "cell_type": "code",
   "execution_count": 6,
   "metadata": {
    "id": "XeXnOL7X50Sa"
   },
   "outputs": [
    {
     "name": "stdout",
     "output_type": "stream",
     "text": [
      "{'a': 1, 'e': 2, 'i': 1, 'o': 4, 'u': 1}\n"
     ]
    }
   ],
   "source": [
    "# Write code here\n",
    "def vowel_count(filename):\n",
    "    # Define the vowels we want to count\n",
    "    vowels = ['a','e','i','o','u']\n",
    "    \n",
    "    # Create a dictionary to store count of each vowel (initialized to 0)\n",
    "    vowel_dict = {i:0 for i in vowels}\n",
    "    \n",
    "    # ERROR WAS HERE: Don't use quotes around filename variable!\n",
    "    # WRONG: open('filename','r') - this looks for a file called \"filename\"\n",
    "    # CORRECT: open(filename,'r') - this uses the parameter passed to function\n",
    "    for current_line in open(filename,'r'):  # Fixed: removed quotes\n",
    "        \n",
    "        # Go through each character in the current line\n",
    "        for ch in current_line:\n",
    "            # Convert to lowercase to catch both 'A' and 'a'\n",
    "            ch = ch.lower()\n",
    "            \n",
    "            # If character is a vowel, increment its count\n",
    "            if ch in vowels:\n",
    "                vowel_dict[ch] += 1\n",
    "                \n",
    "    return vowel_dict\n",
    "\n",
    "# Test the function\n",
    "result = vowel_count('sample.txt')\n",
    "print(result)\n"
   ]
  },
  {
   "cell_type": "markdown",
   "metadata": {
    "id": "lRqQ2Y295-Gg"
   },
   "source": [
    "###`Q-3:` Create a text file (using an editor, not necessarily Python) containing two tab separated columns, with each column containing a number. Then use Python to read through the file you’ve created. For each line, multiply each first number by the second and include it in the file in third column. In last add a line Total, by summing the value of third column\n",
    "\n"
   ]
  },
  {
   "cell_type": "markdown",
   "metadata": {
    "id": "GtFfahZc6Bvg"
   },
   "source": [
    "Input File example: That you need to create\n",
    "```\n",
    "1   2\n",
    "3   4\n",
    "5   6\n",
    "7   8\n",
    "9   10\n",
    "\n",
    "```\n",
    "\n",
    "Output File Example:\n",
    "```\n",
    "1   2   2\n",
    "3   4   12\n",
    "5   6   30\n",
    "7   8   56\n",
    "9   10  90\n",
    "Total   190\n",
    "```\n"
   ]
  },
  {
   "cell_type": "code",
   "execution_count": 14,
   "metadata": {
    "id": "GiKvqHnr5-j2"
   },
   "outputs": [
    {
     "name": "stdout",
     "output_type": "stream",
     "text": [
      "<class 'str'>\n",
      "<class 'list'>\n"
     ]
    }
   ],
   "source": [
    "# write code here\n",
    "with open('sample2.txt','w') as f:\n",
    "    for i in range(1,11,2):\n",
    "        line = '{}\\t{}\\n'.format(i,i+1)\n",
    "        f.writelines(line)\n",
    "\n",
    "with open ('sample2.txt','r') as f:\n",
    "    lines = f.read().splitlines()\n",
    "\n",
    "total = 0\n",
    "with open('sample2.txt','w') as f:\n",
    "    for line in lines:\n",
    "        a,b = line.split(sep='\\t')\n",
    "        result = int(a)*int(b)\n",
    "        total += result\n",
    "        f.write('{}\\t{}\\t{}\\n'.format(a,b,result))\n",
    "    f.write('Total\\t'+str(total))\n",
    "    \n",
    "print(type(line))\n",
    "print(type(lines))\n",
    "\n"
   ]
  },
  {
   "cell_type": "markdown",
   "metadata": {
    "id": "DunQepHC6J9r"
   },
   "source": [
    "###`Q-4:` Create line wise reverse of a file\n",
    "Write a function which takes two arguments: the names of the input file (to be read from) and the output file (which will be created)."
   ]
  },
  {
   "cell_type": "markdown",
   "metadata": {
    "id": "QxWEtFle6Nmu"
   },
   "source": [
    "For example, if a file looks like\n",
    " ```\n",
    "abc def\n",
    "ghi jkl\n",
    "```\n",
    "then the output file will be\n",
    "```\n",
    "fed cba\n",
    "lkj ihg\n",
    "```\n",
    "**Notice**: The newline remains at the end of the string, while the rest of the characters are all reversed."
   ]
  },
  {
   "cell_type": "code",
   "execution_count": 19,
   "metadata": {
    "id": "aIJTJNAq6LD7"
   },
   "outputs": [],
   "source": [
    "# write code here\n",
    "input_file = 'sample.txt'\n",
    "out_file = 'sample_reversed.txt'\n",
    "\n",
    "def reverse_lines(input_file, out_file):\n",
    "    with open(input_file, 'r') as in_file , open(out_file, 'w') as out_file:\n",
    "       for i in in_file:\n",
    "           out_file.write(i.rstrip()[::-1]+\"\\n\")\n",
    "\n",
    "reverse_lines(input_file, out_file)\n"
   ]
  },
  {
   "cell_type": "markdown",
   "metadata": {
    "id": "wqvx3sMY6bou"
   },
   "source": [
    "###`Q-5:` Create a Serialized dict of frequency of words in the file. And from given list of words, using serialized dict show word count.\n",
    "\n",
    "* List of word will be given\n",
    "\n"
   ]
  },
  {
   "cell_type": "markdown",
   "metadata": {
    "id": "uc5MSUWg6cZG"
   },
   "source": [
    "Given String\n",
    "\n",
    "```\n",
    "strings = \"\"\"Alice was beginning to get very tired of sitting by her sister\n",
    "            on the bank, and of having nothing to do:  once or twice she had\n",
    "            peeped into the book her sister was reading, but it had no\n",
    "            pictures or conversations in it, `and what is the use of a book,'\n",
    "            thought Alice `without pictures or conversation?'\n",
    "\n",
    "            So she was considering in her own mind (as well as she could,\n",
    "            for the hot day made her feel very sleepy and stupid), whether\n",
    "            the pleasure of making a daisy-chain would be worth the trouble\n",
    "            of getting up and picking the daisies, when suddenly a White\n",
    "            Rabbit with pink eyes ran close by her.\n",
    "\n",
    "            There was nothing so VERY remarkable in that; nor did Alice\n",
    "            think it so VERY much out of the way to hear the Rabbit say to\n",
    "            itself, `Oh dear!  Oh dear!  I shall be late!'  (when she thought\n",
    "            it over afterwards, it occurred to her that she ought to have\n",
    "            wondered at this, but at the time it all seemed quite natural);\n",
    "            but when the Rabbit actually TOOK A WATCH OUT OF ITS WAISTCOAT-\n",
    "            POCKET, and looked at it, and then hurried on, Alice started to\n",
    "            her feet, for it flashed across her mind that she had never\n",
    "            before seen a rabbit with either a waistcoat-pocket, or a watch to\n",
    "            take out of it, and burning with curiosity, she ran across the\n",
    "            field after it, and fortunately was just in time to see it pop\n",
    "            down a large rabbit-hole under the hedge.\"\"\"\n",
    "\n",
    "word_list = ['alice', 'wonder', 'natural']\n",
    "```"
   ]
  },
  {
   "cell_type": "code",
   "execution_count": 41,
   "metadata": {
    "id": "-SmtFFUq6a70"
   },
   "outputs": [
    {
     "name": "stdout",
     "output_type": "stream",
     "text": [
      "alice 3\n",
      "wonder 0\n",
      "natural 0\n"
     ]
    }
   ],
   "source": [
    "# write code here\n",
    "\n",
    "\n",
    "strings = \"\"\"Alice was beginning to get very tired of sitting by her sister\n",
    "            on the bank, and of having nothing to do:  once or twice she had\n",
    "            peeped into the book her sister was reading, but it had no\n",
    "            pictures or conversations in it, `and what is the use of a book,'\n",
    "            thought Alice `without pictures or conversation?'\n",
    "\n",
    "            So she was considering in her own mind (as well as she could,\n",
    "            for the hot day made her feel very sleepy and stupid), whether\n",
    "            the pleasure of making a daisy-chain would be worth the trouble\n",
    "            of getting up and picking the daisies, when suddenly a White\n",
    "            Rabbit with pink eyes ran close by her.\n",
    "\n",
    "            There was nothing so VERY remarkable in that; nor did Alice\n",
    "            think it so VERY much out of the way to hear the Rabbit say to\n",
    "            itself, `Oh dear!  Oh dear!  I shall be late!'  (when she thought\n",
    "            it over afterwards, it occurred to her that she ought to have\n",
    "            wondered at this, but at the time it all seemed quite natural);\n",
    "            but when the Rabbit actually TOOK A WATCH OUT OF ITS WAISTCOAT-\n",
    "            POCKET, and looked at it, and then hurried on, Alice started to\n",
    "            her feet, for it flashed across her mind that she had never\n",
    "            before seen a rabbit with either a waistcoat-pocket, or a watch to\n",
    "            take out of it, and burning with curiosity, she ran across the\n",
    "            field after it, and fortunately was just in time to see it pop\n",
    "            down a large rabbit-hole under the hedge.\"\"\"\n",
    "\n",
    "word_list = ['alice', 'wonder', 'natural']\n",
    "\n",
    "word_count = dict()\n",
    "for i in strings.lower().split(' '):\n",
    "    try:\n",
    "        word_count[i] += 1\n",
    "    except:\n",
    "        word_count[i] = 1\n",
    "\n",
    "import pickle as pkl\n",
    "pkl.dump(word_count, open('word_count.pkl', 'wb'))\n",
    "\n",
    "frequency = pkl.load(open('word_count.pkl', 'rb'))\n",
    "\n",
    "for s in word_list:\n",
    "    try:\n",
    "        print(s, frequency[s])\n",
    "    except:\n",
    "        print(s, 0)\n",
    "\n",
    "\n",
    "\n",
    "\n",
    "\n"
   ]
  },
  {
   "cell_type": "markdown",
   "metadata": {
    "id": "Und2HuFW6kAw"
   },
   "source": [
    "### **`Q-6:`** Given a string calculate length of the string using recursion.\n",
    "\n",
    "**Example 1:**\n",
    "\n",
    "Input:\n",
    "```bash\n",
    "\"abcd\"\n",
    "```\n",
    "\n",
    "Output:\n",
    "\n",
    "```bash\n",
    "4\n",
    "```\n",
    "\n",
    "**Example 2:**\n",
    "\n",
    "Input:\n",
    "```bash\n",
    "DataScience\n",
    "```\n",
    "\n",
    "Output:\n",
    "\n",
    "```bash\n",
    "11\n",
    "```\n"
   ]
  },
  {
   "cell_type": "code",
   "execution_count": 38,
   "metadata": {
    "id": "9HE7lB5W61gT"
   },
   "outputs": [
    {
     "name": "stdout",
     "output_type": "stream",
     "text": [
      "3\n"
     ]
    }
   ],
   "source": [
    "# Write code here\n",
    "def length_of_string_recursive(s):\n",
    "    if s == '':\n",
    "        return 0\n",
    "    else:\n",
    "        return 1 + length_of_string_recursive(s[1:]) \n",
    "\n",
    "print(length_of_string_recursive(\"abc\"))  # Example usage\n",
    "\n",
    "# Step-by-step execution:\n",
    "\n",
    "# Call 1: length_of_string_recursive(\"abc\")\n",
    "\n",
    "# s = \"abc\"\n",
    "# s == '' → False\n",
    "# Return 1 + length_of_string_recursive(\"bc\")\n",
    "# Call 2: length_of_string_recursive(\"bc\")\n",
    "\n",
    "# s = \"bc\"\n",
    "# s == '' → False\n",
    "# Return 1 + length_of_string_recursive(\"c\")\n",
    "# Call 3: length_of_string_recursive(\"c\")\n",
    "\n",
    "# s = \"c\"\n",
    "# s == '' → False\n",
    "# Return 1 + length_of_string_recursive(\"\")\n",
    "# Call 4: length_of_string_recursive(\"\")\n",
    "\n",
    "# s = \"\"\n",
    "# s == '' → True\n",
    "# Return 0 (base case)\n",
    "# Unwinding the recursion:\n",
    "\n",
    "# Call 4 returns: 0\n",
    "# Call 3 returns: 1 + 0 = 1\n",
    "# Call 2 returns: 1 + 1 = 2\n",
    "# Call 1 returns: 1 + 2 = 3\n",
    "# Final Result: 3 (correct length of \"abc\")\n",
    "\n",
    "# The function works by removing the first character (s[1:]) in each recursive call until the string becomes empty, then counts back up by adding 1 for each character that was removed."
   ]
  },
  {
   "cell_type": "markdown",
   "metadata": {
    "id": "iUDvc-jl6759"
   },
   "source": [
    "### **`Q-7:`** Write a function that accepts two numbers and returns their greatest common divisior. Without using any loop\n",
    "\n",
    "def gcd(int, int) => int\n",
    "\n",
    "```\n",
    "gcd(16,24) will give 8\n",
    "```"
   ]
  },
  {
   "cell_type": "code",
   "execution_count": 37,
   "metadata": {
    "id": "uMQnojHR7O2S"
   },
   "outputs": [
    {
     "data": {
      "text/plain": [
       "8"
      ]
     },
     "execution_count": 37,
     "metadata": {},
     "output_type": "execute_result"
    }
   ],
   "source": [
    "# Write code here\n",
    "def gcd1(a,b):\n",
    "    s = min(a,b)\n",
    "    for i in range(1,s+1):\n",
    "        if a%i==0 and b%i==0:\n",
    "            gcd = i\n",
    "    return gcd\n",
    "\n",
    "\n",
    "\n",
    "def gcd2(a,b):\n",
    "    if b==0:\n",
    "        return a\n",
    "    else:\n",
    "        return gcd2(b,a%b)    \n",
    "\n",
    "gcd2(16,24)\n",
    "\n",
    "\n",
    "def gcd3(a,b):\n",
    "    while b:\n",
    "        a,b=b,a%b\n",
    "    return a\n",
    "gcd3(16,24)\n"
   ]
  },
  {
   "cell_type": "markdown",
   "metadata": {
    "id": "wFD35fva7Q_B"
   },
   "source": [
    " ### `Q-8:` String Edit Distance\n",
    "\n",
    " Use your recursive function to write a program that reads two strings from the\n",
    "user and displays the edit distance between them.\n",
    "\n",
    "*The edit distance between two strings is a measure of their similarity—the smaller the edit distance, the more similar the strings are with regard to the minimum number of insert, delete and substitute operations needed to transform one string into the other.*\n",
    "\n",
    "Consider the strings `kitten` and `sitting`. The first string can be transformed\n",
    "into the second string with the following operations:\n",
    "* Substitute the `k` with an `s`,\n",
    "* substitute the `e` with an `i`,\n",
    "* and insert a `g` at the end of the string.\n",
    "\n",
    "This is the smallest number of operations that can be performed to transform kitten into sitting. As a result, the edit distance is `3`.\n",
    "\n",
    "\n",
    "Write a recursive function that computes the edit distance between two strings.\n",
    "\n",
    "Use the following algorithm:\n",
    "\n",
    "```\n",
    "Let s and t be the strings\n",
    "    If the length of s is 0 then\n",
    "        Return the length of t\n",
    "    Else if the length of t is 0 then\n",
    "        Return the length of s\n",
    "    Else\n",
    "        Set cost to 0\n",
    "        If the last character in s does not equal the last character in t then\n",
    "            Set cost to 1\n",
    "        Set d1 equal to the edit distance between all characters except the last one in s, and all characters in t, plus 1\n",
    "        Set d2 equal to the edit distance between all characters in s, and all characters except the last one in t, plus 1\n",
    "\n",
    "        Set d3 equal to the edit distance between all characters except the last one in s, and all characters except the last one in t, plus cost\n",
    "        Return the minimum of d1, d2 and d3\n",
    "```\n",
    "\n",
    "\n",
    "\n"
   ]
  },
  {
   "cell_type": "code",
   "execution_count": 29,
   "metadata": {
    "id": "zlNy_Q987QOX"
   },
   "outputs": [
    {
     "name": "stdout",
     "output_type": "stream",
     "text": [
      "3\n"
     ]
    }
   ],
   "source": [
    "# write code here\n",
    "def editDistance(s,t):\n",
    "    if len(s) ==0:\n",
    "        return len(t)\n",
    "    if len(t) ==0:\n",
    "        return len(s)\n",
    "    else:\n",
    "        cost=0\n",
    "        if s[-1] != t[-1]:\n",
    "            cost = 1\n",
    "        d1 = editDistance(s[:-1],t)+1\n",
    "        d2 = editDistance(s,t[:-1])+1\n",
    "        d3 = editDistance(s[:-1],t[:-1])+cost\n",
    "        return min(d1,d2,d3)\n",
    "print(editDistance('kitten','sitting'))  # Output: 3\n",
    "\n"
   ]
  },
  {
   "cell_type": "markdown",
   "metadata": {
    "id": "Hc9e-qES7iAK"
   },
   "source": [
    "###`Q-9:` Run-Length Encoding\n",
    "\n",
    "Run-length encoding is a simple data compression technique that can be effective when repeated values occur at adjacent positions within a list. Compression is achieved by replacing groups of repeated values with one copy of the value, followed by the number of times that the value should be repeated. For example, the list\n",
    "```\n",
    "[\"A\", \"A\", \"A\", \"A\", \"A\", \"A\", \"A\", \"A\", \"A\", \"A\", \"A\", \"A\", \"B\", \"B\", \"B\", \"B\", \"A\", \"A\", \"A\", \"A\", \"A\", \"A\", \"B\"]\n",
    "```\n",
    "would be compressed as `[\"A\", 12, \"B\", 4, \"A\", 6, \"B\", 1]`.\n",
    "\n",
    "Write a recursive function that implements the run-length compression technique\n",
    "described above. Your function will take a list or a string as its only parameter. It should return the run-length compressed list as its only result. Include a main program that reads a string from the user, compresses it, and displays the run-length encoded result."
   ]
  },
  {
   "cell_type": "code",
   "execution_count": 28,
   "metadata": {
    "id": "W2Wb_WzP7qM1"
   },
   "outputs": [
    {
     "name": "stdout",
     "output_type": "stream",
     "text": [
      "['a', 3, 'b', 4, 'c', 2, 'a', 1, 'b', 1, 'c', 2]\n"
     ]
    }
   ],
   "source": [
    "# Write code here\n",
    "string = \"aaabbbbccabcc\"\n",
    "\n",
    "def runEncode(s):\n",
    "    if len(s)==0:\n",
    "        return []\n",
    "    else:\n",
    "        index = 1\n",
    "        while index < len(s) and s[index]==s[index-1]:\n",
    "            index+=1\n",
    "        return [s[0],index] + runEncode(s[index:])\n",
    "\n",
    "encoded = runEncode(string)\n",
    "print(encoded)\n",
    "\n",
    "\n",
    "\n"
   ]
  },
  {
   "cell_type": "markdown",
   "metadata": {
    "id": "x6A-4vGC8SLs"
   },
   "source": [
    "###`Q-10:` Write a recursive function to convert a decimal to binary"
   ]
  },
  {
   "cell_type": "code",
   "execution_count": 25,
   "metadata": {},
   "outputs": [
    {
     "data": {
      "text/plain": [
       "'1010'"
      ]
     },
     "execution_count": 25,
     "metadata": {},
     "output_type": "execute_result"
    }
   ],
   "source": [
    "def decimaToBinary(n):\n",
    "    if n<=1:\n",
    "        return str(n)\n",
    "    else:\n",
    "        q = n//2\n",
    "        r = n%2\n",
    "        return decimaToBinary(q) + str(r)\n",
    "    \n",
    "decimaToBinary(10)  # Example usage, should return '1010'\n",
    "\n",
    "# def dec_to_bin(n):\n",
    "#     if n ==0:\n",
    "#         return '0'\n",
    "#     else:\n",
    "#         return dec_to_bin(n>>1) + str(n & 1)\n",
    "# dec_to_bin(10)  # Example usage, should return '1010'"
   ]
  },
  {
   "cell_type": "code",
   "execution_count": null,
   "metadata": {},
   "outputs": [],
   "source": []
  }
 ],
 "metadata": {
  "colab": {
   "provenance": []
  },
  "kernelspec": {
   "display_name": "Python 3",
   "name": "python3"
  },
  "language_info": {
   "codemirror_mode": {
    "name": "ipython",
    "version": 3
   },
   "file_extension": ".py",
   "mimetype": "text/x-python",
   "name": "python",
   "nbconvert_exporter": "python",
   "pygments_lexer": "ipython3",
   "version": "3.13.2"
  }
 },
 "nbformat": 4,
 "nbformat_minor": 0
}
