{
  "cells": [
    {
      "cell_type": "markdown",
      "metadata": {
        "id": "BCleRtX43caS"
      },
      "source": [
        "### `Problem-1:` Class inheritence\n",
        "\n",
        "Create a **Bus** child class that inherits from the Vehicle class. The default fare charge of any vehicle is seating capacity * 100. If Vehicle is Bus instance, we need to add an extra 10% on full fare as a maintenance charge. So total fare for bus instance will become the final amount = total fare + 10% of the total fare.\n",
        "\n",
        "Note: The bus seating capacity is 50. so the final fare amount should be 5500. You need to override the fare() method of a Vehicle class in Bus class."
      ]
    },
    {
      "cell_type": "code",
      "execution_count": 1,
      "metadata": {
        "colab": {
          "base_uri": "https://localhost:8080/"
        },
        "id": "6jVFCXKz3YZI",
        "outputId": "a8649209-08e2-4f60-a914-74a914dd697e"
      },
      "outputs": [
        {
          "name": "stdout",
          "output_type": "stream",
          "text": [
            "Vehicle Type: School Bus\n"
          ]
        }
      ],
      "source": [
        "# Write code here\n",
        "class Vehicle:\n",
        "    def __init__(self,type,capacity):\n",
        "        self.type=type\n",
        "        self.capacity=capacity\n",
        "\n",
        "class Bus(Vehicle):\n",
        "\n",
        "    def fare(self):\n",
        "        base_fare=super().fare()\n",
        "        bus_fare=base_fare+0.1*base_fare\n",
        "        return bus_fare\n",
        "\n",
        "bus = Bus(\"School Bus\", 50)\n",
        "print(\"Vehicle Type:\", bus.type)\n",
        "\n",
        "\n",
        "\n"
      ]
    },
    {
      "cell_type": "markdown",
      "metadata": {
        "id": "KBbGNTtQ47mJ"
      },
      "source": [
        "### `Problem-2:` Class Inheritence\n",
        "\n",
        "Create a Bus class that inherits from the Vehicle class. Give the capacity argument of *Bus.seating_capacity()* a default value of 50.\n",
        "\n",
        "Use the following code for your parent Vehicle class."
      ]
    },
    {
      "cell_type": "code",
      "execution_count": null,
      "metadata": {
        "id": "MwOnYE_14M-r"
      },
      "outputs": [],
      "source": []
    },
    {
      "cell_type": "code",
      "execution_count": null,
      "metadata": {
        "id": "Py5Gr0ip5OBB"
      },
      "outputs": [],
      "source": []
    },
    {
      "cell_type": "markdown",
      "metadata": {
        "id": "ExIxsv4y-oEd"
      },
      "source": [
        "### `Problem-3:` Write a program that has a class Point. Define another class Location which has two objects (Location & Destination) of class Point. Also define a function in Location that prints the reflection of Destination on the x axis."
      ]
    },
    {
      "cell_type": "code",
      "execution_count": 3,
      "metadata": {
        "id": "yT2QtzQp5VAB"
      },
      "outputs": [
        {
          "name": "stdout",
          "output_type": "stream",
          "text": [
            "Source is  1,2\n",
            "Destination is  3,4\n",
            "Reflection is  -3,4\n"
          ]
        }
      ],
      "source": [
        "class Point:\n",
        "    def __init__(self,x,y):\n",
        "        self.x=x\n",
        "        self.y=y\n",
        "\n",
        "    def show_point(self):\n",
        "        return '{},{}'.format(self.x,self.y)\n",
        "\n",
        "\n",
        "class Location:\n",
        "    def __init__(self,x1,y1,x2,y2):\n",
        "        self.source=Point(x1,y1)\n",
        "        self.destination=Point(x2,y2)\n",
        "    def show(self):\n",
        "        print(\"Source is \",self.source.show_point())\n",
        "        print(\"Destination is \",self.destination.show_point())\n",
        "    def reflection(self):\n",
        "        self.destination.x= -self.destination.x\n",
        "        print(\"Reflection is \",self.destination.show_point())\n",
        "\n",
        "L = Location(1,2,3,4)\n",
        "L.show()\n",
        "L.reflection()\n"
      ]
    },
    {
      "cell_type": "markdown",
      "metadata": {
        "id": "OcQhJvXVALgp"
      },
      "source": [
        "### `Problem-4:` Write a program that has an abstract class Polygon. Derive two classes Rectangle and Triamgle from Polygon and write methods to get the details of their dimensions and hence calculate the area."
      ]
    },
    {
      "cell_type": "code",
      "execution_count": 4,
      "metadata": {
        "id": "9IMrtdUH__eA"
      },
      "outputs": [
        {
          "name": "stdout",
          "output_type": "stream",
          "text": [
            "Area of Rectangle is  200\n",
            "Area of Triangle is  100.0\n"
          ]
        }
      ],
      "source": [
        "from abc import ABC,abstractmethod\n",
        "class Polygon(ABC):\n",
        "\n",
        "    @abstractmethod\n",
        "    def get_data():\n",
        "        pass\n",
        "    @abstractmethod\n",
        "    def area():\n",
        "        pass\n",
        "class Rectangle(Polygon):\n",
        "    def get_data(self,l,b):\n",
        "        self.l=l\n",
        "        self.b=b\n",
        "\n",
        "    def area(self):\n",
        "        return self.l*self.b\n",
        "    \n",
        "class Tringle(Polygon):\n",
        "    def get_data(self,b,n):\n",
        "        self.b=b\n",
        "        self.n=n\n",
        "\n",
        "    def area(self):\n",
        "        return 0.5*self.b*self.n\n",
        "    \n",
        "rect=Rectangle()\n",
        "rect.get_data(10,20)\n",
        "print(\"Area of Rectangle is \",rect.area())\n",
        "tri = Tringle()\n",
        "tri.get_data(10,20)\n",
        "print(\"Area of Triangle is \",tri.area())\n"
      ]
    },
    {
      "cell_type": "markdown",
      "metadata": {
        "id": "sEsGEqOHCSWG"
      },
      "source": [
        "### `Problem-5:` Write a program with class Bill. The users have the option to pay the bill either by cheque or by cash. Use the inheritance to model this situation."
      ]
    },
    {
      "cell_type": "code",
      "execution_count": null,
      "metadata": {
        "id": "l0WFyP2PB3nf"
      },
      "outputs": [],
      "source": [
        "# Base class\n",
        "class Bill:\n",
        "    def __init__(self, amount):\n",
        "        self.amount = amount\n",
        "\n",
        "    def display(self):\n",
        "        print(f\"Bill Amount: ₹{self.amount}\")\n",
        "\n",
        "# Derived class for Cash Payment\n",
        "class CashPayment(Bill):\n",
        "    def __init__(self, amount):\n",
        "        super().__init__(amount)\n",
        "\n",
        "    def pay(self):\n",
        "        print(\"Payment Method: Cash\")\n",
        "        self.display()\n",
        "        print(\"Payment done using Cash.\\n\")\n",
        "\n",
        "# Derived class for Cheque Payment\n",
        "class ChequePayment(Bill):\n",
        "    def __init__(self, amount, cheque_number, bank_name):\n",
        "        super().__init__(amount)\n",
        "        self.cheque_number = cheque_number\n",
        "        self.bank_name = bank_name\n",
        "\n",
        "    def pay(self):\n",
        "        print(\"Payment Method: Cheque\")\n",
        "        self.display()\n",
        "        print(f\"Cheque Number: {self.cheque_number}\")\n",
        "        print(f\"Bank Name: {self.bank_name}\")\n",
        "        print(\"Payment done using Cheque.\\n\")\n",
        "\n",
        "# Sample usage\n",
        "if __name__ == \"__main__\":\n",
        "    cash = CashPayment(1500)\n",
        "    cheque = ChequePayment(2500, \"123456\", \"State Bank of India\")\n",
        "\n",
        "    cash.pay()\n",
        "    cheque.pay()\n"
      ]
    },
    {
      "cell_type": "markdown",
      "metadata": {
        "id": "v1M5Yh9ZZO0z"
      },
      "source": [
        "###`Q-6:` FlexibleDict\n",
        "As of now we are accessing values from dictionary with exact keys. Now we want to amend accessing values functionality. if a dict have key `1` (int) the even if we try to access values by giving `'1'` (1 as str) as key, we should get the same result and vice versa.\n",
        "\n",
        "Write a class `FlexibleDict` upon builtin `dict` class with above required functionality.\n",
        "\n",
        "Hint- `dict[key] => dict.__getitem__(key)`"
      ]
    },
    {
      "cell_type": "markdown",
      "metadata": {
        "id": "uajGeWegbfda"
      },
      "source": [
        "Ex.\n",
        "```\n",
        "fd = FlexibleDict()\n",
        "fd['a'] = 100\n",
        "print(fd['a']) # Like regular dict\n",
        "\n",
        "fd[5] = 500\n",
        "print(fd[5]) # Like regular dict\n",
        "\n",
        "fd[1] = 100\n",
        "print(fd['1']) # actual Key is int but still trying to access through str key.\n",
        "fd['1'] = 100\n",
        "print(fd[1])\n",
        "\n",
        "```\n",
        "`Output:`\n",
        "```\n",
        "100\n",
        "500\n",
        "100\n",
        "100\n",
        "\n",
        "```"
      ]
    },
    {
      "cell_type": "code",
      "execution_count": null,
      "metadata": {
        "id": "OHLbOtCxZ2nw"
      },
      "outputs": [],
      "source": [
        "class FlexibleDict(dict):\n",
        "    def __getitem__(self, key):\n",
        "        # Try the exact key first\n",
        "        if key in self:\n",
        "            return super().__getitem__(key)\n",
        "        \n",
        "        # Try the alternate type\n",
        "        alt_key = self._alternate_key(key)\n",
        "        if alt_key in self:\n",
        "            return super().__getitem__(alt_key)\n",
        "        \n",
        "        # If neither key works, raise KeyError\n",
        "        raise KeyError(key)\n",
        "\n",
        "    def __setitem__(self, key, value):\n",
        "        # Check if alternate key already exists, and overwrite it\n",
        "        alt_key = self._alternate_key(key)\n",
        "        if alt_key in self:\n",
        "            super().__delitem__(alt_key)  # Delete existing opposite key type to avoid ambiguity\n",
        "        super().__setitem__(key, value)\n",
        "\n",
        "    def __contains__(self, key):\n",
        "        return super().__contains__(key) or super().__contains__(self._alternate_key(key))\n",
        "\n",
        "    def _alternate_key(self, key):\n",
        "        # Try to convert str to int or int to str\n",
        "        if isinstance(key, str):\n",
        "            try:\n",
        "                return int(key)\n",
        "            except ValueError:\n",
        "                return key\n",
        "        elif isinstance(key, int):\n",
        "            return str(key)\n",
        "        else:\n",
        "            return key  # Return key as-is if it's neither int nor str\n",
        "\n",
        "# Example usage\n",
        "if __name__ == \"__main__\":\n",
        "    fd = FlexibleDict()\n",
        "    fd['a'] = 100\n",
        "    print(fd['a'])     # 100\n",
        "\n",
        "    fd[5] = 500\n",
        "    print(fd[5])       # 500\n",
        "\n",
        "    fd[1] = 100\n",
        "    print(fd['1'])     # 100\n",
        "\n",
        "    fd['1'] = 100\n",
        "    print(fd[1])       # 100\n"
      ]
    },
    {
      "cell_type": "code",
      "execution_count": null,
      "metadata": {
        "id": "7NM8r__dmeMf"
      },
      "outputs": [],
      "source": []
    },
    {
      "cell_type": "code",
      "execution_count": null,
      "metadata": {
        "id": "waHSud8Ymkz-"
      },
      "outputs": [],
      "source": []
    }
  ],
  "metadata": {
    "colab": {
      "collapsed_sections": [
        "BCleRtX43caS",
        "KBbGNTtQ47mJ",
        "ExIxsv4y-oEd",
        "OcQhJvXVALgp",
        "sEsGEqOHCSWG",
        "v1M5Yh9ZZO0z"
      ],
      "provenance": []
    },
    "kernelspec": {
      "display_name": "Python 3",
      "name": "python3"
    },
    "language_info": {
      "codemirror_mode": {
        "name": "ipython",
        "version": 3
      },
      "file_extension": ".py",
      "mimetype": "text/x-python",
      "name": "python",
      "nbconvert_exporter": "python",
      "pygments_lexer": "ipython3",
      "version": "3.13.2"
    }
  },
  "nbformat": 4,
  "nbformat_minor": 0
}
