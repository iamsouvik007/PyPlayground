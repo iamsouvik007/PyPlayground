{
  "cells": [
    {
      "cell_type": "markdown",
      "metadata": {
        "id": "FyUJ3PRAsPr4"
      },
      "source": [
        "##`Q-1:` Rectangle Class\n",
        "1. Write a Rectangle class in Python language, allowing you to build a rectangle with length and width attributes.\n",
        "\n",
        "2. Create a Perimeter() method to calculate the perimeter of the rectangle and a Area() method to calculate the area of ​​the rectangle.\n",
        "\n",
        "3. Create a method display() that display the length, width, perimeter and area of an object created using an instantiation on rectangle class."
      ]
    },
    {
      "cell_type": "markdown",
      "metadata": {
        "id": "GxUtOqJfssFK"
      },
      "source": [
        "Eg.\n",
        "After making above classes and methods, on executing below code:-\n",
        "```\n",
        "my_rectangle = Rectangle(3 , 4)\n",
        "my_rectangle.display()\n",
        "```\n",
        "\n",
        "`Output:`\n",
        "```\n",
        "The length of rectangle is:  3\n",
        "The width of rectangle is:  4\n",
        "The perimeter of rectangle is:  14\n",
        "The area of rectangle is:  12\n",
        "```\n"
      ]
    },
    {
      "cell_type": "code",
      "execution_count": 1,
      "metadata": {
        "id": "92_QT-Uj6NBg"
      },
      "outputs": [
        {
          "name": "stdout",
          "output_type": "stream",
          "text": [
            "Length: 10\n",
            "Width: 5\n",
            "Perimeter: 30\n",
            "Area: 50\n"
          ]
        }
      ],
      "source": [
        "# write your code here\n",
        "class Rectangle:\n",
        "    def __init__(self,length,width):\n",
        "        self.length = length\n",
        "        self.width = width\n",
        "\n",
        "    def __perimeter(self):\n",
        "        return 2 * (self.length + self.width)\n",
        "    \n",
        "    def __area(self):\n",
        "        return self.length * self.width\n",
        "    \n",
        "    def display(self):\n",
        "        print(f\"Length: {self.length}\")\n",
        "        print(f\"Width: {self.width}\")\n",
        "        print(f\"Perimeter: {self.__perimeter()}\")\n",
        "        print(f\"Area: {self.__area()}\")\n",
        "\n",
        "obj = Rectangle(10, 5)\n",
        "obj.display()\n",
        "\n",
        "\n"
      ]
    },
    {
      "cell_type": "markdown",
      "metadata": {
        "id": "r_GxrS0Vrdom"
      },
      "source": [
        "##`Q-2: Bank Class`\n",
        "\n",
        "1. Create a Python class called `BankAccount` which represents a bank account, having as attributes: `accountNumber` (numeric type), `name` (name of the account owner as string type), `balance`.\n",
        "2. Create a constructor with parameters: `accountNumber, name, balance`.\n",
        "3. Create a `Deposit()` method which manages the deposit actions.\n",
        "4. Create a `Withdrawal()` method  which manages withdrawals actions.\n",
        "5. Create an `bankFees()` method to apply the bank fees with a percentage of 5% of the balance account.\n",
        "6. Create a `display()` method to display account details.\n",
        "Give the complete code for the  BankAccount class."
      ]
    },
    {
      "cell_type": "markdown",
      "metadata": {
        "id": "qvVkOUJgvTV_"
      },
      "source": [
        "Eg.\n",
        "After making above classes and methods, on executing below code:-\n",
        "```\n",
        "newAccount = BankAccount(2178514584, \"Mandy\" , 2800)\n",
        "\n",
        "newAccount.Withdrawal(700)\n",
        "\n",
        "newAccount.Deposit(1000)\n",
        "\n",
        "newAccount.display()\n",
        "```\n",
        "\n",
        "`Output:`\n",
        "```\n",
        "Account Number :  2178514584\n",
        "Account Name :  Mandy\n",
        "Account Balance :  3100 ₹\n",
        "```"
      ]
    },
    {
      "cell_type": "code",
      "execution_count": 5,
      "metadata": {
        "id": "fUQOmQyA6YDR"
      },
      "outputs": [
        {
          "name": "stdout",
          "output_type": "stream",
          "text": [
            "Deposited: 5000\n",
            "New Balance: 15000\n",
            "Withdrawn: 2000\n",
            "New Balance: 13000\n",
            "Account Holder Name: Sun Roy\n",
            "Account Number: 123456789\n",
            "Balance: 13000\n"
          ]
        }
      ],
      "source": [
        "# write your code here\n",
        "class Bank:\n",
        "    def __init__(self,name,account_number,balance):\n",
        "        self.__name = name\n",
        "        self.__account_number = account_number\n",
        "        self.__balance = balance\n",
        "\n",
        "    def display(self):\n",
        "        print(f\"Account Holder Name: {self.__name}\")\n",
        "        print(f\"Account Number: {self.__account_number}\")\n",
        "        print(f\"Balance: {self.__balance}\")\n",
        "\n",
        "    def deposite(self,amount):\n",
        "        self.__balance += amount\n",
        "        print(f\"Deposited: {amount}\")\n",
        "        print(f\"New Balance: {self.__balance}\")\n",
        "\n",
        "    def withdraw(self,amount):\n",
        "        if amount <= self.__balance:\n",
        "            self.__balance -= amount\n",
        "            print(f\"Withdrawn: {amount}\")\n",
        "            print(f\"New Balance: {self.__balance}\")\n",
        "        else:\n",
        "            print(\"Insufficient balance\")\n",
        "\n",
        "        def __bankbalance(self):\n",
        "            return self.__balance * 0.05\n",
        "\n",
        "\n",
        "obj = Bank(\"Sun Roy\", 123456789, 10000)\n",
        "obj.deposite(5000)\n",
        "obj.withdraw(2000)\n",
        "obj.display()"
      ]
    },
    {
      "cell_type": "markdown",
      "metadata": {
        "id": "QovcQAZTrgGU"
      },
      "source": [
        "##`Q-3:Computation class`\n",
        "\n",
        "1. Create a `Computation` class with a default constructor (without parameters) allowing to perform various calculations on integers numbers.\n",
        "2. Create a method called `Factorial()` which allows to calculate the factorial of an integer n. Integer n as parameter for this method\n",
        "\n",
        "3. Create a method called `naturalSum()` allowing to calculate the sum of the first n integers 1 + 2 + 3 + .. + n. Integer n as parameter for this method.\n",
        "\n",
        "4. Create a method called `testPrime()` in  the Calculation class to test the primality of a given integer n, n is Prime or Not? Integer n as parameter for this method.\n",
        "\n",
        "5. Create  a method called `testPrims()` allowing to test if two numbers are prime between them. Two integers are prime to one another if they have only `1` as their common divisor. Eg. 4 and 9 are prime to each other.\n",
        "\n",
        "5. Create a `tableMult()` method which creates and displays the multiplication table of a given integer. Then create an `allTablesMult()` method to display all the integer multiplication tables 1, 2, 3, ..., 9.\n",
        "\n",
        "6. Create a static `listDiv()` method that gets all the divisors of a given integer on new list called  Ldiv. Create another `listDivPrim()` method that gets all the prime divisors of a given integer."
      ]
    },
    {
      "cell_type": "code",
      "execution_count": null,
      "metadata": {
        "id": "YEkPH70l6Z-o"
      },
      "outputs": [],
      "source": [
        "class Computation:\n",
        "    def __init__(self):\n",
        "        pass  # Default constructor\n",
        "\n",
        "    def Factorial(self, n):\n",
        "        if n < 0:\n",
        "            return \"Factorial is not defined for negative numbers.\"\n",
        "        fact = 1\n",
        "        for i in range(2, n + 1):\n",
        "            fact *= i\n",
        "        return fact\n",
        "\n",
        "    def naturalSum(self, n):\n",
        "        if n < 1:\n",
        "            return \"Enter a positive integer.\"\n",
        "        return n * (n + 1) // 2\n",
        "\n",
        "    def testPrime(self, n):\n",
        "        if n < 2:\n",
        "            return False\n",
        "        for i in range(2, int(n**0.5) + 1):\n",
        "            if n % i == 0:\n",
        "                return False\n",
        "        return True\n",
        "\n",
        "    def testPrims(self, a, b):\n",
        "        def gcd(x, y):\n",
        "            while y:\n",
        "                x, y = y, x % y\n",
        "            return x\n",
        "        return gcd(a, b) == 1\n",
        "\n",
        "    def tableMult(self, n):\n",
        "        for i in range(1, 11):\n",
        "            print(f\"{n} x {i} = {n * i}\")\n",
        "\n",
        "    def allTablesMult(self):\n",
        "        for i in range(1, 10):\n",
        "            print(f\"\\nMultiplication Table of {i}\")\n",
        "            self.tableMult(i)\n",
        "\n",
        "    def listDiv(self, n):\n",
        "        Ldiv = []\n",
        "        for i in range(1, n + 1):\n",
        "            if n % i == 0:\n",
        "                Ldiv.append(i)\n",
        "        return Ldiv\n",
        "\n",
        "    def listDivPrim(self, n):\n",
        "        Ldiv = self.listDiv(n)\n",
        "        Lprim = [x for x in Ldiv if self.testPrime(x)]\n",
        "        return Lprim\n"
      ]
    },
    {
      "cell_type": "markdown",
      "metadata": {
        "id": "0yn23_oEriXa"
      },
      "source": [
        "##`Q-4`: Build flashcard using class in Python.\n",
        "\n",
        "Build a flashcard using class in python. A flashcard is a card having information on both sides, which can be used as an aid in memoization. Flashcards usually have a question on one side and an answer on the other.\n",
        "\n",
        "**Example 1:**\n",
        "\n",
        "Approach:\n",
        "\n",
        "- Create a class named FlashCard.\n",
        "- Initialize dictionary fruits using __init__() method. Here you have to define fruit name as key and it's color as value. E.g., {\"Banana\": \"yellow\", \"Strawberries\": \"pink\"}\n",
        "- Now randomly choose a pair from fruits by using _random_ module and store the key in variable _fruit_ and _value_ in variable color.\n",
        "- Now prompt the user to answer the color of the randomly chosen fruit.\n",
        "- If correct print correct else print wrong.\n",
        "\n",
        "Output:\n",
        "```bash\n",
        "welcome to fruit quiz\n",
        "What is the color of Strawberries\n",
        "pink\n",
        "Correct answer\n",
        "Enter 0, if you want to play again: 0\n",
        "What is the color of watermelon\n",
        "green\n",
        "Correct answer\n",
        "Enter 0, if you want to play again: 1\n",
        "```"
      ]
    },
    {
      "cell_type": "code",
      "execution_count": 8,
      "metadata": {
        "id": "vCrUF6VU6l6w"
      },
      "outputs": [
        {
          "name": "stdout",
          "output_type": "stream",
          "text": [
            "Welcome to the Flash Card Quiz!\n",
            "What is the color of banana?\n",
            "Correct!\n"
          ]
        }
      ],
      "source": [
        "# write your code here\n",
        "import random\n",
        "\n",
        "class FlashCard:\n",
        "    def __init__(self):\n",
        "        self._fruits={\n",
        "            \"apple\": \"red\",\n",
        "            \"banana\": \"yellow\",\n",
        "            \"grape\": \"green\",\n",
        "            \"orange\": \"orange\"\n",
        "            \n",
        "        }\n",
        "    def quiz(self):\n",
        "        while True:\n",
        "            fruit,color= random.choice(list(self._fruits.items()))\n",
        "\n",
        "            print(f\"What is the color of {fruit}?\")\n",
        "            answer = input(\"Your answer: \")\n",
        "            if answer.lower() == color.lower():\n",
        "                print(\"Correct!\")\n",
        "            else:\n",
        "                print(f\"Wrong! The correct answer is {color}.\")\n",
        "            play_again = input(\"Do you want to play again? (yes/no): \")\n",
        "            if play_again.lower() != \"yes\":\n",
        "                break\n",
        "\n",
        "print(\"Welcome to the Flash Card Quiz!\")\n",
        "obj = FlashCard()\n",
        "obj.quiz()\n",
        "\n",
        "\n"
      ]
    },
    {
      "cell_type": "code",
      "execution_count": null,
      "metadata": {},
      "outputs": [],
      "source": [
        "import random\n",
        "d = {\n",
        "            \"apple\": \"A sweet red fruit\",\n",
        "            \"banana\": \"A long yellow fruit\",\n",
        "            \"grape\": \"A small round fruit\",\n",
        "            \"orange\": \"A round citrus fruit\",\n",
        "            \"kiwi\": \"A small brown fruit with green flesh\"\n",
        "        }\n",
        "\n",
        "fruit,color=random.choices(list(d.items()))\n",
        "\n"
      ]
    },
    {
      "cell_type": "markdown",
      "metadata": {
        "id": "GN2r0jbRewYr"
      },
      "source": [
        "## `Q-5:` Problem 5 based on OOP Python.\n",
        "\n",
        "TechWorld, a technology training center, wants to allocate courses for instructors. An instructor is identified by name, technology skills, experience and average feedback. An instructor is allocated a course, if he/she satisfies the below two conditions:\n",
        "- eligibility criteria:\n",
        "    - if experience is more than 3 years, average feedback should be 4.5 or more\n",
        "    - if experience is 3 years or less, average feedback should be 4 or more\n",
        "- he/she should posses the technology skill for the course\n",
        "\n",
        "Identify the class name and attributes to represent instructors. Write a Python program to implement the class chosen with its attributes and methods.\n",
        "\n",
        "**Note:**\n",
        "- Consider all instance variables to be private and methods to be public.\n",
        "- An instructor may have multiple technology skills, so consider instance variable, technology_skill to be a list.\n",
        "- *check_eligibility()*: Return true if eligibility criteria is satisfied by the instructor. Else, return false\n",
        "- *allocate_course(technology)*: Return true if the course which requires the given technology can be allocated to the instructor. Else, return false.\n",
        "\n",
        "Represent a few objects of the class, initialize instance variables using setter methods, invoke\n",
        "appropriate methods and test your program."
      ]
    },
    {
      "cell_type": "code",
      "execution_count": 10,
      "metadata": {
        "id": "pdMFuVFnlvKL"
      },
      "outputs": [
        {
          "name": "stdout",
          "output_type": "stream",
          "text": [
            "True\n",
            "padha sakte hai\n"
          ]
        }
      ],
      "source": [
        "# write your code here\n",
        "class Instructor:\n",
        "\n",
        "    def __init__(self, name, technology,experience,feedback):\n",
        "        self.name = name\n",
        "        self.technology = technology\n",
        "        self.experience = experience\n",
        "        self.feedback = feedback\n",
        "\n",
        "    def checkEligiblity(self):\n",
        "        if self.experience >= 3 and self.feedback >= 4.5:\n",
        "            return True\n",
        "        elif self.experience <= 3 and self.feedback >=4:\n",
        "            return True\n",
        "        else:\n",
        "            return False\n",
        "        \n",
        "    def allocate_course(self,tech):\n",
        "        is_eligible=self.checkEligiblity()\n",
        "\n",
        "        if is_eligible:\n",
        "            if tech == self.technology:\n",
        "                return 'padha sakte hai'\n",
        "            else:\n",
        "                return 'Ye to usko ata hi nahi hai'\n",
        "        else:\n",
        "            return 'achha nehi padhate hai'\n",
        "        \n",
        "\n",
        "ins = Instructor('Ritika','Python', 3, 4.5)\n",
        "print(ins.checkEligiblity())\n",
        "print(ins.allocate_course('Python'))\n"
      ]
    },
    {
      "cell_type": "code",
      "execution_count": null,
      "metadata": {},
      "outputs": [],
      "source": []
    }
  ],
  "metadata": {
    "colab": {
      "provenance": []
    },
    "kernelspec": {
      "display_name": "Python 3",
      "name": "python3"
    },
    "language_info": {
      "codemirror_mode": {
        "name": "ipython",
        "version": 3
      },
      "file_extension": ".py",
      "mimetype": "text/x-python",
      "name": "python",
      "nbconvert_exporter": "python",
      "pygments_lexer": "ipython3",
      "version": "3.13.2"
    }
  },
  "nbformat": 4,
  "nbformat_minor": 0
}
