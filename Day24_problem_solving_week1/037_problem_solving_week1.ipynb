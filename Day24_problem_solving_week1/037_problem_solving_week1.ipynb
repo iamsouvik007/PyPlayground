{
 "cells": [
  {
   "cell_type": "markdown",
   "id": "be235ce8",
   "metadata": {},
   "source": [
    "# Week 1: Python Basics Problem Solving\n",
    "\n",
    "This notebook contains solutions to 30 basic Python problems covering variables, data types, input/output, loops, conditionals, and more. Each problem is solved in a separate cell."
   ]
  },
  {
   "cell_type": "markdown",
   "id": "634399d2",
   "metadata": {},
   "source": [
    "## Q1. Write a Python program to swap two variables."
   ]
  },
  {
   "cell_type": "code",
   "execution_count": null,
   "id": "d31ed975",
   "metadata": {},
   "outputs": [],
   "source": [
    "# Swapping two variables\n",
    "a = 5\n",
    "b = 10\n",
    "print(f\"Before swap: a = {a}, b = {b}\")\n",
    "a, b = b, a\n",
    "print(f\"After swap: a = {a}, b = {b}\")"
   ]
  },
  {
   "cell_type": "markdown",
   "id": "eaad370c",
   "metadata": {},
   "source": [
    "## Q2. Take user input and display it back to the user."
   ]
  },
  {
   "cell_type": "code",
   "execution_count": null,
   "id": "3a0ba554",
   "metadata": {},
   "outputs": [],
   "source": [
    "# Take user input and display it back\n",
    "user_input = input(\"Enter something: \")\n",
    "print(f\"You entered: {user_input}\")"
   ]
  },
  {
   "cell_type": "markdown",
   "id": "0fd0eed7",
   "metadata": {},
   "source": [
    "## Q3. Write a program to check if a number is even or odd."
   ]
  },
  {
   "cell_type": "code",
   "execution_count": null,
   "id": "01dab38c",
   "metadata": {},
   "outputs": [],
   "source": [
    "# Check if a number is even or odd\n",
    "num = int(input(\"Enter a number: \"))\n",
    "if num % 2 == 0:\n",
    "    print(f\"{num} is Even\")\n",
    "else:\n",
    "    print(f\"{num} is Odd\")"
   ]
  },
  {
   "cell_type": "markdown",
   "id": "255e97a8",
   "metadata": {},
   "source": [
    "## Q4. Create a program that prints the multiplication table of a given number."
   ]
  },
  {
   "cell_type": "code",
   "execution_count": null,
   "id": "d4b72a1a",
   "metadata": {},
   "outputs": [],
   "source": [
    "# Multiplication table of a given number\n",
    "num = int(input(\"Enter a number: \"))\n",
    "print(f\"Multiplication table of {num}:\")\n",
    "for i in range(1, 11):\n",
    "    print(f\"{num} x {i} = {num * i}\")"
   ]
  },
  {
   "cell_type": "markdown",
   "id": "b7f98fc1",
   "metadata": {},
   "source": [
    "## Q5. Write a program to find the largest of three numbers."
   ]
  },
  {
   "cell_type": "code",
   "execution_count": null,
   "id": "1b573068",
   "metadata": {},
   "outputs": [],
   "source": [
    "# Find the largest of three numbers\n",
    "a = float(input(\"Enter first number: \"))\n",
    "b = float(input(\"Enter second number: \"))\n",
    "c = float(input(\"Enter third number: \"))\n",
    "largest = a\n",
    "if b > largest:\n",
    "    largest = b\n",
    "if c > largest:\n",
    "    largest = c\n",
    "print(f\"The largest number is {largest}\")"
   ]
  },
  {
   "cell_type": "markdown",
   "id": "b111787f",
   "metadata": {},
   "source": [
    "## Q6. Convert temperature from Celsius to Fahrenheit."
   ]
  },
  {
   "cell_type": "code",
   "execution_count": null,
   "id": "96c2e147",
   "metadata": {},
   "outputs": [],
   "source": [
    "# Convert Celsius to Fahrenheit\n",
    "celsius = float(input(\"Enter temperature in Celsius: \"))\n",
    "fahrenheit = (celsius * 9/5) + 32\n",
    "print(f\"{celsius}°C = {fahrenheit}°F\")"
   ]
  },
  {
   "cell_type": "markdown",
   "id": "b6d8e086",
   "metadata": {},
   "source": [
    "## Q7. Write a program to calculate the factorial of a number using a loop."
   ]
  },
  {
   "cell_type": "code",
   "execution_count": null,
   "id": "5bdbd3d5",
   "metadata": {},
   "outputs": [],
   "source": [
    "# Calculate factorial using a loop\n",
    "num = int(input(\"Enter a number: \"))\n",
    "fact = 1\n",
    "for i in range(1, num + 1):\n",
    "    fact *= i\n",
    "print(f\"Factorial of {num} is {fact}\")"
   ]
  },
  {
   "cell_type": "markdown",
   "id": "bf9fd7e6",
   "metadata": {},
   "source": [
    "## Q8. Create a program to count the number of vowels in a string."
   ]
  },
  {
   "cell_type": "code",
   "execution_count": null,
   "id": "dbfb2ad4",
   "metadata": {},
   "outputs": [],
   "source": [
    "# Count the number of vowels in a string\n",
    "s = input(\"Enter a string: \")\n",
    "vowels = 'aeiouAEIOU'\n",
    "vowel_count = sum(1 for char in s if char in vowels)\n",
    "print(f\"Number of vowels: {vowel_count}\")"
   ]
  },
  {
   "cell_type": "markdown",
   "id": "340eff74",
   "metadata": {},
   "source": [
    "## Q9. Write a Python script to reverse a given string."
   ]
  },
  {
   "cell_type": "code",
   "execution_count": null,
   "id": "0a514699",
   "metadata": {},
   "outputs": [],
   "source": [
    "# Reverse a given string\n",
    "s = input(\"Enter a string: \")\n",
    "reversed_s = s[::-1]\n",
    "print(f\"Reversed string: {reversed_s}\")"
   ]
  },
  {
   "cell_type": "markdown",
   "id": "d89a3f66",
   "metadata": {},
   "source": [
    "## Q10. Check if a number is a palindrome."
   ]
  },
  {
   "cell_type": "code",
   "execution_count": null,
   "id": "d5b7debb",
   "metadata": {},
   "outputs": [],
   "source": [
    "# Check if a number is a palindrome\n",
    "num = int(input(\"Enter a number: \"))\n",
    "if str(num) == str(num)[::-1]:\n",
    "    print(f\"{num} is a palindrome\")\n",
    "else:\n",
    "    print(f\"{num} is not a palindrome\")"
   ]
  },
  {
   "cell_type": "markdown",
   "id": "a2b11380",
   "metadata": {},
   "source": [
    "## Q11. Write a program to find the sum of first N natural numbers."
   ]
  },
  {
   "cell_type": "code",
   "execution_count": null,
   "id": "0ef59e59",
   "metadata": {},
   "outputs": [],
   "source": [
    "# Sum of first N natural numbers\n",
    "N = int(input(\"Enter N: \"))\n",
    "sum_n = 0\n",
    "for i in range(1, N+1):\n",
    "    sum_n += i\n",
    "print(f\"Sum of first {N} natural numbers is {sum_n}\")"
   ]
  },
  {
   "cell_type": "markdown",
   "id": "bb1635c1",
   "metadata": {},
   "source": [
    "## Q12. Create a number guessing game."
   ]
  },
  {
   "cell_type": "code",
   "execution_count": null,
   "id": "538b1e6b",
   "metadata": {},
   "outputs": [],
   "source": [
    "# Number guessing game\n",
    "import random\n",
    "number = random.randint(1, 100)\n",
    "while True:\n",
    "    guess = int(input(\"Guess the number (1-100): \"))\n",
    "    if guess < number:\n",
    "        print(\"Too low!\")\n",
    "    elif guess > number:\n",
    "        print(\"Too high!\")\n",
    "    else:\n",
    "        print(\"Congratulations! You guessed it.\")\n",
    "        break"
   ]
  },
  {
   "cell_type": "markdown",
   "id": "37f41c20",
   "metadata": {},
   "source": [
    "## Q13. Write a program to print all prime numbers between 1 and 100."
   ]
  },
  {
   "cell_type": "code",
   "execution_count": null,
   "id": "6c89f903",
   "metadata": {},
   "outputs": [],
   "source": [
    "# Print all prime numbers between 1 and 100\n",
    "for num in range(2, 101):\n",
    "    is_prime = True\n",
    "    for i in range(2, int(num ** 0.5) + 1):\n",
    "        if num % i == 0:\n",
    "            is_prime = False\n",
    "            break\n",
    "    if is_prime:\n",
    "        print(num, end=' ')\n",
    "print()"
   ]
  },
  {
   "cell_type": "markdown",
   "id": "4634d7bb",
   "metadata": {},
   "source": [
    "## Q14. Check if a given year is a leap year or not."
   ]
  },
  {
   "cell_type": "code",
   "execution_count": null,
   "id": "ad10abcb",
   "metadata": {},
   "outputs": [],
   "source": [
    "# Check if a year is a leap year\n",
    "year = int(input(\"Enter a year: \"))\n",
    "if (year % 4 == 0 and year % 100 != 0) or (year % 400 == 0):\n",
    "    print(f\"{year} is a leap year\")\n",
    "else:\n",
    "    print(f\"{year} is not a leap year\")"
   ]
  },
  {
   "cell_type": "markdown",
   "id": "473289a3",
   "metadata": {},
   "source": [
    "## Q15. Create a program to print the Fibonacci series up to N terms."
   ]
  },
  {
   "cell_type": "code",
   "execution_count": null,
   "id": "8d99e2b4",
   "metadata": {},
   "outputs": [],
   "source": [
    "# Print Fibonacci series up to N terms\n",
    "N = int(input(\"Enter number of terms: \"))\n",
    "a, b = 0, 1\n",
    "for i in range(N):\n",
    "    print(a, end=' ')\n",
    "    a, b = b, a + b\n",
    "print()"
   ]
  },
  {
   "cell_type": "markdown",
   "id": "92d3e864",
   "metadata": {},
   "source": [
    "## Q16. Write a program to find the GCD of two numbers."
   ]
  },
  {
   "cell_type": "code",
   "execution_count": null,
   "id": "a4f012de",
   "metadata": {},
   "outputs": [],
   "source": [
    "# Find GCD of two numbers\n",
    "a = int(input(\"Enter first number: \"))\n",
    "b = int(input(\"Enter second number: \"))\n",
    "def gcd(x, y):\n",
    "    while y:\n",
    "        x, y = y, x % y\n",
    "    return x\n",
    "print(f\"GCD is {gcd(a, b)}\")"
   ]
  },
  {
   "cell_type": "markdown",
   "id": "5af90c94",
   "metadata": {},
   "source": [
    "## Q17. Write a program to find the LCM of two numbers."
   ]
  },
  {
   "cell_type": "code",
   "execution_count": null,
   "id": "a90f178e",
   "metadata": {},
   "outputs": [],
   "source": [
    "# Find LCM of two numbers\n",
    "a = int(input(\"Enter first number: \"))\n",
    "b = int(input(\"Enter second number: \"))\n",
    "def gcd(x, y):\n",
    "    while y:\n",
    "        x, y = y, x % y\n",
    "    return x\n",
    "lcm = a * b // gcd(a, b)\n",
    "print(f\"LCM is {lcm}\")"
   ]
  },
  {
   "cell_type": "markdown",
   "id": "46fca210",
   "metadata": {},
   "source": [
    "## Q18. Check whether a character is a vowel or consonant."
   ]
  },
  {
   "cell_type": "code",
   "execution_count": null,
   "id": "8d59be29",
   "metadata": {},
   "outputs": [],
   "source": [
    "# Check if a character is a vowel or consonant\n",
    "ch = input(\"Enter a character: \")\n",
    "if ch.lower() in 'aeiou':\n",
    "    print(f\"{ch} is a vowel\")\n",
    "else:\n",
    "    print(f\"{ch} is a consonant\")"
   ]
  },
  {
   "cell_type": "markdown",
   "id": "0da2747d",
   "metadata": {},
   "source": [
    "## Q19. Write a program to calculate the sum of digits of a number."
   ]
  },
  {
   "cell_type": "code",
   "execution_count": null,
   "id": "3309b03c",
   "metadata": {},
   "outputs": [],
   "source": [
    "# Calculate sum of digits of a number\n",
    "num = int(input(\"Enter a number: \"))\n",
    "sum_digits = 0\n",
    "temp = num\n",
    "while temp > 0:\n",
    "    sum_digits += temp % 10\n",
    "    temp //= 10\n",
    "print(f\"Sum of digits of {num} is {sum_digits}\")"
   ]
  },
  {
   "cell_type": "markdown",
   "id": "45f8a973",
   "metadata": {},
   "source": [
    "## Q20. Create a program to find the second largest number in a list."
   ]
  },
  {
   "cell_type": "code",
   "execution_count": null,
   "id": "8581a102",
   "metadata": {},
   "outputs": [],
   "source": [
    "# Find the second largest number in a list\n",
    "lst = list(map(int, input(\"Enter numbers separated by space: \").split()))\n",
    "unique_lst = list(set(lst))\n",
    "unique_lst.sort()\n",
    "if len(unique_lst) < 2:\n",
    "    print(\"No second largest number.\")\n",
    "else:\n",
    "    print(f\"Second largest number is {unique_lst[-2]}\")"
   ]
  },
  {
   "cell_type": "markdown",
   "id": "4e47d3a4",
   "metadata": {},
   "source": [
    "## Q21. Write a program to count the number of digits in an integer."
   ]
  },
  {
   "cell_type": "code",
   "execution_count": null,
   "id": "7699b3a0",
   "metadata": {},
   "outputs": [],
   "source": [
    "# Count the number of digits in an integer\n",
    "num = int(input(\"Enter an integer: \"))\n",
    "count = 0\n",
    "temp = abs(num)\n",
    "if temp == 0:\n",
    "    count = 1\n",
    "else:\n",
    "    while temp > 0:\n",
    "        count += 1\n",
    "        temp //= 10\n",
    "print(f\"Number of digits: {count}\")"
   ]
  },
  {
   "cell_type": "markdown",
   "id": "c2be8f0c",
   "metadata": {},
   "source": [
    "## Q22. Create a program to print all Armstrong numbers between 1 to 1000."
   ]
  },
  {
   "cell_type": "code",
   "execution_count": null,
   "id": "7e4f7f96",
   "metadata": {},
   "outputs": [],
   "source": [
    "# Print all Armstrong numbers between 1 to 1000\n",
    "for num in range(1, 1001):\n",
    "    order = len(str(num))\n",
    "    sum_pow = sum(int(digit) ** order for digit in str(num))\n",
    "    if num == sum_pow:\n",
    "        print(num, end=' ')\n",
    "print()"
   ]
  },
  {
   "cell_type": "markdown",
   "id": "fce4d96e",
   "metadata": {},
   "source": [
    "## Q23. Write a Python program to print a pattern of stars in a triangle."
   ]
  },
  {
   "cell_type": "code",
   "execution_count": null,
   "id": "1f315d5b",
   "metadata": {},
   "outputs": [],
   "source": [
    "# Print a pattern of stars in a triangle\n",
    "rows = int(input(\"Enter number of rows: \"))\n",
    "for i in range(1, rows + 1):\n",
    "    print(' ' * (rows - i) + '*' * (2 * i - 1))"
   ]
  },
  {
   "cell_type": "markdown",
   "id": "dfa14241",
   "metadata": {},
   "source": [
    "## Q24. Create a calculator app using if-else."
   ]
  },
  {
   "cell_type": "code",
   "execution_count": null,
   "id": "71aa70a7",
   "metadata": {},
   "outputs": [],
   "source": [
    "# Simple calculator app using if-else\n",
    "a = float(input(\"Enter first number: \"))\n",
    "b = float(input(\"Enter second number: \"))\n",
    "operator = input(\"Enter operator (+, -, *, /): \")\n",
    "if operator == '+':\n",
    "    print(f\"Result: {a + b}\")\n",
    "elif operator == '-':\n",
    "    print(f\"Result: {a - b}\")\n",
    "elif operator == '*':\n",
    "    print(f\"Result: {a * b}\")\n",
    "elif operator == '/':\n",
    "    if b != 0:\n",
    "        print(f\"Result: {a / b}\")\n",
    "    else:\n",
    "        print(\"Cannot divide by zero.\")\n",
    "else:\n",
    "    print(\"Invalid operator.\")"
   ]
  },
  {
   "cell_type": "markdown",
   "id": "a8317411",
   "metadata": {},
   "source": [
    "## Q25. Write a program to display the ASCII value of a character."
   ]
  },
  {
   "cell_type": "code",
   "execution_count": null,
   "id": "5e2bc231",
   "metadata": {},
   "outputs": [],
   "source": [
    "# Display the ASCII value of a character\n",
    "ch = input(\"Enter a character: \")\n",
    "print(f\"ASCII value of {ch} is {ord(ch)}\")"
   ]
  },
  {
   "cell_type": "markdown",
   "id": "7488d7b1",
   "metadata": {},
   "source": [
    "## Q26. Convert a decimal number to binary using loops."
   ]
  },
  {
   "cell_type": "code",
   "execution_count": null,
   "id": "ec1fe31c",
   "metadata": {},
   "outputs": [],
   "source": [
    "# Convert decimal to binary using loops\n",
    "num = int(input(\"Enter a decimal number: \"))\n",
    "binary = ''\n",
    "temp = num\n",
    "if temp == 0:\n",
    "    binary = '0'\n",
    "else:\n",
    "    while temp > 0:\n",
    "        binary = str(temp % 2) + binary\n",
    "        temp //= 2\n",
    "print(f\"Binary of {num} is {binary}\")"
   ]
  },
  {
   "cell_type": "markdown",
   "id": "3d419c3d",
   "metadata": {},
   "source": [
    "## Q27. Create a program to find the square root of a number."
   ]
  },
  {
   "cell_type": "code",
   "execution_count": null,
   "id": "1e36ae88",
   "metadata": {},
   "outputs": [],
   "source": [
    "# Find the square root of a number\n",
    "num = float(input(\"Enter a number: \"))\n",
    "if num < 0:\n",
    "    print(\"Cannot find square root of a negative number.\")\n",
    "else:\n",
    "    sqrt = num ** 0.5\n",
    "    print(f\"Square root of {num} is {sqrt}\")"
   ]
  },
  {
   "cell_type": "markdown",
   "id": "3d6ccd6b",
   "metadata": {},
   "source": [
    "## Q28. Write a program to find the sum of all even numbers in a list."
   ]
  },
  {
   "cell_type": "code",
   "execution_count": null,
   "id": "cf9907da",
   "metadata": {},
   "outputs": [],
   "source": [
    "# Find the sum of all even numbers in a list\n",
    "lst = list(map(int, input(\"Enter numbers separated by space: \").split()))\n",
    "even_sum = sum(x for x in lst if x % 2 == 0)\n",
    "print(f\"Sum of even numbers: {even_sum}\")"
   ]
  },
  {
   "cell_type": "markdown",
   "id": "291621a7",
   "metadata": {},
   "source": [
    "## Q29. Create a program to check whether a number is prime or not."
   ]
  },
  {
   "cell_type": "code",
   "execution_count": null,
   "id": "9ddc5cd5",
   "metadata": {},
   "outputs": [],
   "source": [
    "# Check whether a number is prime or not\n",
    "num = int(input(\"Enter a number: \"))\n",
    "if num < 2:\n",
    "    print(f\"{num} is not a prime number\")\n",
    "else:\n",
    "    for i in range(2, int(num ** 0.5) + 1):\n",
    "        if num % i == 0:\n",
    "            print(f\"{num} is not a prime number\")\n",
    "            break\n",
    "    else:\n",
    "        print(f\"{num} is a prime number\")"
   ]
  },
  {
   "cell_type": "markdown",
   "id": "454e6384",
   "metadata": {},
   "source": [
    "## Q30. Write a program to display the cube of the number up to an integer."
   ]
  },
  {
   "cell_type": "code",
   "execution_count": null,
   "id": "29114d3c",
   "metadata": {},
   "outputs": [],
   "source": [
    "# Display the cube of the number up to an integer\n",
    "n = int(input(\"Enter an integer: \"))\n",
    "for i in range(1, n+1):\n",
    "    print(f\"Number is: {i} and cube is: {i**3}\")"
   ]
  }
 ],
 "metadata": {
  "language_info": {
   "name": "python"
  }
 },
 "nbformat": 4,
 "nbformat_minor": 5
}
