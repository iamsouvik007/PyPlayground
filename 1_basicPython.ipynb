{
 "cells": [
  {
   "cell_type": "markdown",
   "metadata": {
    "id": "A05OG15VqOPF"
   },
   "source": [
    "# Task : Session 1\n",
    "Solve these questions own your own and try to test yourself what you have learned in the session.\n",
    "\n",
    "Happy Learning!"
   ]
  },
  {
   "cell_type": "markdown",
   "metadata": {
    "id": "2doIXf8bqe9_"
   },
   "source": [
    "### Q1 :- Print the given strings as per stated format.\n",
    "\n",
    "**Given strings**:\n",
    "```\n",
    "\"Data\" \"Science\" \"Mentorship\" \"Program\"\n",
    "\"By\" \"CampusX\"\n",
    "```\n",
    "**Output**:\n",
    "```\n",
    "Data-Science-Mentorship-Program-started-By-CampusX\n",
    "```\n",
    "\n",
    "Concept- [Seperator and End]"
   ]
  },
  {
   "cell_type": "code",
   "execution_count": 3,
   "metadata": {
    "id": "-em6d3KErDtp"
   },
   "outputs": [
    {
     "name": "stdout",
     "output_type": "stream",
     "text": [
      "Data-Science-Mentorship-ProgramstartedBy-CampusX\n"
     ]
    }
   ],
   "source": [
    "# # Write your code here\n",
    "# words=[\"Data\",\"Science\",\"Mentorship\",\"Program\",\"By\",\"CampusX\"]\n",
    "# output = \"-\".join(words[:4]+[\"started\"]+words[4:])\n",
    "# print(output)\n",
    "print(\"Data\" ,\"Science\" ,\"Mentorship\" ,\"Program\",sep='-',end='started')\n",
    "print(\"By\" ,\"CampusX\",sep='-')\n",
    "\n"
   ]
  },
  {
   "cell_type": "markdown",
   "metadata": {
    "id": "1KUpN7ZTrC3_"
   },
   "source": [
    "### Q2:- Write a program that will convert celsius value to fahrenheit."
   ]
  },
  {
   "cell_type": "code",
   "execution_count": 4,
   "metadata": {
    "id": "yxKYhYQiqWfj"
   },
   "outputs": [
    {
     "name": "stdout",
     "output_type": "stream",
     "text": [
      "99.8\n"
     ]
    }
   ],
   "source": [
    "# Write your code here\n",
    "celcius=float(input(\"Enter temp in celcius: \"))\n",
    "far = celcius*(9/5)+35\n",
    "print(far)"
   ]
  },
  {
   "cell_type": "markdown",
   "metadata": {
    "id": "RLrOBBJurLB2"
   },
   "source": [
    "### Q3:- Take 2 numbers as input from the user.Write a program to swap the numbers without using any special python syntax."
   ]
  },
  {
   "cell_type": "code",
   "execution_count": 3,
   "metadata": {
    "id": "yPn7if0TrJ4F"
   },
   "outputs": [
    {
     "name": "stdout",
     "output_type": "stream",
     "text": [
      "Value of num1 and num2 before swap-> num1=5, num2=6\n",
      "Value of Num1: 6\n",
      "Value of num2: 5\n"
     ]
    }
   ],
   "source": [
    "# Write your code here\n",
    "a=int(input(\"Enter num1: \"))\n",
    "b=int(input(\"Enter num2: \"))\n",
    "print(f\"Value of num1 and num2 before swap-> num1={a}, num2={b}\")\n",
    "a=a+b\n",
    "b=a-b\n",
    "a=a-b\n",
    "print(f\"Value of Num1: {a}\")\n",
    "print(f\"Value of num2: {b}\")"
   ]
  },
  {
   "cell_type": "markdown",
   "metadata": {
    "id": "waLCP1bjr7ML"
   },
   "source": [
    "### Q4:- Write a program to find the euclidean distance between two coordinates.Take both the coordinates from the user as input."
   ]
  },
  {
   "cell_type": "code",
   "execution_count": 6,
   "metadata": {
    "id": "Pl1Sv-xnrxnH"
   },
   "outputs": [
    {
     "name": "stdout",
     "output_type": "stream",
     "text": [
      "3.16\n"
     ]
    }
   ],
   "source": [
    "# Write your code here\n",
    "px1=int(input(\"Enter x cood of 1st point: \"))\n",
    "py1=int(input(\"Enter y cood of 2st point: \"))\n",
    "px2=int(input(\"Enter x cood of 1st point: \"))\n",
    "py2=int(input(\"Enter y cood of 2st point: \"))\n",
    "\n",
    "distance_between_two_point=((px2-px1)**2+(py2+py1)**2)**0.5\n",
    "print(round(distance_between_two_point,2))"
   ]
  },
  {
   "cell_type": "markdown",
   "metadata": {
    "id": "VLrhg-FRsHjR"
   },
   "source": [
    "### Q5:- Write a program to find the simple interest when the value of principle,rate of interest and time period is provided by the user.\n"
   ]
  },
  {
   "cell_type": "code",
   "execution_count": 8,
   "metadata": {
    "id": "s40DlReZsTmY"
   },
   "outputs": [
    {
     "name": "stdout",
     "output_type": "stream",
     "text": [
      "The interest is :  150.0\n"
     ]
    }
   ],
   "source": [
    "# Write your code here\n",
    "p = int(input(\"Enter amount: \"))\n",
    "t = int(input(\"Enter time: \"))\n",
    "r = float(input(\"Enter rate: \"))\n",
    "interest = (p*t*r)/100\n",
    "print(\"The interest is : \",interest)"
   ]
  },
  {
   "cell_type": "markdown",
   "metadata": {
    "id": "LMy0BTUktYKa"
   },
   "source": [
    "### Q6:- Write a program that will tell the number of dogs and chicken are there when the user will provide the value of total heads and legs.\n",
    "\n",
    "For example:\n",
    "Input:\n",
    "heads -> 4\n",
    "legs -> 12\n",
    "<br>\n",
    "Output:\n",
    "dogs -> 2\n",
    "chicken -> 2\n",
    "\n",
    "\n",
    "\n"
   ]
  },
  {
   "cell_type": "code",
   "execution_count": 13,
   "metadata": {
    "id": "XSBvJoA4tXaG"
   },
   "outputs": [
    {
     "name": "stdout",
     "output_type": "stream",
     "text": [
      "No of Dogs->20 and No of Chicken->20\n"
     ]
    }
   ],
   "source": [
    "# Write your code here\n",
    "# 2C+4D=legs\n",
    "# 2C+2D=2head\n",
    "# D=(legs-2head)/2\n",
    "# c=head-D\n",
    "\n",
    "\n",
    "\n",
    "head = int(input(\"Enter no of heads: \"))\n",
    "legs = int(input(\"Enter no of legs: \"))\n",
    "Dogs=(legs-2*head)//2\n",
    "Chicken=head-Dogs\n",
    "print(f\"No of Dogs->{Dogs} and No of Chicken->{Chicken}\")"
   ]
  },
  {
   "cell_type": "markdown",
   "metadata": {
    "id": "gJ7C5kZYt4BP"
   },
   "source": [
    "### Q7:- Write a program to find the sum of squares of first n natural numbers where n will be provided by the user."
   ]
  },
  {
   "cell_type": "code",
   "execution_count": 14,
   "metadata": {
    "id": "_tHsmEHzt2nX"
   },
   "outputs": [
    {
     "name": "stdout",
     "output_type": "stream",
     "text": [
      "55\n"
     ]
    }
   ],
   "source": [
    "# Write your code here\n",
    "n=int(input(\"Enter a number: \"))\n",
    "sum=0\n",
    "for i in range(1,n+1):\n",
    "    sum = sum+i**2\n",
    "\n",
    "print(sum)"
   ]
  },
  {
   "cell_type": "markdown",
   "metadata": {
    "id": "FHrMM7g-yG1h"
   },
   "source": [
    "### Q8:- Given the first 2 terms of an Arithmetic Series.Find the Nth term of the series. Assume all inputs are provided by the user."
   ]
  },
  {
   "cell_type": "code",
   "execution_count": 16,
   "metadata": {
    "id": "go4_kmZmyVSx"
   },
   "outputs": [
    {
     "name": "stdout",
     "output_type": "stream",
     "text": [
      "199\n"
     ]
    }
   ],
   "source": [
    "# Write your code here\n",
    "n = int(input(\"Enter the n th term to be calculated: \"))\n",
    "a = int(input(\"Enter the first term: \"))\n",
    "b = int(input(\"Enter the second term: \"))\n",
    "d=b-a\n",
    "Nth=a+(n-1)*d\n",
    "print(Nth)"
   ]
  },
  {
   "cell_type": "markdown",
   "metadata": {
    "id": "QgyRX_es1oum"
   },
   "source": [
    "### Q9:- Given 2 fractions, find the sum of those 2 fractions.Take the numerator and denominator values of the fractions from the user."
   ]
  },
  {
   "cell_type": "code",
   "execution_count": 22,
   "metadata": {
    "id": "X05xqFS1yW16"
   },
   "outputs": [
    {
     "name": "stdout",
     "output_type": "stream",
     "text": [
      "The result fraction is: 10/12\n"
     ]
    }
   ],
   "source": [
    "# Input for the two fractions\n",
    "nume1 = int(input(\"Enter numerator of first fraction: \"))\n",
    "deno1 = int(input(\"Enter denominator of first fraction: \"))\n",
    "nume2 = int(input(\"Enter numerator of second fraction: \"))\n",
    "deno2 = int(input(\"Enter denominator of second fraction: \"))\n",
    "\n",
    "# Calculate the numerator and denominator of the result\n",
    "ResultNume = (nume1 * deno2) + (nume2 * deno1)\n",
    "ResultDeno = deno1 * deno2  # The common denominator is the product of the denominators\n",
    "\n",
    "# Print the result\n",
    "if ResultNume==ResultDeno:\n",
    "    print(1)\n",
    "else:\n",
    "    print(f\"The result fraction is: {ResultNume}/{ResultDeno}\")\n"
   ]
  },
  {
   "cell_type": "markdown",
   "metadata": {
    "id": "eaql38ln13u7"
   },
   "source": [
    "### Q10:- Given the height, width and breadth of a milk tank, you have to find out how many glasses of milk can be obtained? Assume all the inputs are provided by the user.\n",
    "\n",
    "\n",
    "\n",
    "Input:<br>\n",
    "Dimensions of the milk tank<br>\n",
    "H = 20cm, L = 20cm, B = 20cm\n",
    "<br><br>\n",
    "Dimensions of the glass<br>\n",
    "h = 3cm, r = 1cm"
   ]
  },
  {
   "cell_type": "code",
   "execution_count": 25,
   "metadata": {
    "id": "FePZqno74eWv"
   },
   "outputs": [
    {
     "name": "stdout",
     "output_type": "stream",
     "text": [
      "848.0\n"
     ]
    }
   ],
   "source": [
    "# Write your code here\n",
    "\n",
    "heightOfTank=int(input(\"Enter height of the tank\"))\n",
    "widthOfTank=int(input(\"Enter width of the tank\"))\n",
    "lengthOfTank=int(input(\"Enter length of the tank\"))\n",
    "\n",
    "heightOfGlass=int(input(\"Enter height of the glass\"))\n",
    "radiusOfGlass=int(input(\"Enter radius of the glass\"))\n",
    "\n",
    "numberOfGlass=(heightOfTank*widthOfTank*lengthOfTank)//(3.1415*radiusOfGlass**2*heightOfGlass)\n",
    "\n",
    "print(numberOfGlass)\n",
    "\n",
    "\n"
   ]
  },
  {
   "cell_type": "code",
   "execution_count": null,
   "metadata": {},
   "outputs": [],
   "source": []
  }
 ],
 "metadata": {
  "colab": {
   "provenance": []
  },
  "kernelspec": {
   "display_name": "Python 3",
   "name": "python3"
  },
  "language_info": {
   "codemirror_mode": {
    "name": "ipython",
    "version": 3
   },
   "file_extension": ".py",
   "mimetype": "text/x-python",
   "name": "python",
   "nbconvert_exporter": "python",
   "pygments_lexer": "ipython3",
   "version": "3.13.1"
  }
 },
 "nbformat": 4,
 "nbformat_minor": 0
}
