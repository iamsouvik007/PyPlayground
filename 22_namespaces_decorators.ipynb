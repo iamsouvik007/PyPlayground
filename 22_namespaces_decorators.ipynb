{
  "cells": [
    {
      "cell_type": "markdown",
      "metadata": {
        "id": "Xk9kpQFIwb4q"
      },
      "source": [
        "### Namespaces\n",
        "\n",
        "A namespace is a space that holds names(identifiers).Programmatically speaking, namespaces are dictionary of identifiers(keys) and their objects(values)\n",
        "\n",
        "There are 4 types of namespaces:\n",
        "- Builtin Namespace\n",
        "- Global Namespace\n",
        "- Enclosing Namespace\n",
        "- Local Namespace"
      ]
    },
    {
      "cell_type": "markdown",
      "metadata": {
        "id": "gwHLayLAz07u"
      },
      "source": [
        "### Scope and LEGB Rule\n",
        "\n",
        "A scope is a textual region of a Python program where a namespace is directly accessible.\n",
        "\n",
        "The interpreter searches for a name from the inside out, looking in the local, enclosing, global, and finally the built-in scope. If the interpreter doesn’t find the name in any of these locations, then Python raises a NameError exception."
      ]
    },
    {
      "cell_type": "code",
      "execution_count": null,
      "metadata": {
        "colab": {
          "base_uri": "https://localhost:8080/"
        },
        "id": "je-pFfh12wH_",
        "outputId": "07ad3dca-cf87-4bf1-ce0a-5ec58cb17390"
      },
      "outputs": [
        {
          "name": "stdout",
          "output_type": "stream",
          "text": [
            "3\n",
            "2\n"
          ]
        }
      ],
      "source": [
        "# local and global\n",
        "# global var\n",
        "a = 2\n",
        "\n",
        "def temp():\n",
        "  # local var\n",
        "  b = 3\n",
        "  print(b)\n",
        "\n",
        "temp()\n",
        "print(a)"
      ]
    },
    {
      "cell_type": "code",
      "execution_count": 1,
      "metadata": {
        "id": "j8yQ5lUr2yCq"
      },
      "outputs": [
        {
          "ename": "NameError",
          "evalue": "name 'b' is not defined",
          "output_type": "error",
          "traceback": [
            "\u001b[1;31m---------------------------------------------------------------------------\u001b[0m",
            "\u001b[1;31mNameError\u001b[0m                                 Traceback (most recent call last)",
            "Cell \u001b[1;32mIn[1], line 9\u001b[0m\n\u001b[0;32m      6\u001b[0m   a \u001b[38;5;241m=\u001b[39m \u001b[38;5;241m3\u001b[39m\n\u001b[0;32m      7\u001b[0m   \u001b[38;5;28mprint\u001b[39m(b)\n\u001b[1;32m----> 9\u001b[0m \u001b[43mtemp\u001b[49m\u001b[43m(\u001b[49m\u001b[43m)\u001b[49m\n\u001b[0;32m     10\u001b[0m \u001b[38;5;28mprint\u001b[39m(a)\n",
            "Cell \u001b[1;32mIn[1], line 7\u001b[0m, in \u001b[0;36mtemp\u001b[1;34m()\u001b[0m\n\u001b[0;32m      4\u001b[0m \u001b[38;5;28;01mdef\u001b[39;00m\u001b[38;5;250m \u001b[39m\u001b[38;5;21mtemp\u001b[39m():\n\u001b[0;32m      5\u001b[0m   \u001b[38;5;66;03m# local var\u001b[39;00m\n\u001b[0;32m      6\u001b[0m   a \u001b[38;5;241m=\u001b[39m \u001b[38;5;241m3\u001b[39m\n\u001b[1;32m----> 7\u001b[0m   \u001b[38;5;28mprint\u001b[39m(\u001b[43mb\u001b[49m)\n",
            "\u001b[1;31mNameError\u001b[0m: name 'b' is not defined"
          ]
        }
      ],
      "source": [
        "# local and global -> same name\n",
        "a = 2\n",
        "\n",
        "def temp():\n",
        "  # local var\n",
        "  a = 3\n",
        "  print(b)\n",
        "\n",
        "temp()\n",
        "print(a)"
      ]
    },
    {
      "cell_type": "code",
      "execution_count": null,
      "metadata": {
        "colab": {
          "base_uri": "https://localhost:8080/"
        },
        "id": "KGxD7YQS3We_",
        "outputId": "8e329d2f-7a9b-4516-d43e-02d293e882b9"
      },
      "outputs": [
        {
          "name": "stdout",
          "output_type": "stream",
          "text": [
            "2\n",
            "2\n"
          ]
        }
      ],
      "source": [
        "# local and global -> local does not have but global has\n",
        "a = 2\n",
        "\n",
        "def temp():\n",
        "  # local var\n",
        "  print(a)\n",
        "\n",
        "temp()\n",
        "print(a)\n"
      ]
    },
    {
      "cell_type": "code",
      "execution_count": null,
      "metadata": {
        "colab": {
          "base_uri": "https://localhost:8080/",
          "height": 348
        },
        "id": "ey9-FHzM21P_",
        "outputId": "fee2d260-f6e5-4db1-f7d7-52c829a41e4a"
      },
      "outputs": [
        {
          "ename": "UnboundLocalError",
          "evalue": "ignored",
          "output_type": "error",
          "traceback": [
            "\u001b[0;31m---------------------------------------------------------------------------\u001b[0m",
            "\u001b[0;31mUnboundLocalError\u001b[0m                         Traceback (most recent call last)",
            "\u001b[0;32m<ipython-input-49-0bff4ae6448f>\u001b[0m in \u001b[0;36m<module>\u001b[0;34m\u001b[0m\n\u001b[1;32m      7\u001b[0m   \u001b[0mprint\u001b[0m\u001b[0;34m(\u001b[0m\u001b[0ma\u001b[0m\u001b[0;34m)\u001b[0m\u001b[0;34m\u001b[0m\u001b[0;34m\u001b[0m\u001b[0m\n\u001b[1;32m      8\u001b[0m \u001b[0;34m\u001b[0m\u001b[0m\n\u001b[0;32m----> 9\u001b[0;31m \u001b[0mtemp\u001b[0m\u001b[0;34m(\u001b[0m\u001b[0;34m)\u001b[0m\u001b[0;34m\u001b[0m\u001b[0;34m\u001b[0m\u001b[0m\n\u001b[0m\u001b[1;32m     10\u001b[0m \u001b[0mprint\u001b[0m\u001b[0;34m(\u001b[0m\u001b[0ma\u001b[0m\u001b[0;34m)\u001b[0m\u001b[0;34m\u001b[0m\u001b[0;34m\u001b[0m\u001b[0m\n",
            "\u001b[0;32m<ipython-input-49-0bff4ae6448f>\u001b[0m in \u001b[0;36mtemp\u001b[0;34m()\u001b[0m\n\u001b[1;32m      4\u001b[0m \u001b[0;32mdef\u001b[0m \u001b[0mtemp\u001b[0m\u001b[0;34m(\u001b[0m\u001b[0;34m)\u001b[0m\u001b[0;34m:\u001b[0m\u001b[0;34m\u001b[0m\u001b[0;34m\u001b[0m\u001b[0m\n\u001b[1;32m      5\u001b[0m   \u001b[0;31m# local var\u001b[0m\u001b[0;34m\u001b[0m\u001b[0;34m\u001b[0m\u001b[0;34m\u001b[0m\u001b[0m\n\u001b[0;32m----> 6\u001b[0;31m   \u001b[0ma\u001b[0m \u001b[0;34m+=\u001b[0m \u001b[0;36m1\u001b[0m\u001b[0;34m\u001b[0m\u001b[0;34m\u001b[0m\u001b[0m\n\u001b[0m\u001b[1;32m      7\u001b[0m   \u001b[0mprint\u001b[0m\u001b[0;34m(\u001b[0m\u001b[0ma\u001b[0m\u001b[0;34m)\u001b[0m\u001b[0;34m\u001b[0m\u001b[0;34m\u001b[0m\u001b[0m\n\u001b[1;32m      8\u001b[0m \u001b[0;34m\u001b[0m\u001b[0m\n",
            "\u001b[0;31mUnboundLocalError\u001b[0m: local variable 'a' referenced before assignment"
          ]
        }
      ],
      "source": [
        "# local and global -> editing global\n",
        "a = 2\n",
        "\n",
        "def temp():\n",
        "  # local var\n",
        "  a += 1\n",
        "  print(a)\n",
        "\n",
        "temp()\n",
        "print(a)"
      ]
    },
    {
      "cell_type": "code",
      "execution_count": null,
      "metadata": {
        "colab": {
          "base_uri": "https://localhost:8080/"
        },
        "id": "F1FtV8ZLBNvy",
        "outputId": "4dd8a6e7-8cda-4652-c34c-f1b3b3b99f3b"
      },
      "outputs": [
        {
          "name": "stdout",
          "output_type": "stream",
          "text": [
            "3\n",
            "3\n"
          ]
        }
      ],
      "source": [
        "a = 2\n",
        "\n",
        "def temp():\n",
        "  # local var\n",
        "  global a\n",
        "  a += 1\n",
        "  print(a)\n",
        "\n",
        "temp()\n",
        "print(a)"
      ]
    },
    {
      "cell_type": "code",
      "execution_count": null,
      "metadata": {
        "id": "yDkgBLQu3JIw"
      },
      "outputs": [
        {
          "name": "stdout",
          "output_type": "stream",
          "text": [
            "1\n",
            "1\n"
          ]
        }
      ],
      "source": [
        "# local and global -> global created inside local\n",
        "def temp():\n",
        "  # local var\n",
        "  global a\n",
        "  a = 1\n",
        "  print(a)\n",
        "\n",
        "temp()\n",
        "print(a)\n",
        "\n",
        "# When we use global inside local function without defining it in global scope, \n"
      ]
    },
    {
      "cell_type": "code",
      "execution_count": null,
      "metadata": {
        "colab": {
          "base_uri": "https://localhost:8080/",
          "height": 241
        },
        "id": "gWLr0xi024Or",
        "outputId": "744dd057-68f4-46f1-8f44-522eb5cf3521"
      },
      "outputs": [
        {
          "name": "stdout",
          "output_type": "stream",
          "text": [
            "5\n",
            "5\n"
          ]
        },
        {
          "ename": "NameError",
          "evalue": "ignored",
          "output_type": "error",
          "traceback": [
            "\u001b[0;31m---------------------------------------------------------------------------\u001b[0m",
            "\u001b[0;31mNameError\u001b[0m                                 Traceback (most recent call last)",
            "\u001b[0;32m<ipython-input-51-aac3f4d9657f>\u001b[0m in \u001b[0;36m<module>\u001b[0;34m\u001b[0m\n\u001b[1;32m      7\u001b[0m \u001b[0mtemp\u001b[0m\u001b[0;34m(\u001b[0m\u001b[0;36m5\u001b[0m\u001b[0;34m)\u001b[0m\u001b[0;34m\u001b[0m\u001b[0;34m\u001b[0m\u001b[0m\n\u001b[1;32m      8\u001b[0m \u001b[0mprint\u001b[0m\u001b[0;34m(\u001b[0m\u001b[0ma\u001b[0m\u001b[0;34m)\u001b[0m\u001b[0;34m\u001b[0m\u001b[0;34m\u001b[0m\u001b[0m\n\u001b[0;32m----> 9\u001b[0;31m \u001b[0mprint\u001b[0m\u001b[0;34m(\u001b[0m\u001b[0mz\u001b[0m\u001b[0;34m)\u001b[0m\u001b[0;34m\u001b[0m\u001b[0;34m\u001b[0m\u001b[0m\n\u001b[0m",
            "\u001b[0;31mNameError\u001b[0m: name 'z' is not defined"
          ]
        }
      ],
      "source": [
        "# local and global -> function parameter is local\n",
        "def temp(z):\n",
        "  # local var\n",
        "  print(z)\n",
        "\n",
        "a = 5\n",
        "temp(5)\n",
        "print(a)\n",
        "print(z)"
      ]
    },
    {
      "cell_type": "code",
      "execution_count": null,
      "metadata": {
        "colab": {
          "base_uri": "https://localhost:8080/"
        },
        "id": "P7wHSji-3q-r",
        "outputId": "ff2f6d15-70a6-4972-b789-37eeac7082b1"
      },
      "outputs": [
        {
          "name": "stdout",
          "output_type": "stream",
          "text": [
            "['ArithmeticError', 'AssertionError', 'AttributeError', 'BaseException', 'BlockingIOError', 'BrokenPipeError', 'BufferError', 'BytesWarning', 'ChildProcessError', 'ConnectionAbortedError', 'ConnectionError', 'ConnectionRefusedError', 'ConnectionResetError', 'DeprecationWarning', 'EOFError', 'Ellipsis', 'EnvironmentError', 'Exception', 'False', 'FileExistsError', 'FileNotFoundError', 'FloatingPointError', 'FutureWarning', 'GeneratorExit', 'IOError', 'ImportError', 'ImportWarning', 'IndentationError', 'IndexError', 'InterruptedError', 'IsADirectoryError', 'KeyError', 'KeyboardInterrupt', 'LookupError', 'MemoryError', 'ModuleNotFoundError', 'NameError', 'None', 'NotADirectoryError', 'NotImplemented', 'NotImplementedError', 'OSError', 'OverflowError', 'PendingDeprecationWarning', 'PermissionError', 'ProcessLookupError', 'RecursionError', 'ReferenceError', 'ResourceWarning', 'RuntimeError', 'RuntimeWarning', 'StopAsyncIteration', 'StopIteration', 'SyntaxError', 'SyntaxWarning', 'SystemError', 'SystemExit', 'TabError', 'TimeoutError', 'True', 'TypeError', 'UnboundLocalError', 'UnicodeDecodeError', 'UnicodeEncodeError', 'UnicodeError', 'UnicodeTranslateError', 'UnicodeWarning', 'UserWarning', 'ValueError', 'Warning', 'ZeroDivisionError', '__IPYTHON__', '__build_class__', '__debug__', '__doc__', '__import__', '__loader__', '__name__', '__package__', '__spec__', 'abs', 'all', 'any', 'ascii', 'bin', 'bool', 'breakpoint', 'bytearray', 'bytes', 'callable', 'chr', 'classmethod', 'compile', 'complex', 'copyright', 'credits', 'delattr', 'dict', 'dir', 'display', 'divmod', 'enumerate', 'eval', 'exec', 'execfile', 'filter', 'float', 'format', 'frozenset', 'get_ipython', 'getattr', 'globals', 'hasattr', 'hash', 'help', 'hex', 'id', 'input', 'int', 'isinstance', 'issubclass', 'iter', 'len', 'license', 'list', 'locals', 'map', 'max', 'memoryview', 'min', 'next', 'object', 'oct', 'open', 'ord', 'pow', 'print', 'property', 'range', 'repr', 'reversed', 'round', 'runfile', 'set', 'setattr', 'slice', 'sorted', 'staticmethod', 'str', 'sum', 'super', 'tuple', 'type', 'vars', 'zip']\n"
          ]
        }
      ],
      "source": [
        "# built-in scope\n",
        "import builtins\n",
        "print(dir(builtins))"
      ]
    },
    {
      "cell_type": "code",
      "execution_count": null,
      "metadata": {
        "id": "F769q7Nj33tX"
      },
      "outputs": [],
      "source": [
        "# how to see all the built-ins"
      ]
    },
    {
      "cell_type": "code",
      "execution_count": null,
      "metadata": {
        "colab": {
          "base_uri": "https://localhost:8080/",
          "height": 241
        },
        "id": "Qd3fM_Ha3ruR",
        "outputId": "fb8b79d9-8b3a-483f-b1aa-b642832c1edd"
      },
      "outputs": [
        {
          "ename": "TypeError",
          "evalue": "max() takes 0 positional arguments but 1 was given",
          "output_type": "error",
          "traceback": [
            "\u001b[1;31m---------------------------------------------------------------------------\u001b[0m",
            "\u001b[1;31mTypeError\u001b[0m                                 Traceback (most recent call last)",
            "Cell \u001b[1;32mIn[4], line 3\u001b[0m\n\u001b[0;32m      1\u001b[0m \u001b[38;5;66;03m# renaming built-ins\u001b[39;00m\n\u001b[0;32m      2\u001b[0m L \u001b[38;5;241m=\u001b[39m [\u001b[38;5;241m1\u001b[39m,\u001b[38;5;241m2\u001b[39m,\u001b[38;5;241m3\u001b[39m]\n\u001b[1;32m----> 3\u001b[0m \u001b[38;5;28mprint\u001b[39m(\u001b[38;5;28;43mmax\u001b[39;49m\u001b[43m(\u001b[49m\u001b[43mL\u001b[49m\u001b[43m)\u001b[49m)\n\u001b[0;32m      4\u001b[0m \u001b[38;5;28;01mdef\u001b[39;00m\u001b[38;5;250m \u001b[39m\u001b[38;5;21mmax\u001b[39m():\n\u001b[0;32m      5\u001b[0m   \u001b[38;5;28mprint\u001b[39m(\u001b[38;5;124m'\u001b[39m\u001b[38;5;124mhello\u001b[39m\u001b[38;5;124m'\u001b[39m)\n",
            "\u001b[1;31mTypeError\u001b[0m: max() takes 0 positional arguments but 1 was given"
          ]
        }
      ],
      "source": [
        "# renaming built-ins\n",
        "L = [1,2,3]\n",
        "print(max(L))\n",
        "def max():\n",
        "  print('hello')\n",
        "\n",
        "print(max(L))\n",
        "\n",
        "# Due to legb rule it first check in global scope so it execute the function max() defined by us \n",
        "# instead of the built-in max function.\n",
        "# To avoid this we should not use the names of built-ins as variable or function names.\n",
        "\n",
        "\n"
      ]
    },
    {
      "cell_type": "code",
      "execution_count": 2,
      "metadata": {
        "colab": {
          "base_uri": "https://localhost:8080/"
        },
        "id": "JORTYJik4LKH",
        "outputId": "1458570e-91b5-4533-d1be-2f89c4585c79"
      },
      "outputs": [
        {
          "name": "stdout",
          "output_type": "stream",
          "text": [
            "1\n",
            "outer function\n",
            "main program\n"
          ]
        }
      ],
      "source": [
        "# Enclosing scope\n",
        "def outer():\n",
        "  # a=3\n",
        "  def inner():\n",
        "    # a=2\n",
        "    print(a)\n",
        "  inner()\n",
        "  print('outer function')\n",
        "\n",
        "a=1\n",
        "outer()\n",
        "print('main program')\n",
        "\n",
        "# inner --> local, outer --> enclosing, main program --> global"
      ]
    },
    {
      "cell_type": "markdown",
      "metadata": {},
      "source": [
        "## First it checks in local, then enclosing then global and then builtins"
      ]
    },
    {
      "cell_type": "code",
      "execution_count": null,
      "metadata": {
        "colab": {
          "base_uri": "https://localhost:8080/"
        },
        "id": "mG6ONk3I4lFX",
        "outputId": "c989fa4d-0ffd-48bc-fedf-16afc53ca8fa"
      },
      "outputs": [
        {
          "name": "stdout",
          "output_type": "stream",
          "text": [
            "inner 2\n",
            "outer 2\n",
            "main program\n"
          ]
        }
      ],
      "source": [
        "# nonlocal keyword\n",
        "def outer():\n",
        "  a = 1\n",
        "  def inner():\n",
        "    nonlocal a\n",
        "    a += 1\n",
        "    print('inner',a)\n",
        "  inner()\n",
        "  print('outer',a)\n",
        "\n",
        "\n",
        "outer()\n",
        "print('main program')"
      ]
    },
    {
      "cell_type": "code",
      "execution_count": null,
      "metadata": {
        "id": "zCRkJHrP5NMx"
      },
      "outputs": [],
      "source": [
        "# Summary"
      ]
    },
    {
      "cell_type": "markdown",
      "metadata": {
        "id": "v2I4_MetLUYb"
      },
      "source": [
        "### Decorators\n",
        "\n",
        "A decorator in python is a function that receives another function as input and adds some functionality(decoration) to and it and returns it.\n",
        "\n",
        "This can happen only because python functions are 1st class citizens.\n",
        "\n",
        "There are 2 types of decorators available in python\n",
        "- `Built in decorators` like `@staticmethod`, `@classmethod`, `@abstractmethod` and `@property` etc\n",
        "- `User defined decorators` that we programmers can create according to our needs"
      ]
    },
    {
      "cell_type": "code",
      "execution_count": 3,
      "metadata": {
        "colab": {
          "base_uri": "https://localhost:8080/"
        },
        "id": "PLEnpaeHUvAk",
        "outputId": "86fe9ab7-3533-4ed2-cd65-f96e8941df74"
      },
      "outputs": [
        {
          "name": "stdout",
          "output_type": "stream",
          "text": [
            "hello\n"
          ]
        }
      ],
      "source": [
        "# Python are 1st class function\n",
        "\n",
        "def fun():\n",
        "    print('hello')\n",
        "\n",
        "a = fun\n",
        "a()\n"
      ]
    },
    {
      "cell_type": "code",
      "execution_count": 4,
      "metadata": {},
      "outputs": [
        {
          "ename": "NameError",
          "evalue": "name 'fun' is not defined",
          "output_type": "error",
          "traceback": [
            "\u001b[1;31m---------------------------------------------------------------------------\u001b[0m",
            "\u001b[1;31mNameError\u001b[0m                                 Traceback (most recent call last)",
            "Cell \u001b[1;32mIn[4], line 5\u001b[0m\n\u001b[0;32m      2\u001b[0m     \u001b[38;5;28mprint\u001b[39m(\u001b[38;5;124m'\u001b[39m\u001b[38;5;124mhello\u001b[39m\u001b[38;5;124m'\u001b[39m)\n\u001b[0;32m      4\u001b[0m \u001b[38;5;28;01mdel\u001b[39;00m fun\n\u001b[1;32m----> 5\u001b[0m \u001b[43mfun\u001b[49m()\n",
            "\u001b[1;31mNameError\u001b[0m: name 'fun' is not defined"
          ]
        }
      ],
      "source": [
        "def fun():\n",
        "    print('hello')\n",
        "\n",
        "del fun\n",
        "fun()\n"
      ]
    },
    {
      "cell_type": "code",
      "execution_count": 7,
      "metadata": {},
      "outputs": [
        {
          "name": "stdout",
          "output_type": "stream",
          "text": [
            "25\n",
            "125\n"
          ]
        }
      ],
      "source": [
        "def modify(func,num):\n",
        "    return func(num)\n",
        "def square(num):\n",
        "    return num**2\n",
        "def cube(num):\n",
        "    return num**3\n",
        "\n",
        "print(modify(square,5))\n",
        "print(modify(cube,5))"
      ]
    },
    {
      "cell_type": "code",
      "execution_count": null,
      "metadata": {},
      "outputs": [],
      "source": []
    },
    {
      "cell_type": "code",
      "execution_count": 8,
      "metadata": {
        "colab": {
          "base_uri": "https://localhost:8080/"
        },
        "id": "fsyP9F9z5OSe",
        "outputId": "ec17ff47-2eaa-46e4-a6c7-0eb131ff488c"
      },
      "outputs": [
        {
          "name": "stdout",
          "output_type": "stream",
          "text": [
            "***********************\n",
            "hello\n",
            "***********************\n",
            "***********************\n",
            "hello python\n",
            "***********************\n"
          ]
        }
      ],
      "source": [
        "# simple example\n",
        "\n",
        "def my_decorator(func):\n",
        "  def wrapper():\n",
        "    print('***********************')\n",
        "    func()\n",
        "    print('***********************')\n",
        "  return wrapper\n",
        "\n",
        "def hello():\n",
        "  print('hello')\n",
        "\n",
        "def display():\n",
        "  print('hello python')\n",
        "\n",
        "a = my_decorator(hello)\n",
        "a()\n",
        "\n",
        "b = my_decorator(display)\n",
        "b()"
      ]
    },
    {
      "attachments": {
        "image.png": {
          "image/png": "[encoded data removed]"
        }
      },
      "cell_type": "markdown",
      "metadata": {},
      "source": [
        "![image.png](attachment:image.png)"
      ]
    },
    {
      "cell_type": "code",
      "execution_count": null,
      "metadata": {},
      "outputs": [],
      "source": [
        "def outer():\n",
        "    a = 5\n",
        "    def inner():\n",
        "        print(a)\n",
        "    return inner\n",
        "\n",
        "b= outer\n",
        "b()  \n",
        "\n",
        "# Step by step this code will execute as follows:\n",
        "# 1. The function `outer` is defined.\n",
        "# 2. When `outer` is called, it creates a local variable `a` with the value `5`.\n",
        "# 3. The inner function `inner` is defined within `outer`, which has access to the local variable `a`.\n",
        "# 4. The `outer` function returns the `inner` function, which is assigned to the variable `b`.\n",
        "# 5. When outer returns inner then b got the reference of inner function. And it seems that a is destroyed from memory as it is returned, but it is not destroyed.\n",
        "# 6. When `b()` is called, it executes the `inner` function, which prints the value of `a` (which is `5`).\n",
        "# 7. The output will be `5`, demonstrating that the inner function retains access to the local variable `a` from the outer function's scope.\n",
        "# This is an example of a closure in Python, where the inner function retains access to the variables of the outer function even after the outer function has finished executing."
      ]
    },
    {
      "attachments": {
        "image-2.png": {
          "image/png": "[encoded data removed]"
        },
        "image.png": {
          "image/png": "[encoded data removed]"
        }
      },
      "cell_type": "markdown",
      "metadata": {},
      "source": [
        "![image.png](attachment:image.png)\n",
        "![image-2.png](attachment:image-2.png)"
      ]
    },
    {
      "cell_type": "code",
      "execution_count": null,
      "metadata": {
        "id": "3wh7a0paP4wv"
      },
      "outputs": [],
      "source": [
        "# more functions"
      ]
    },
    {
      "cell_type": "code",
      "execution_count": null,
      "metadata": {
        "id": "3rwgdym6UyV2"
      },
      "outputs": [],
      "source": [
        "# how this works -> closure?"
      ]
    },
    {
      "cell_type": "code",
      "execution_count": null,
      "metadata": {
        "id": "2JD6mQ7TNqRR"
      },
      "outputs": [],
      "source": [
        "# python tutor"
      ]
    },
    {
      "cell_type": "code",
      "execution_count": null,
      "metadata": {
        "colab": {
          "base_uri": "https://localhost:8080/"
        },
        "id": "6xenz10AVfTp",
        "outputId": "cb2e3d25-d951-49d5-ae36-62fff01bae68"
      },
      "outputs": [
        {
          "name": "stdout",
          "output_type": "stream",
          "text": [
            "***********************\n",
            "hello\n",
            "***********************\n"
          ]
        }
      ],
      "source": [
        "# Better syntax?\n",
        "# simple example\n",
        "\n",
        "def my_decorator(func):\n",
        "  def wrapper():\n",
        "    print('***********************')\n",
        "    func()\n",
        "    print('***********************')\n",
        "  return wrapper\n",
        "\n",
        "@my_decorator\n",
        "def hello():\n",
        "  print('hello')\n",
        "\n",
        "hello()"
      ]
    },
    {
      "cell_type": "code",
      "execution_count": null,
      "metadata": {
        "colab": {
          "base_uri": "https://localhost:8080/"
        },
        "id": "JGXuT9XSP3ue",
        "outputId": "0d9ce629-0d1e-4198-b9b4-95e21486adc8"
      },
      "outputs": [
        {
          "name": "stdout",
          "output_type": "stream",
          "text": [
            "hello wolrd\n",
            "time taken by hello 2.003671884536743 secs\n",
            "4\n",
            "time taken by square 1.0009939670562744 secs\n",
            "8\n",
            "time taken by power 2.1696090698242188e-05 secs\n"
          ]
        }
      ],
      "source": [
        "# anything meaningful?\n",
        "import time\n",
        "\n",
        "def timer(func):\n",
        "  def wrapper(*args):\n",
        "    start = time.time()\n",
        "    func(*args)\n",
        "    print('time taken by',func.__name__,time.time()-start,'secs')\n",
        "  return wrapper\n",
        "\n",
        "@timer\n",
        "def hello():\n",
        "  print('hello wolrd')\n",
        "  time.sleep(2)\n",
        "\n",
        "@timer\n",
        "def square(num):\n",
        "  time.sleep(1)\n",
        "  print(num**2)\n",
        "\n",
        "@timer\n",
        "def power(a,b):\n",
        "  print(a**b)\n",
        "\n",
        "hello()\n",
        "square(2)\n",
        "power(2,3)\n"
      ]
    },
    {
      "cell_type": "code",
      "execution_count": null,
      "metadata": {
        "id": "tF12z0_-VG8y"
      },
      "outputs": [],
      "source": [
        "# A big problem"
      ]
    },
    {
      "cell_type": "code",
      "execution_count": null,
      "metadata": {
        "id": "WDb2Cn_PQAA9"
      },
      "outputs": [],
      "source": [
        "# One last example -> decorators with arguments\n"
      ]
    },
    {
      "cell_type": "code",
      "execution_count": null,
      "metadata": {
        "id": "Ngoztw_GQEa9"
      },
      "outputs": [],
      "source": [
        "@checkdt(int)\n",
        "def square(num):\n",
        "  print(num**2)"
      ]
    },
    {
      "cell_type": "code",
      "execution_count": 3,
      "metadata": {
        "colab": {
          "base_uri": "https://localhost:8080/"
        },
        "id": "hjjt65fYSri2",
        "outputId": "555806f0-a2b9-4f76-c5ec-6b91aaa76c34"
      },
      "outputs": [
        {
          "name": "stdout",
          "output_type": "stream",
          "text": [
            "9\n"
          ]
        }
      ],
      "source": [
        "def sanity_check(data_type):\n",
        "  def outer_wrapper(func):\n",
        "    def inner_wrapper(*args):\n",
        "      if type(*args) == data_type:\n",
        "        func(*args)\n",
        "      else:\n",
        "        raise TypeError('Ye datatype nai chalega')\n",
        "    return inner_wrapper\n",
        "  return outer_wrapper\n",
        "\n",
        "@sanity_check(int)\n",
        "def square(num):\n",
        "  print(num**2)\n",
        "\n",
        "@sanity_check(str)\n",
        "def greet(name):\n",
        "  print('hello',name)\n",
        "\n",
        "square(3)"
      ]
    },
    {
      "cell_type": "code",
      "execution_count": null,
      "metadata": {
        "id": "Xn-HNkj0TXcx"
      },
      "outputs": [],
      "source": []
    },
    {
      "cell_type": "code",
      "execution_count": null,
      "metadata": {
        "id": "FB3Uky2BStKg"
      },
      "outputs": [],
      "source": []
    }
  ],
  "metadata": {
    "colab": {
      "provenance": []
    },
    "kernelspec": {
      "display_name": "Python 3",
      "name": "python3"
    },
    "language_info": {
      "codemirror_mode": {
        "name": "ipython",
        "version": 3
      },
      "file_extension": ".py",
      "mimetype": "text/x-python",
      "name": "python",
      "nbconvert_exporter": "python",
      "pygments_lexer": "ipython3",
      "version": "3.13.2"
    }
  },
  "nbformat": 4,
  "nbformat_minor": 0
}
